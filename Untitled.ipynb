{
 "cells": [
  {
   "cell_type": "code",
   "execution_count": 17,
   "id": "cfd80731",
   "metadata": {},
   "outputs": [],
   "source": [
    "import pandas as pd\n",
    "\n",
    "import pandas_datareader as pdr\n",
    "#helps in remotely accessing data from sites\n",
    "\n",
    "import matplotlib.pyplot as plt"
   ]
  },
  {
   "cell_type": "markdown",
   "id": "acabc882",
   "metadata": {},
   "source": [
    "# Data Collection\n",
    "Importing stock data from Tiingo, which is supported by pandas_datareader\n",
    "stock price for aaple- AAPL"
   ]
  },
  {
   "cell_type": "code",
   "execution_count": 5,
   "id": "25b4ad1d",
   "metadata": {},
   "outputs": [],
   "source": [
    "df= pdr.get_data_tiingo('AAPL', api_key=\"77f2b1c33ecff205fd3489be2a3b5d3ad9595913\"\n",
    ")"
   ]
  },
  {
   "cell_type": "code",
   "execution_count": 8,
   "id": "5f6080b4",
   "metadata": {},
   "outputs": [],
   "source": [
    "df.to_csv('AAPL.csv')"
   ]
  },
  {
   "cell_type": "code",
   "execution_count": 34,
   "id": "5d6104dc",
   "metadata": {},
   "outputs": [
    {
     "data": {
      "text/html": [
       "<div>\n",
       "<style scoped>\n",
       "    .dataframe tbody tr th:only-of-type {\n",
       "        vertical-align: middle;\n",
       "    }\n",
       "\n",
       "    .dataframe tbody tr th {\n",
       "        vertical-align: top;\n",
       "    }\n",
       "\n",
       "    .dataframe thead th {\n",
       "        text-align: right;\n",
       "    }\n",
       "</style>\n",
       "<table border=\"1\" class=\"dataframe\">\n",
       "  <thead>\n",
       "    <tr style=\"text-align: right;\">\n",
       "      <th></th>\n",
       "      <th>symbol</th>\n",
       "      <th>date</th>\n",
       "      <th>close</th>\n",
       "      <th>high</th>\n",
       "      <th>low</th>\n",
       "      <th>open</th>\n",
       "      <th>volume</th>\n",
       "      <th>adjClose</th>\n",
       "      <th>adjHigh</th>\n",
       "      <th>adjLow</th>\n",
       "      <th>adjOpen</th>\n",
       "      <th>adjVolume</th>\n",
       "      <th>divCash</th>\n",
       "      <th>splitFactor</th>\n",
       "    </tr>\n",
       "  </thead>\n",
       "  <tbody>\n",
       "    <tr>\n",
       "      <th>0</th>\n",
       "      <td>AAPL</td>\n",
       "      <td>2017-02-27 00:00:00+00:00</td>\n",
       "      <td>136.93</td>\n",
       "      <td>137.4350</td>\n",
       "      <td>136.280</td>\n",
       "      <td>137.14</td>\n",
       "      <td>20257426</td>\n",
       "      <td>32.316004</td>\n",
       "      <td>32.435186</td>\n",
       "      <td>32.162601</td>\n",
       "      <td>32.365565</td>\n",
       "      <td>81029704</td>\n",
       "      <td>0.0</td>\n",
       "      <td>1.0</td>\n",
       "    </tr>\n",
       "    <tr>\n",
       "      <th>1</th>\n",
       "      <td>AAPL</td>\n",
       "      <td>2017-02-28 00:00:00+00:00</td>\n",
       "      <td>136.99</td>\n",
       "      <td>137.4350</td>\n",
       "      <td>136.700</td>\n",
       "      <td>137.08</td>\n",
       "      <td>23482860</td>\n",
       "      <td>32.330164</td>\n",
       "      <td>32.435186</td>\n",
       "      <td>32.261723</td>\n",
       "      <td>32.351404</td>\n",
       "      <td>93931440</td>\n",
       "      <td>0.0</td>\n",
       "      <td>1.0</td>\n",
       "    </tr>\n",
       "    <tr>\n",
       "      <th>2</th>\n",
       "      <td>AAPL</td>\n",
       "      <td>2017-03-01 00:00:00+00:00</td>\n",
       "      <td>139.79</td>\n",
       "      <td>140.1500</td>\n",
       "      <td>137.595</td>\n",
       "      <td>137.89</td>\n",
       "      <td>36414585</td>\n",
       "      <td>32.990975</td>\n",
       "      <td>33.075936</td>\n",
       "      <td>32.472946</td>\n",
       "      <td>32.542568</td>\n",
       "      <td>145658340</td>\n",
       "      <td>0.0</td>\n",
       "      <td>1.0</td>\n",
       "    </tr>\n",
       "    <tr>\n",
       "      <th>3</th>\n",
       "      <td>AAPL</td>\n",
       "      <td>2017-03-02 00:00:00+00:00</td>\n",
       "      <td>138.96</td>\n",
       "      <td>140.2786</td>\n",
       "      <td>138.760</td>\n",
       "      <td>140.00</td>\n",
       "      <td>26210984</td>\n",
       "      <td>32.795092</td>\n",
       "      <td>33.106286</td>\n",
       "      <td>32.747891</td>\n",
       "      <td>33.040536</td>\n",
       "      <td>104843936</td>\n",
       "      <td>0.0</td>\n",
       "      <td>1.0</td>\n",
       "    </tr>\n",
       "    <tr>\n",
       "      <th>4</th>\n",
       "      <td>AAPL</td>\n",
       "      <td>2017-03-03 00:00:00+00:00</td>\n",
       "      <td>139.78</td>\n",
       "      <td>139.8300</td>\n",
       "      <td>138.590</td>\n",
       "      <td>138.78</td>\n",
       "      <td>21571121</td>\n",
       "      <td>32.988615</td>\n",
       "      <td>33.000415</td>\n",
       "      <td>32.707770</td>\n",
       "      <td>32.752611</td>\n",
       "      <td>86284484</td>\n",
       "      <td>0.0</td>\n",
       "      <td>1.0</td>\n",
       "    </tr>\n",
       "  </tbody>\n",
       "</table>\n",
       "</div>"
      ],
      "text/plain": [
       "  symbol                       date   close      high      low    open  \\\n",
       "0   AAPL  2017-02-27 00:00:00+00:00  136.93  137.4350  136.280  137.14   \n",
       "1   AAPL  2017-02-28 00:00:00+00:00  136.99  137.4350  136.700  137.08   \n",
       "2   AAPL  2017-03-01 00:00:00+00:00  139.79  140.1500  137.595  137.89   \n",
       "3   AAPL  2017-03-02 00:00:00+00:00  138.96  140.2786  138.760  140.00   \n",
       "4   AAPL  2017-03-03 00:00:00+00:00  139.78  139.8300  138.590  138.78   \n",
       "\n",
       "     volume   adjClose    adjHigh     adjLow    adjOpen  adjVolume  divCash  \\\n",
       "0  20257426  32.316004  32.435186  32.162601  32.365565   81029704      0.0   \n",
       "1  23482860  32.330164  32.435186  32.261723  32.351404   93931440      0.0   \n",
       "2  36414585  32.990975  33.075936  32.472946  32.542568  145658340      0.0   \n",
       "3  26210984  32.795092  33.106286  32.747891  33.040536  104843936      0.0   \n",
       "4  21571121  32.988615  33.000415  32.707770  32.752611   86284484      0.0   \n",
       "\n",
       "   splitFactor  \n",
       "0          1.0  \n",
       "1          1.0  \n",
       "2          1.0  \n",
       "3          1.0  \n",
       "4          1.0  "
      ]
     },
     "execution_count": 34,
     "metadata": {},
     "output_type": "execute_result"
    }
   ],
   "source": [
    "df= pd.read_csv('AAPL.csv')\n",
    "df.head()\n"
   ]
  },
  {
   "cell_type": "code",
   "execution_count": 59,
   "id": "94cde0ee",
   "metadata": {},
   "outputs": [],
   "source": [
    "df1= df.reset_index()['close']\n"
   ]
  },
  {
   "cell_type": "code",
   "execution_count": 60,
   "id": "4fb70acb",
   "metadata": {},
   "outputs": [
    {
     "data": {
      "text/plain": [
       "0    136.93\n",
       "1    136.99\n",
       "2    139.79\n",
       "3    138.96\n",
       "4    139.78\n",
       "Name: close, dtype: float64"
      ]
     },
     "execution_count": 60,
     "metadata": {},
     "output_type": "execute_result"
    }
   ],
   "source": [
    "df1.head()"
   ]
  },
  {
   "cell_type": "code",
   "execution_count": 50,
   "id": "4327b7a9",
   "metadata": {},
   "outputs": [
    {
     "data": {
      "text/plain": [
       "[<matplotlib.lines.Line2D at 0x19ed7f585e0>]"
      ]
     },
     "execution_count": 50,
     "metadata": {},
     "output_type": "execute_result"
    },
    {
     "data": {
      "image/png": "[encoded data removed]",
      "text/plain": [
       "<Figure size 432x288 with 1 Axes>"
      ]
     },
     "metadata": {
      "needs_background": "light"
     },
     "output_type": "display_data"
    }
   ],
   "source": [
    "plt.plot(df1)"
   ]
  },
  {
   "cell_type": "markdown",
   "id": "8d7324ac",
   "metadata": {},
   "source": [
    "LSTM is sensitive to scale of data, we are using MinMax scalar"
   ]
  },
  {
   "cell_type": "code",
   "execution_count": 51,
   "id": "890e90c9",
   "metadata": {},
   "outputs": [],
   "source": [
    "import numpy as np"
   ]
  },
  {
   "cell_type": "code",
   "execution_count": 52,
   "id": "dcc8aa63",
   "metadata": {},
   "outputs": [
    {
     "name": "stdout",
     "output_type": "stream",
     "text": [
      "[[0.07536631]\n",
      " [0.07551659]\n",
      " [0.08252974]\n",
      " ...\n",
      " [0.13332498]\n",
      " [0.14001252]\n",
      " [0.14529743]]\n"
     ]
    },
    {
     "data": {
      "text/plain": [
       "(1260, 1)"
      ]
     },
     "execution_count": 52,
     "metadata": {},
     "output_type": "execute_result"
    }
   ],
   "source": [
    "from sklearn.preprocessing import MinMaxScaler\n",
    "scalar= MinMaxScaler(feature_range=(0,1))\n",
    "df1= scalar.fit_transform(np.array(df1).reshape(-1,1))\n",
    "\n",
    "print(df1)\n",
    "df1.shape\n"
   ]
  },
  {
   "cell_type": "markdown",
   "id": "9e75097b",
   "metadata": {},
   "source": [
    "# Training and Testing\n",
    "first split the dataset"
   ]
  },
  {
   "cell_type": "code",
   "execution_count": 53,
   "id": "e52ac197",
   "metadata": {},
   "outputs": [],
   "source": [
    "training_size= int(len(df1)*0.65)\n",
    "test_size= len(df1)- training_size\n",
    "train_data, test_data = df1[0:training_size,:], df1[training_size:len(df1), :1]"
   ]
  },
  {
   "cell_type": "code",
   "execution_count": 54,
   "id": "6bf6dbb1",
   "metadata": {},
   "outputs": [
    {
     "data": {
      "text/plain": [
       "(819, 441)"
      ]
     },
     "execution_count": 54,
     "metadata": {},
     "output_type": "execute_result"
    }
   ],
   "source": [
    "training_size, test_size"
   ]
  },
  {
   "cell_type": "code",
   "execution_count": 56,
   "id": "786a89e3",
   "metadata": {},
   "outputs": [
    {
     "data": {
      "text/plain": [
       "(819, 441)"
      ]
     },
     "execution_count": 56,
     "metadata": {},
     "output_type": "execute_result"
    }
   ],
   "source": [
    "len(train_data), len(test_data)"
   ]
  },
  {
   "cell_type": "markdown",
   "id": "275020c2",
   "metadata": {},
   "source": [
    "Assigning time-steps so as to know how many past days dta to be considered for presiction\n"
   ]
  },
  {
   "cell_type": "code",
   "execution_count": 62,
   "id": "0ccb68e0",
   "metadata": {},
   "outputs": [],
   "source": [
    "#Convert an array of values into dataset matrix\n",
    "\n",
    "def create_dataset(dataset, time_step=1):\n",
    "    dataX, dataY= [],[]\n",
    "    for i in range(len(dataset)- time_step-1):\n",
    "        a= dataset[i:(i+time_step), 0]\n",
    "        dataX.append(a)\n",
    "        dataY.append(dataset[i+ time_step, 0])\n",
    "    return np.array(dataX), np.array(dataY)"
   ]
  },
  {
   "cell_type": "code",
   "execution_count": 63,
   "id": "9c975605",
   "metadata": {},
   "outputs": [],
   "source": [
    "#reshape into X=t, t+1, t+2, t+3 and Y=t+4\n",
    "\n",
    "time_step =100\n",
    "x_train, y_train= create_dataset(train_data, time_step)\n",
    "x_test, y_test= create_dataset(test_data, time_step)"
   ]
  },
  {
   "cell_type": "code",
   "execution_count": 64,
   "id": "9fb1e0e2",
   "metadata": {},
   "outputs": [
    {
     "data": {
      "text/plain": [
       "(array([[0.07536631, 0.07551659, 0.08252974, ..., 0.10700063, 0.10830307,\n",
       "         0.11065748],\n",
       "        [0.07551659, 0.08252974, 0.08045085, ..., 0.10830307, 0.11065748,\n",
       "         0.10895429],\n",
       "        [0.08252974, 0.08045085, 0.0825047 , ..., 0.11065748, 0.10895429,\n",
       "         0.10877896],\n",
       "        ...,\n",
       "        [0.46256731, 0.46790232, 0.48468378, ..., 0.51671885, 0.53197245,\n",
       "         0.52601127],\n",
       "        [0.46790232, 0.48468378, 0.47737007, ..., 0.53197245, 0.52601127,\n",
       "         0.53112085],\n",
       "        [0.48468378, 0.47737007, 0.4833062 , ..., 0.52601127, 0.53112085,\n",
       "         0.52571071]]),\n",
       " array([0.10895429, 0.10877896, 0.11333751, 0.11496556, 0.11676894,\n",
       "        0.10950532, 0.10685034, 0.10492173, 0.10822793, 0.12598622,\n",
       "        0.12205385, 0.1241077 , 0.13016907, 0.13335003, 0.13580463,\n",
       "        0.12142768, 0.12683782, 0.13277395, 0.13715717, 0.13552912,\n",
       "        0.12778961, 0.12688791, 0.12616155, 0.13259862, 0.13309956,\n",
       "        0.13132123, 0.132799  , 0.13683156, 0.14043832, 0.14154039,\n",
       "        0.14316844, 0.14329368, 0.13835942, 0.13793363, 0.13630557,\n",
       "        0.12971822, 0.1369067 , 0.13530369, 0.13227301, 0.12884158,\n",
       "        0.13284909, 0.12981841, 0.12996869, 0.1233062 , 0.11659361,\n",
       "        0.11283657, 0.10948028, 0.11596744, 0.11869756, 0.1163181 ,\n",
       "        0.11842204, 0.11764559, 0.11932373, 0.11681904, 0.12160301,\n",
       "        0.12137758, 0.12273012, 0.1228804 , 0.12450845, 0.12313087,\n",
       "        0.12561052, 0.13284909, 0.13432686, 0.13254853, 0.12308078,\n",
       "        0.12375704, 0.12355667, 0.12588604, 0.1241578 , 0.12666249,\n",
       "        0.14078898, 0.14998121, 0.15579211, 0.15040701, 0.15346274,\n",
       "        0.16445836, 0.16884158, 0.17024421, 0.17382592, 0.17292423,\n",
       "        0.16989355, 0.16814026, 0.16155291, 0.1558923 , 0.16095178,\n",
       "        0.15857232, 0.15814652, 0.16606137, 0.17061991, 0.17064496,\n",
       "        0.16844083, 0.16588604, 0.15689418, 0.16283031, 0.16082655,\n",
       "        0.15769568, 0.15729493, 0.15571697, 0.15649343, 0.15661866,\n",
       "        0.16488416, 0.1624546 , 0.16388228, 0.16375704, 0.16814026,\n",
       "        0.17427677, 0.16956794, 0.16909205, 0.17074515, 0.17074515,\n",
       "        0.1596243 , 0.15969944, 0.16090169, 0.156268  , 0.16385723,\n",
       "        0.16378209, 0.16578585, 0.1707201 , 0.16909205, 0.16904195,\n",
       "        0.16894177, 0.17142142, 0.17595492, 0.17370069, 0.18098936,\n",
       "        0.18139011, 0.17938635, 0.17572949, 0.17582968, 0.16876644,\n",
       "        0.16097683, 0.16197871, 0.15308704, 0.15060739, 0.15175955,\n",
       "        0.15263619, 0.134402  , 0.12435817, 0.14073889, 0.1319975 ,\n",
       "        0.12100188, 0.1241578 , 0.13993738, 0.14402004, 0.15160927,\n",
       "        0.16568566, 0.16428303, 0.16283031, 0.16087664, 0.16445836,\n",
       "        0.17197245, 0.18066374, 0.17921102, 0.17853475, 0.1707201 ,\n",
       "        0.17375078, 0.17527865, 0.17490294, 0.17079524, 0.17557921,\n",
       "        0.18319349, 0.18755166, 0.18316844, 0.17933626, 0.17986224,\n",
       "        0.17828428, 0.17147151, 0.17132123, 0.16137758, 0.15531622,\n",
       "        0.14552286, 0.16513463, 0.15403882, 0.14938009, 0.15263619,\n",
       "        0.14988103, 0.15416406, 0.16222918, 0.16520977, 0.15413901,\n",
       "        0.15832185, 0.16633688, 0.16430808, 0.16856606, 0.17004383,\n",
       "        0.17277395, 0.17883532, 0.17783344, 0.16520977, 0.14747652,\n",
       "        0.14627426, 0.14051346, 0.1422918 , 0.14371947, 0.13896055,\n",
       "        0.14632436, 0.15594239, 0.17465247, 0.17545398, 0.19283657,\n",
       "        0.19616781, 0.19839699, 0.20167815, 0.20839073, 0.20475892,\n",
       "        0.20365686, 0.19937383, 0.203732  , 0.20075141, 0.19904822,\n",
       "        0.20235441, 0.20117721, 0.20418284, 0.20365686, 0.20473388,\n",
       "        0.20303068, 0.2020288 , 0.20045085, 0.20889167, 0.21287414,\n",
       "        0.21658109, 0.21825924, 0.21695679, 0.21254853, 0.21137132,\n",
       "        0.21400125, 0.21004383, 0.2102943 , 0.2053851 , 0.20513463,\n",
       "        0.1974953 , 0.19952411, 0.19691922, 0.19556669, 0.18867877,\n",
       "        0.19433939, 0.19366312, 0.19701941, 0.19604258, 0.2012273 ,\n",
       "        0.19306199, 0.19676894, 0.20320601, 0.20974327, 0.20916719,\n",
       "        0.20298059, 0.21087038, 0.21162179, 0.21056982, 0.21192235,\n",
       "        0.20929242, 0.21299937, 0.21189731, 0.21232311, 0.21580463,\n",
       "        0.22036318, 0.21883532, 0.21074515, 0.20806512, 0.20901691,\n",
       "        0.23709455, 0.25184721, 0.25335003, 0.2560551 , 0.2511459 ,\n",
       "        0.25149656, 0.25557921, 0.25219787, 0.25555416, 0.2577583 ,\n",
       "        0.2589856 , 0.26670006, 0.27737007, 0.27206011, 0.27100814,\n",
       "        0.27103319, 0.27213525, 0.2738134 , 0.27827176, 0.28268003,\n",
       "        0.29089543, 0.29603006, 0.30254227, 0.3043707 , 0.3006387 ,\n",
       "        0.29119599, 0.28668754, 0.27924859, 0.29307451, 0.28611146,\n",
       "        0.29948654, 0.29304947, 0.27812148, 0.27902317, 0.27934878,\n",
       "        0.28350657, 0.27757044, 0.28541014, 0.28891672, 0.28448341,\n",
       "        0.29582968, 0.29780839, 0.30161553, 0.30667502, 0.31366312,\n",
       "        0.30344396, 0.29417658, 0.29287414, 0.3006387 , 0.27431434,\n",
       "        0.26953037, 0.28871634, 0.27681904, 0.28881653, 0.28641202,\n",
       "        0.27346274, 0.28170319, 0.28505949, 0.29026925, 0.27113338,\n",
       "        0.28293049, 0.27416406, 0.26399499, 0.26664997, 0.28057608,\n",
       "        0.28899186, 0.25207264, 0.23731997, 0.24278021, 0.25825924,\n",
       "        0.25460238, 0.2445335 , 0.21873513, 0.21387602, 0.20027552,\n",
       "        0.21182217, 0.21713212, 0.1979211 , 0.1756794 , 0.17517846,\n",
       "        0.16393237, 0.16976832, 0.16881653, 0.185598  , 0.18211647,\n",
       "        0.17968691, 0.19531622, 0.17495304, 0.17001879, 0.15441453,\n",
       "        0.15719474, 0.15476518, 0.15594239, 0.16057608, 0.14687539,\n",
       "        0.14301816, 0.14835316, 0.13537884, 0.12520977, 0.10993112,\n",
       "        0.10016281, 0.12606137, 0.12350657, 0.12370695, 0.12748904,\n",
       "        0.12793989, 0.08854101, 0.10374452, 0.10291797, 0.10998121,\n",
       "        0.11639324, 0.11762054, 0.11383845, 0.10810269, 0.11579211,\n",
       "        0.12047589, 0.12278021, 0.12518472, 0.11636819, 0.1179211 ,\n",
       "        0.11486537, 0.12753914, 0.12388228, 0.11982467, 0.14629931,\n",
       "        0.1492799 , 0.14948028, 0.16132749, 0.16866625, 0.16881653,\n",
       "        0.16055103, 0.15922354, 0.15676894, 0.1604258 , 0.15864746,\n",
       "        0.16020038, 0.15924859, 0.16052599, 0.16328115, 0.1608516 ,\n",
       "        0.16563557, 0.16879148, 0.16904195, 0.17039449, 0.16608641,\n",
       "        0.17064496, 0.17284909, 0.17204759, 0.16951785, 0.16445836,\n",
       "        0.16548528, 0.18048842, 0.18552286, 0.18752661, 0.1925861 ,\n",
       "        0.19857232, 0.20333125, 0.19959925, 0.2036819 , 0.22103945,\n",
       "        0.21092048, 0.20513463, 0.20025047, 0.20445836, 0.20508453,\n",
       "        0.20816531, 0.21139637, 0.21835942, 0.22169067, 0.22254227,\n",
       "        0.22582342, 0.23358798, 0.23208516, 0.23489042, 0.23070758,\n",
       "        0.2305072 , 0.23140889, 0.23145899, 0.24117721, 0.24300564,\n",
       "        0.24468378, 0.25207264, 0.25127113, 0.2465623 , 0.2441077 ,\n",
       "        0.24488416, 0.23501565, 0.25968691, 0.25625548, 0.26276769,\n",
       "        0.25457733, 0.24050094, 0.24060113, 0.23514089, 0.22627426,\n",
       "        0.19757044, 0.20493425, 0.21059487, 0.20849092, 0.20578585,\n",
       "        0.19098309, 0.19977458, 0.19020664, 0.18239198, 0.18066374,\n",
       "        0.17881027, 0.17668128, 0.1789856 , 0.17089543, 0.16646212,\n",
       "        0.18234189, 0.18960551, 0.1963181 , 0.20866625, 0.21475266,\n",
       "        0.22033813, 0.21878522, 0.21868503, 0.21515341, 0.21803381,\n",
       "        0.22945523, 0.2280025 , 0.23198497, 0.23028178, 0.22978084,\n",
       "        0.2222417 , 0.23283657, 0.23268629, 0.22812774, 0.23721979,\n",
       "        0.24017533, 0.24438322, 0.24393237, 0.2333876 , 0.23644333,\n",
       "        0.24142768, 0.23772073, 0.24160301, 0.24638698, 0.24460864,\n",
       "        0.24172824, 0.24751409, 0.23982467, 0.25142142, 0.25547902,\n",
       "        0.25505322, 0.25092048, 0.25272386, 0.25758297, 0.25532874,\n",
       "        0.26599875, 0.2544521 , 0.24340639, 0.21665623, 0.22582342,\n",
       "        0.230933  , 0.24192862, 0.23581716, 0.23453976, 0.25580463,\n",
       "        0.24022542, 0.23769568, 0.24961803, 0.25926111, 0.25928616,\n",
       "        0.26499687, 0.26454602, 0.23994991, 0.24959299, 0.24375704,\n",
       "        0.24718848, 0.25590482, 0.25522855, 0.24761428, 0.25635567,\n",
       "        0.26659987, 0.26654978, 0.26882905, 0.27516594, 0.29242329,\n",
       "        0.29117095, 0.28030056, 0.28318096, 0.28518472, 0.29036944,\n",
       "        0.28583594, 0.27774577, 0.28022542, 0.27762054, 0.28601127,\n",
       "        0.28315592, 0.28047589, 0.29337508, 0.29492799, 0.28082655,\n",
       "        0.28548528, 0.30098936, 0.30111459, 0.2944521 , 0.30103945,\n",
       "        0.30870382, 0.32403256, 0.32318096, 0.32180338, 0.31942392,\n",
       "        0.32170319, 0.3245335 , 0.33480276, 0.33342517, 0.34149029,\n",
       "        0.34249217, 0.35000626, 0.35619286, 0.34176581, 0.34169067,\n",
       "        0.3554665 , 0.37314966, 0.37735755, 0.37643081, 0.37670632,\n",
       "        0.38219161, 0.38396994, 0.38912962, 0.38852849, 0.39481528,\n",
       "        0.39023168, 0.39804634, 0.40140263, 0.39937383, 0.39160927,\n",
       "        0.38865373, 0.38807765, 0.3995742 , 0.39436443, 0.40325611,\n",
       "        0.40177833, 0.39403882, 0.3822417 , 0.38797746, 0.39759549,\n",
       "        0.41044458, 0.40095178, 0.40485911, 0.41059487, 0.41232311,\n",
       "        0.42156544, 0.43336255, 0.43474014, 0.43306199, 0.43376331,\n",
       "        0.43231058, 0.443732  , 0.44440827, 0.45853475, 0.45825924,\n",
       "        0.46256731, 0.46790232, 0.48468378, 0.47737007, 0.4833062 ,\n",
       "        0.47977458, 0.49179712, 0.50792736, 0.50968065, 0.52628679,\n",
       "        0.51556669, 0.51221039, 0.52197871, 0.5307201 , 0.52530996,\n",
       "        0.52814026, 0.53197245, 0.52966813, 0.50622417, 0.52811522,\n",
       "        0.54477145, 0.54359424, 0.5076268 , 0.50549781, 0.53102066,\n",
       "        0.53753287, 0.54695053, 0.53397621, 0.53778334, 0.53292423,\n",
       "        0.55193488, 0.54609894, 0.54629931, 0.53139637, 0.54296807,\n",
       "        0.53465247, 0.51649343, 0.47924859, 0.45395116, 0.46539762,\n",
       "        0.41748278, 0.41708203, 0.48082655, 0.45705698, 0.49067001,\n",
       "        0.46607389, 0.45633062, 0.39907326, 0.44708829, 0.42226675,\n",
       "        0.35413901, 0.42862868, 0.33906074, 0.36573575, 0.35023168,\n",
       "        0.34549781, 0.30657483, 0.29437696, 0.35075767, 0.34735128,\n",
       "        0.37971196, 0.35291171, 0.37061991, 0.36931747, 0.33580463,\n",
       "        0.34587351, 0.33705698, 0.38980589, 0.38219161, 0.39882279,\n",
       "        0.40363181, 0.41680651, 0.45137132, 0.44480902, 0.45046963,\n",
       "        0.44072636, 0.42602379, 0.40458359, 0.4239449 , 0.42126487,\n",
       "        0.44115216, 0.4416531 , 0.43015654, 0.45307451, 0.46827802,\n",
       "        0.45643081, 0.46667502, 0.47769568, 0.4853851 , 0.4931747 ,\n",
       "        0.50917971, 0.52140263, 0.51238572, 0.50296807, 0.50770194,\n",
       "        0.50311835, 0.5212774 , 0.51671885, 0.53197245, 0.52601127,\n",
       "        0.53112085, 0.52571071, 0.52916719]))"
      ]
     },
     "execution_count": 64,
     "metadata": {},
     "output_type": "execute_result"
    }
   ],
   "source": [
    "x_train, y_train"
   ]
  },
  {
   "cell_type": "code",
   "execution_count": null,
   "id": "0445c78f",
   "metadata": {},
   "outputs": [],
   "source": []
  }
 ],
 "metadata": {
  "kernelspec": {
   "display_name": "Python 3",
   "language": "python",
   "name": "python3"
  },
  "language_info": {
   "codemirror_mode": {
    "name": "ipython",
    "version": 3
   },
   "file_extension": ".py",
   "mimetype": "text/x-python",
   "name": "python",
   "nbconvert_exporter": "python",
   "pygments_lexer": "ipython3",
   "version": "3.8.8"
  }
 },
 "nbformat": 4,
 "nbformat_minor": 5
}
