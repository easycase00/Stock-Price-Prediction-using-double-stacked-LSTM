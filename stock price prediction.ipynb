{
 "cells": [
  {
   "cell_type": "code",
   "execution_count": 1,
   "id": "cfd80731",
   "metadata": {},
   "outputs": [],
   "source": [
    "import pandas as pd\n",
    "\n",
    "import pandas_datareader as pdr\n",
    "#helps in remotely accessing data from sites\n",
    "\n",
    "import matplotlib.pyplot as plt"
   ]
  },
  {
   "cell_type": "markdown",
   "id": "acabc882",
   "metadata": {},
   "source": [
    "# Data Collection\n",
    "Importing stock data from Tiingo, which is supported by pandas_datareader\n",
    "stock price for aaple- AAPL"
   ]
  },
  {
   "cell_type": "code",
   "execution_count": 2,
   "id": "25b4ad1d",
   "metadata": {},
   "outputs": [],
   "source": [
    "df= pdr.get_data_tiingo('AAPL', api_key=\"77f2b1c33ecff205fd3489be2a3b5d3ad9595913\"\n",
    ")"
   ]
  },
  {
   "cell_type": "code",
   "execution_count": 3,
   "id": "5f6080b4",
   "metadata": {},
   "outputs": [],
   "source": [
    "df.to_csv('AAPL.csv')"
   ]
  },
  {
   "cell_type": "code",
   "execution_count": 4,
   "id": "5d6104dc",
   "metadata": {},
   "outputs": [
    {
     "data": {
      "text/html": [
       "<div>\n",
       "<style scoped>\n",
       "    .dataframe tbody tr th:only-of-type {\n",
       "        vertical-align: middle;\n",
       "    }\n",
       "\n",
       "    .dataframe tbody tr th {\n",
       "        vertical-align: top;\n",
       "    }\n",
       "\n",
       "    .dataframe thead th {\n",
       "        text-align: right;\n",
       "    }\n",
       "</style>\n",
       "<table border=\"1\" class=\"dataframe\">\n",
       "  <thead>\n",
       "    <tr style=\"text-align: right;\">\n",
       "      <th></th>\n",
       "      <th>symbol</th>\n",
       "      <th>date</th>\n",
       "      <th>close</th>\n",
       "      <th>high</th>\n",
       "      <th>low</th>\n",
       "      <th>open</th>\n",
       "      <th>volume</th>\n",
       "      <th>adjClose</th>\n",
       "      <th>adjHigh</th>\n",
       "      <th>adjLow</th>\n",
       "      <th>adjOpen</th>\n",
       "      <th>adjVolume</th>\n",
       "      <th>divCash</th>\n",
       "      <th>splitFactor</th>\n",
       "    </tr>\n",
       "  </thead>\n",
       "  <tbody>\n",
       "    <tr>\n",
       "      <th>0</th>\n",
       "      <td>AAPL</td>\n",
       "      <td>2017-02-28 00:00:00+00:00</td>\n",
       "      <td>136.99</td>\n",
       "      <td>137.4350</td>\n",
       "      <td>136.7000</td>\n",
       "      <td>137.080</td>\n",
       "      <td>23482860</td>\n",
       "      <td>32.330164</td>\n",
       "      <td>32.435186</td>\n",
       "      <td>32.261723</td>\n",
       "      <td>32.351404</td>\n",
       "      <td>93931440</td>\n",
       "      <td>0.0</td>\n",
       "      <td>1.0</td>\n",
       "    </tr>\n",
       "    <tr>\n",
       "      <th>1</th>\n",
       "      <td>AAPL</td>\n",
       "      <td>2017-03-01 00:00:00+00:00</td>\n",
       "      <td>139.79</td>\n",
       "      <td>140.1500</td>\n",
       "      <td>137.5950</td>\n",
       "      <td>137.890</td>\n",
       "      <td>36414585</td>\n",
       "      <td>32.990975</td>\n",
       "      <td>33.075936</td>\n",
       "      <td>32.472946</td>\n",
       "      <td>32.542568</td>\n",
       "      <td>145658340</td>\n",
       "      <td>0.0</td>\n",
       "      <td>1.0</td>\n",
       "    </tr>\n",
       "    <tr>\n",
       "      <th>2</th>\n",
       "      <td>AAPL</td>\n",
       "      <td>2017-03-02 00:00:00+00:00</td>\n",
       "      <td>138.96</td>\n",
       "      <td>140.2786</td>\n",
       "      <td>138.7600</td>\n",
       "      <td>140.000</td>\n",
       "      <td>26210984</td>\n",
       "      <td>32.795092</td>\n",
       "      <td>33.106286</td>\n",
       "      <td>32.747891</td>\n",
       "      <td>33.040536</td>\n",
       "      <td>104843936</td>\n",
       "      <td>0.0</td>\n",
       "      <td>1.0</td>\n",
       "    </tr>\n",
       "    <tr>\n",
       "      <th>3</th>\n",
       "      <td>AAPL</td>\n",
       "      <td>2017-03-03 00:00:00+00:00</td>\n",
       "      <td>139.78</td>\n",
       "      <td>139.8300</td>\n",
       "      <td>138.5900</td>\n",
       "      <td>138.780</td>\n",
       "      <td>21571121</td>\n",
       "      <td>32.988615</td>\n",
       "      <td>33.000415</td>\n",
       "      <td>32.707770</td>\n",
       "      <td>32.752611</td>\n",
       "      <td>86284484</td>\n",
       "      <td>0.0</td>\n",
       "      <td>1.0</td>\n",
       "    </tr>\n",
       "    <tr>\n",
       "      <th>4</th>\n",
       "      <td>AAPL</td>\n",
       "      <td>2017-03-06 00:00:00+00:00</td>\n",
       "      <td>139.34</td>\n",
       "      <td>139.7700</td>\n",
       "      <td>138.5959</td>\n",
       "      <td>139.365</td>\n",
       "      <td>21750044</td>\n",
       "      <td>32.884773</td>\n",
       "      <td>32.986255</td>\n",
       "      <td>32.709163</td>\n",
       "      <td>32.890673</td>\n",
       "      <td>87000176</td>\n",
       "      <td>0.0</td>\n",
       "      <td>1.0</td>\n",
       "    </tr>\n",
       "  </tbody>\n",
       "</table>\n",
       "</div>"
      ],
      "text/plain": [
       "  symbol                       date   close      high       low     open  \\\n",
       "0   AAPL  2017-02-28 00:00:00+00:00  136.99  137.4350  136.7000  137.080   \n",
       "1   AAPL  2017-03-01 00:00:00+00:00  139.79  140.1500  137.5950  137.890   \n",
       "2   AAPL  2017-03-02 00:00:00+00:00  138.96  140.2786  138.7600  140.000   \n",
       "3   AAPL  2017-03-03 00:00:00+00:00  139.78  139.8300  138.5900  138.780   \n",
       "4   AAPL  2017-03-06 00:00:00+00:00  139.34  139.7700  138.5959  139.365   \n",
       "\n",
       "     volume   adjClose    adjHigh     adjLow    adjOpen  adjVolume  divCash  \\\n",
       "0  23482860  32.330164  32.435186  32.261723  32.351404   93931440      0.0   \n",
       "1  36414585  32.990975  33.075936  32.472946  32.542568  145658340      0.0   \n",
       "2  26210984  32.795092  33.106286  32.747891  33.040536  104843936      0.0   \n",
       "3  21571121  32.988615  33.000415  32.707770  32.752611   86284484      0.0   \n",
       "4  21750044  32.884773  32.986255  32.709163  32.890673   87000176      0.0   \n",
       "\n",
       "   splitFactor  \n",
       "0          1.0  \n",
       "1          1.0  \n",
       "2          1.0  \n",
       "3          1.0  \n",
       "4          1.0  "
      ]
     },
     "execution_count": 4,
     "metadata": {},
     "output_type": "execute_result"
    }
   ],
   "source": [
    "df= pd.read_csv('AAPL.csv')\n",
    "df.head()\n"
   ]
  },
  {
   "cell_type": "code",
   "execution_count": 5,
   "id": "94cde0ee",
   "metadata": {},
   "outputs": [],
   "source": [
    "df1= df.reset_index()['close']\n"
   ]
  },
  {
   "cell_type": "code",
   "execution_count": 6,
   "id": "4fb70acb",
   "metadata": {},
   "outputs": [
    {
     "data": {
      "text/plain": [
       "0    136.99\n",
       "1    139.79\n",
       "2    138.96\n",
       "3    139.78\n",
       "4    139.34\n",
       "Name: close, dtype: float64"
      ]
     },
     "execution_count": 6,
     "metadata": {},
     "output_type": "execute_result"
    }
   ],
   "source": [
    "df1.head()"
   ]
  },
  {
   "cell_type": "code",
   "execution_count": 7,
   "id": "4327b7a9",
   "metadata": {},
   "outputs": [
    {
     "data": {
      "text/plain": [
       "[<matplotlib.lines.Line2D at 0x15cb7058e80>]"
      ]
     },
     "execution_count": 7,
     "metadata": {},
     "output_type": "execute_result"
    },
    {
     "data": {
      "image/png": "[encoded data removed]",
      "text/plain": [
       "<Figure size 432x288 with 1 Axes>"
      ]
     },
     "metadata": {
      "needs_background": "light"
     },
     "output_type": "display_data"
    }
   ],
   "source": [
    "plt.plot(df1)"
   ]
  },
  {
   "cell_type": "markdown",
   "id": "8d7324ac",
   "metadata": {},
   "source": [
    "LSTM is sensitive to scale of data, we are using MinMax scalar"
   ]
  },
  {
   "cell_type": "code",
   "execution_count": 8,
   "id": "890e90c9",
   "metadata": {},
   "outputs": [],
   "source": [
    "import numpy as np"
   ]
  },
  {
   "cell_type": "code",
   "execution_count": 9,
   "id": "dcc8aa63",
   "metadata": {},
   "outputs": [
    {
     "name": "stdout",
     "output_type": "stream",
     "text": [
      "[[0.07551659]\n",
      " [0.08252974]\n",
      " [0.08045085]\n",
      " ...\n",
      " [0.13332498]\n",
      " [0.14001252]\n",
      " [0.14529743]]\n"
     ]
    },
    {
     "data": {
      "text/plain": [
       "(1259, 1)"
      ]
     },
     "execution_count": 9,
     "metadata": {},
     "output_type": "execute_result"
    }
   ],
   "source": [
    "from sklearn.preprocessing import MinMaxScaler\n",
    "scalar= MinMaxScaler(feature_range=(0,1))\n",
    "df1= scalar.fit_transform(np.array(df1).reshape(-1,1))\n",
    "\n",
    "print(df1)\n",
    "df1.shape\n"
   ]
  },
  {
   "cell_type": "markdown",
   "id": "9e75097b",
   "metadata": {},
   "source": [
    "# Training and Testing\n",
    "first split the dataset"
   ]
  },
  {
   "cell_type": "code",
   "execution_count": 10,
   "id": "e52ac197",
   "metadata": {},
   "outputs": [],
   "source": [
    "training_size= int(len(df1)*0.65)\n",
    "test_size= len(df1)- training_size\n",
    "train_data, test_data = df1[0:training_size,:], df1[training_size:len(df1), :1]"
   ]
  },
  {
   "cell_type": "code",
   "execution_count": 11,
   "id": "6bf6dbb1",
   "metadata": {},
   "outputs": [
    {
     "data": {
      "text/plain": [
       "(818, 441)"
      ]
     },
     "execution_count": 11,
     "metadata": {},
     "output_type": "execute_result"
    }
   ],
   "source": [
    "training_size, test_size"
   ]
  },
  {
   "cell_type": "code",
   "execution_count": 12,
   "id": "786a89e3",
   "metadata": {},
   "outputs": [
    {
     "data": {
      "text/plain": [
       "(818, 441)"
      ]
     },
     "execution_count": 12,
     "metadata": {},
     "output_type": "execute_result"
    }
   ],
   "source": [
    "len(train_data), len(test_data)"
   ]
  },
  {
   "cell_type": "markdown",
   "id": "275020c2",
   "metadata": {},
   "source": [
    "Assigning time-steps so as to know how many past days dta to be considered for presiction\n"
   ]
  },
  {
   "cell_type": "code",
   "execution_count": 13,
   "id": "0ccb68e0",
   "metadata": {},
   "outputs": [],
   "source": [
    "#Convert an array of values into dataset matrix\n",
    "\n",
    "def create_dataset(dataset, time_step=1):\n",
    "    dataX, dataY= [],[]\n",
    "    for i in range(len(dataset)- time_step-1):\n",
    "        a= dataset[i:(i+time_step), 0]\n",
    "        dataX.append(a)\n",
    "        dataY.append(dataset[i+ time_step, 0])\n",
    "    return np.array(dataX), np.array(dataY)"
   ]
  },
  {
   "cell_type": "code",
   "execution_count": 14,
   "id": "9c975605",
   "metadata": {},
   "outputs": [],
   "source": [
    "#reshape into X=t, t+1, t+2, t+3 and Y=t+4\n",
    "\n",
    "time_step =100\n",
    "x_train, y_train= create_dataset(train_data, time_step)\n",
    "x_test, y_test= create_dataset(test_data, time_step)"
   ]
  },
  {
   "cell_type": "code",
   "execution_count": 15,
   "id": "9fb1e0e2",
   "metadata": {},
   "outputs": [
    {
     "data": {
      "text/plain": [
       "((717, 100), (717,))"
      ]
     },
     "execution_count": 15,
     "metadata": {},
     "output_type": "execute_result"
    }
   ],
   "source": [
    "x_train.shape, y_train.shape"
   ]
  },
  {
   "cell_type": "code",
   "execution_count": 16,
   "id": "0445c78f",
   "metadata": {},
   "outputs": [
    {
     "data": {
      "text/plain": [
       "((340, 100), (340,))"
      ]
     },
     "execution_count": 16,
     "metadata": {},
     "output_type": "execute_result"
    }
   ],
   "source": [
    "x_test.shape, y_test.shape"
   ]
  },
  {
   "cell_type": "markdown",
   "id": "8dafdc0d",
   "metadata": {},
   "source": [
    "reshaping input to be [sample, timesteps, features] which wil be used as LSTM"
   ]
  },
  {
   "cell_type": "code",
   "execution_count": 17,
   "id": "3be89b0a",
   "metadata": {},
   "outputs": [],
   "source": [
    "x_train= x_train.reshape(x_train.shape[0], x_train.shape[1],1)\n",
    "x_test= x_test.reshape(x_test.shape[0], x_test.shape[1],1)"
   ]
  },
  {
   "cell_type": "code",
   "execution_count": 18,
   "id": "57afc2e2",
   "metadata": {},
   "outputs": [],
   "source": [
    "import tensorflow as tf\n",
    "from tensorflow.keras.models import Sequential as sequential\n",
    "from tensorflow.keras.layers import Dense\n",
    "from tensorflow.keras.layers import LSTM"
   ]
  },
  {
   "cell_type": "markdown",
   "id": "32ff39c4",
   "metadata": {},
   "source": [
    "# Creating a stacked LSTM model"
   ]
  },
  {
   "cell_type": "code",
   "execution_count": 19,
   "id": "22a27bbe",
   "metadata": {},
   "outputs": [],
   "source": [
    "model= sequential()\n",
    "model.add(LSTM(50,return_sequences= True, input_shape=(100,1)))\n",
    "model.add(LSTM(50,return_sequences= True,))\n",
    "model.add(LSTM(50))\n",
    "model.add(Dense(1))\n",
    "model.compile(loss='mean_squared_error', optimizer= 'adam')"
   ]
  },
  {
   "cell_type": "code",
   "execution_count": 20,
   "id": "83badb25",
   "metadata": {
    "scrolled": true
   },
   "outputs": [
    {
     "name": "stdout",
     "output_type": "stream",
     "text": [
      "Model: \"sequential\"\n",
      "_________________________________________________________________\n",
      "Layer (type)                 Output Shape              Param #   \n",
      "=================================================================\n",
      "lstm (LSTM)                  (None, 100, 50)           10400     \n",
      "_________________________________________________________________\n",
      "lstm_1 (LSTM)                (None, 100, 50)           20200     \n",
      "_________________________________________________________________\n",
      "lstm_2 (LSTM)                (None, 50)                20200     \n",
      "_________________________________________________________________\n",
      "dense (Dense)                (None, 1)                 51        \n",
      "=================================================================\n",
      "Total params: 50,851\n",
      "Trainable params: 50,851\n",
      "Non-trainable params: 0\n",
      "_________________________________________________________________\n"
     ]
    }
   ],
   "source": [
    "model.summary()"
   ]
  },
  {
   "cell_type": "code",
   "execution_count": 21,
   "id": "5a2bc6cc",
   "metadata": {
    "scrolled": true
   },
   "outputs": [
    {
     "name": "stdout",
     "output_type": "stream",
     "text": [
      "Epoch 1/100\n",
      "12/12 [==============================] - 2s 152ms/step - loss: 0.0272 - val_loss: 0.0046\n",
      "Epoch 2/100\n",
      "12/12 [==============================] - 1s 107ms/step - loss: 0.0050 - val_loss: 0.0085\n",
      "Epoch 3/100\n",
      "12/12 [==============================] - 1s 106ms/step - loss: 0.0028 - val_loss: 0.0016\n",
      "Epoch 4/100\n",
      "12/12 [==============================] - 1s 113ms/step - loss: 0.0014 - val_loss: 2.8474e-04\n",
      "Epoch 5/100\n",
      "12/12 [==============================] - 1s 112ms/step - loss: 0.0013 - val_loss: 2.6216e-04\n",
      "Epoch 6/100\n",
      "12/12 [==============================] - 1s 112ms/step - loss: 0.0011 - val_loss: 3.0981e-04\n",
      "Epoch 7/100\n",
      "12/12 [==============================] - 1s 112ms/step - loss: 9.3549e-04 - val_loss: 4.2249e-04\n",
      "Epoch 8/100\n",
      "12/12 [==============================] - 1s 111ms/step - loss: 9.0317e-04 - val_loss: 2.7127e-04\n",
      "Epoch 9/100\n",
      "12/12 [==============================] - 1s 112ms/step - loss: 9.1180e-04 - val_loss: 3.0879e-04\n",
      "Epoch 10/100\n",
      "12/12 [==============================] - 1s 113ms/step - loss: 8.9651e-04 - val_loss: 2.6964e-04\n",
      "Epoch 11/100\n",
      "12/12 [==============================] - 1s 112ms/step - loss: 7.6348e-04 - val_loss: 2.8568e-04\n",
      "Epoch 12/100\n",
      "12/12 [==============================] - 1s 113ms/step - loss: 7.3248e-04 - val_loss: 2.7071e-04\n",
      "Epoch 13/100\n",
      "12/12 [==============================] - 1s 113ms/step - loss: 7.1105e-04 - val_loss: 2.2063e-04\n",
      "Epoch 14/100\n",
      "12/12 [==============================] - 1s 113ms/step - loss: 6.4011e-04 - val_loss: 1.9002e-04\n",
      "Epoch 15/100\n",
      "12/12 [==============================] - 1s 113ms/step - loss: 8.7289e-04 - val_loss: 2.3617e-04\n",
      "Epoch 16/100\n",
      "12/12 [==============================] - 1s 112ms/step - loss: 7.9183e-04 - val_loss: 2.6457e-04\n",
      "Epoch 17/100\n",
      "12/12 [==============================] - 1s 115ms/step - loss: 5.7734e-04 - val_loss: 2.1715e-04\n",
      "Epoch 18/100\n",
      "12/12 [==============================] - 1s 112ms/step - loss: 5.7566e-04 - val_loss: 1.8027e-04\n",
      "Epoch 19/100\n",
      "12/12 [==============================] - 1s 112ms/step - loss: 5.4814e-04 - val_loss: 1.8244e-04\n",
      "Epoch 20/100\n",
      "12/12 [==============================] - 1s 112ms/step - loss: 5.3500e-04 - val_loss: 2.0019e-04\n",
      "Epoch 21/100\n",
      "12/12 [==============================] - 1s 112ms/step - loss: 5.2985e-04 - val_loss: 1.8012e-04\n",
      "Epoch 22/100\n",
      "12/12 [==============================] - 1s 114ms/step - loss: 5.3753e-04 - val_loss: 1.7757e-04\n",
      "Epoch 23/100\n",
      "12/12 [==============================] - 1s 111ms/step - loss: 4.9044e-04 - val_loss: 1.7969e-04\n",
      "Epoch 24/100\n",
      "12/12 [==============================] - 1s 112ms/step - loss: 4.5421e-04 - val_loss: 1.7817e-04\n",
      "Epoch 25/100\n",
      "12/12 [==============================] - 1s 111ms/step - loss: 4.4692e-04 - val_loss: 1.8543e-04\n",
      "Epoch 26/100\n",
      "12/12 [==============================] - 1s 113ms/step - loss: 4.6525e-04 - val_loss: 1.8842e-04\n",
      "Epoch 27/100\n",
      "12/12 [==============================] - 1s 121ms/step - loss: 5.5216e-04 - val_loss: 1.9412e-04\n",
      "Epoch 28/100\n",
      "12/12 [==============================] - 1s 113ms/step - loss: 4.7731e-04 - val_loss: 1.7503e-04\n",
      "Epoch 29/100\n",
      "12/12 [==============================] - 1s 113ms/step - loss: 4.4813e-04 - val_loss: 1.6869e-04\n",
      "Epoch 30/100\n",
      "12/12 [==============================] - 1s 114ms/step - loss: 4.3528e-04 - val_loss: 1.7744e-04\n",
      "Epoch 31/100\n",
      "12/12 [==============================] - 1s 113ms/step - loss: 4.2994e-04 - val_loss: 1.7833e-04\n",
      "Epoch 32/100\n",
      "12/12 [==============================] - 1s 114ms/step - loss: 4.3465e-04 - val_loss: 1.6997e-04\n",
      "Epoch 33/100\n",
      "12/12 [==============================] - 1s 113ms/step - loss: 4.1024e-04 - val_loss: 1.7180e-04\n",
      "Epoch 34/100\n",
      "12/12 [==============================] - 1s 109ms/step - loss: 4.0456e-04 - val_loss: 1.7726e-04\n",
      "Epoch 35/100\n",
      "12/12 [==============================] - 1s 111ms/step - loss: 4.2609e-04 - val_loss: 1.7072e-04\n",
      "Epoch 36/100\n",
      "12/12 [==============================] - 1s 109ms/step - loss: 4.0071e-04 - val_loss: 1.8366e-04\n",
      "Epoch 37/100\n",
      "12/12 [==============================] - 1s 111ms/step - loss: 4.1857e-04 - val_loss: 1.6539e-04\n",
      "Epoch 38/100\n",
      "12/12 [==============================] - 1s 109ms/step - loss: 4.1463e-04 - val_loss: 1.8861e-04\n",
      "Epoch 39/100\n",
      "12/12 [==============================] - 1s 109ms/step - loss: 4.0757e-04 - val_loss: 1.6951e-04\n",
      "Epoch 40/100\n",
      "12/12 [==============================] - 1s 109ms/step - loss: 4.3280e-04 - val_loss: 1.6912e-04\n",
      "Epoch 41/100\n",
      "12/12 [==============================] - 1s 110ms/step - loss: 4.3245e-04 - val_loss: 1.6324e-04\n",
      "Epoch 42/100\n",
      "12/12 [==============================] - 1s 109ms/step - loss: 4.5418e-04 - val_loss: 2.4260e-04\n",
      "Epoch 43/100\n",
      "12/12 [==============================] - 1s 109ms/step - loss: 4.8346e-04 - val_loss: 1.6284e-04\n",
      "Epoch 44/100\n",
      "12/12 [==============================] - 1s 109ms/step - loss: 3.8668e-04 - val_loss: 1.6058e-04\n",
      "Epoch 45/100\n",
      "12/12 [==============================] - 1s 107ms/step - loss: 4.2040e-04 - val_loss: 1.6084e-04\n",
      "Epoch 46/100\n",
      "12/12 [==============================] - 1s 109ms/step - loss: 4.3096e-04 - val_loss: 1.6480e-04\n",
      "Epoch 47/100\n",
      "12/12 [==============================] - 1s 108ms/step - loss: 3.8440e-04 - val_loss: 1.6022e-04\n",
      "Epoch 48/100\n",
      "12/12 [==============================] - 1s 109ms/step - loss: 3.9081e-04 - val_loss: 2.2134e-04\n",
      "Epoch 49/100\n",
      "12/12 [==============================] - 1s 108ms/step - loss: 3.8466e-04 - val_loss: 1.7395e-04\n",
      "Epoch 50/100\n",
      "12/12 [==============================] - 1s 110ms/step - loss: 3.7051e-04 - val_loss: 1.6940e-04\n",
      "Epoch 51/100\n",
      "12/12 [==============================] - 1s 109ms/step - loss: 3.9056e-04 - val_loss: 1.6339e-04\n",
      "Epoch 52/100\n",
      "12/12 [==============================] - 1s 109ms/step - loss: 4.1173e-04 - val_loss: 2.2192e-04\n",
      "Epoch 53/100\n",
      "12/12 [==============================] - 1s 112ms/step - loss: 5.1418e-04 - val_loss: 1.7570e-04\n",
      "Epoch 54/100\n",
      "12/12 [==============================] - 1s 109ms/step - loss: 4.1559e-04 - val_loss: 2.2680e-04\n",
      "Epoch 55/100\n",
      "12/12 [==============================] - 1s 109ms/step - loss: 3.8346e-04 - val_loss: 1.7117e-04\n",
      "Epoch 56/100\n",
      "12/12 [==============================] - 1s 109ms/step - loss: 3.6498e-04 - val_loss: 1.6006e-04\n",
      "Epoch 57/100\n",
      "12/12 [==============================] - 1s 109ms/step - loss: 3.7834e-04 - val_loss: 2.2195e-04\n",
      "Epoch 58/100\n",
      "12/12 [==============================] - 1s 110ms/step - loss: 3.5775e-04 - val_loss: 1.8352e-04\n",
      "Epoch 59/100\n",
      "12/12 [==============================] - 1s 119ms/step - loss: 3.9073e-04 - val_loss: 1.6720e-04\n",
      "Epoch 60/100\n",
      "12/12 [==============================] - 1s 110ms/step - loss: 4.3240e-04 - val_loss: 2.6564e-04\n",
      "Epoch 61/100\n",
      "12/12 [==============================] - 1s 110ms/step - loss: 4.5650e-04 - val_loss: 1.6803e-04\n",
      "Epoch 62/100\n",
      "12/12 [==============================] - 1s 109ms/step - loss: 3.8571e-04 - val_loss: 1.8528e-04\n",
      "Epoch 63/100\n",
      "12/12 [==============================] - 1s 109ms/step - loss: 3.5167e-04 - val_loss: 1.6929e-04\n",
      "Epoch 64/100\n",
      "12/12 [==============================] - 1s 109ms/step - loss: 3.5724e-04 - val_loss: 2.8510e-04\n",
      "Epoch 65/100\n",
      "12/12 [==============================] - 1s 109ms/step - loss: 3.5716e-04 - val_loss: 1.7510e-04\n",
      "Epoch 66/100\n",
      "12/12 [==============================] - 1s 109ms/step - loss: 3.5159e-04 - val_loss: 2.4447e-04\n",
      "Epoch 67/100\n",
      "12/12 [==============================] - 1s 108ms/step - loss: 3.4825e-04 - val_loss: 1.9694e-04\n",
      "Epoch 68/100\n",
      "12/12 [==============================] - 1s 109ms/step - loss: 3.5867e-04 - val_loss: 2.5283e-04\n",
      "Epoch 69/100\n",
      "12/12 [==============================] - 1s 109ms/step - loss: 3.8482e-04 - val_loss: 1.9613e-04\n",
      "Epoch 70/100\n",
      "12/12 [==============================] - 1s 109ms/step - loss: 3.3105e-04 - val_loss: 2.8364e-04\n",
      "Epoch 71/100\n",
      "12/12 [==============================] - 1s 109ms/step - loss: 4.3134e-04 - val_loss: 1.9414e-04\n",
      "Epoch 72/100\n",
      "12/12 [==============================] - 1s 109ms/step - loss: 4.2745e-04 - val_loss: 3.4604e-04\n",
      "Epoch 73/100\n",
      "12/12 [==============================] - 1s 108ms/step - loss: 3.8825e-04 - val_loss: 2.5447e-04\n",
      "Epoch 74/100\n",
      "12/12 [==============================] - 1s 109ms/step - loss: 5.2221e-04 - val_loss: 2.3290e-04\n",
      "Epoch 75/100\n",
      "12/12 [==============================] - 1s 109ms/step - loss: 4.0938e-04 - val_loss: 4.4320e-04\n"
     ]
    },
    {
     "name": "stdout",
     "output_type": "stream",
     "text": [
      "Epoch 76/100\n",
      "12/12 [==============================] - 1s 109ms/step - loss: 3.4111e-04 - val_loss: 2.1167e-04\n",
      "Epoch 77/100\n",
      "12/12 [==============================] - 1s 109ms/step - loss: 3.5701e-04 - val_loss: 1.7262e-04\n",
      "Epoch 78/100\n",
      "12/12 [==============================] - 1s 109ms/step - loss: 3.2688e-04 - val_loss: 1.9572e-04\n",
      "Epoch 79/100\n",
      "12/12 [==============================] - 1s 109ms/step - loss: 3.1849e-04 - val_loss: 1.9299e-04\n",
      "Epoch 80/100\n",
      "12/12 [==============================] - 1s 109ms/step - loss: 3.4011e-04 - val_loss: 3.8998e-04\n",
      "Epoch 81/100\n",
      "12/12 [==============================] - 1s 108ms/step - loss: 3.4664e-04 - val_loss: 1.9368e-04\n",
      "Epoch 82/100\n",
      "12/12 [==============================] - 1s 110ms/step - loss: 3.1628e-04 - val_loss: 2.0033e-04\n",
      "Epoch 83/100\n",
      "12/12 [==============================] - 1s 108ms/step - loss: 3.1272e-04 - val_loss: 2.5961e-04\n",
      "Epoch 84/100\n",
      "12/12 [==============================] - 1s 109ms/step - loss: 3.3417e-04 - val_loss: 2.4643e-04\n",
      "Epoch 85/100\n",
      "12/12 [==============================] - 1s 109ms/step - loss: 3.0487e-04 - val_loss: 2.3342e-04\n",
      "Epoch 86/100\n",
      "12/12 [==============================] - 1s 109ms/step - loss: 3.1728e-04 - val_loss: 1.8337e-04\n",
      "Epoch 87/100\n",
      "12/12 [==============================] - 1s 110ms/step - loss: 3.1479e-04 - val_loss: 3.2990e-04\n",
      "Epoch 88/100\n",
      "12/12 [==============================] - 1s 110ms/step - loss: 3.0083e-04 - val_loss: 1.8344e-04\n",
      "Epoch 89/100\n",
      "12/12 [==============================] - 1s 109ms/step - loss: 3.0677e-04 - val_loss: 2.8925e-04\n",
      "Epoch 90/100\n",
      "12/12 [==============================] - 1s 109ms/step - loss: 2.9667e-04 - val_loss: 2.0886e-04\n",
      "Epoch 91/100\n",
      "12/12 [==============================] - 1s 108ms/step - loss: 2.9359e-04 - val_loss: 2.1197e-04\n",
      "Epoch 92/100\n",
      "12/12 [==============================] - 1s 109ms/step - loss: 3.0817e-04 - val_loss: 3.3276e-04\n",
      "Epoch 93/100\n",
      "12/12 [==============================] - 1s 110ms/step - loss: 3.0835e-04 - val_loss: 2.0835e-04\n",
      "Epoch 94/100\n",
      "12/12 [==============================] - 1s 109ms/step - loss: 2.9601e-04 - val_loss: 1.9218e-04\n",
      "Epoch 95/100\n",
      "12/12 [==============================] - 1s 109ms/step - loss: 3.0958e-04 - val_loss: 1.9797e-04\n",
      "Epoch 96/100\n",
      "12/12 [==============================] - 1s 110ms/step - loss: 3.1747e-04 - val_loss: 4.0637e-04\n",
      "Epoch 97/100\n",
      "12/12 [==============================] - 1s 109ms/step - loss: 2.9301e-04 - val_loss: 1.7281e-04\n",
      "Epoch 98/100\n",
      "12/12 [==============================] - 1s 109ms/step - loss: 3.7686e-04 - val_loss: 2.4405e-04\n",
      "Epoch 99/100\n",
      "12/12 [==============================] - 1s 109ms/step - loss: 3.3759e-04 - val_loss: 2.5007e-04\n",
      "Epoch 100/100\n",
      "12/12 [==============================] - 1s 108ms/step - loss: 3.3839e-04 - val_loss: 2.4963e-04\n"
     ]
    },
    {
     "data": {
      "text/plain": [
       "<tensorflow.python.keras.callbacks.History at 0x15cc21ec910>"
      ]
     },
     "execution_count": 21,
     "metadata": {},
     "output_type": "execute_result"
    }
   ],
   "source": [
    "model.fit(x_train, y_train, validation_data=(x_test, y_test), epochs=100, batch_size=64, verbose=1)"
   ]
  },
  {
   "cell_type": "markdown",
   "id": "faa22cb2",
   "metadata": {},
   "source": [
    "# Prediction model"
   ]
  },
  {
   "cell_type": "code",
   "execution_count": 30,
   "id": "ced37b69",
   "metadata": {},
   "outputs": [],
   "source": [
    "#prediction and checking performance metrices\n",
    "\n",
    "train_predict= model.predict(x_train)\n",
    "test_predict= model.predict(x_test)"
   ]
  },
  {
   "cell_type": "code",
   "execution_count": 31,
   "id": "6b77c97f",
   "metadata": {},
   "outputs": [],
   "source": [
    "#transform back to original form\n",
    "\n",
    "train_predict= scalar.inverse_transform(train_predict)\n",
    "test_predict= scalar.inverse_transform(test_predict)"
   ]
  },
  {
   "cell_type": "code",
   "execution_count": 32,
   "id": "b66f1876",
   "metadata": {},
   "outputs": [],
   "source": [
    "#calculating RSME(root squared mean) performance metrics\n",
    "\n",
    "import math\n",
    "from sklearn.metrics import mean_squared_error\n"
   ]
  },
  {
   "cell_type": "code",
   "execution_count": 33,
   "id": "0fbd7707",
   "metadata": {},
   "outputs": [
    {
     "data": {
      "text/plain": [
       "213.44985187046277"
      ]
     },
     "execution_count": 33,
     "metadata": {},
     "output_type": "execute_result"
    }
   ],
   "source": [
    "#train data RMSE\n",
    "\n",
    "math.sqrt(mean_squared_error(y_train, train_predict))"
   ]
  },
  {
   "cell_type": "code",
   "execution_count": 34,
   "id": "5a734fbb",
   "metadata": {},
   "outputs": [
    {
     "data": {
      "text/plain": [
       "145.9985581072605"
      ]
     },
     "execution_count": 34,
     "metadata": {},
     "output_type": "execute_result"
    }
   ],
   "source": [
    "#test data RMSE\n",
    "\n",
    "\n",
    "math.sqrt(mean_squared_error(y_test, test_predict))"
   ]
  },
  {
   "cell_type": "markdown",
   "id": "786fb0be",
   "metadata": {},
   "source": [
    "# Plotting"
   ]
  },
  {
   "cell_type": "code",
   "execution_count": 35,
   "id": "69c00af2",
   "metadata": {},
   "outputs": [
    {
     "data": {
      "image/png": "[encoded data removed]",
      "text/plain": [
       "<Figure size 432x288 with 1 Axes>"
      ]
     },
     "metadata": {
      "needs_background": "light"
     },
     "output_type": "display_data"
    }
   ],
   "source": [
    "# shift train predictions for plotting\n",
    "look_back=100\n",
    "trainPredictPlot = np.empty_like(df1)\n",
    "trainPredictPlot[:, :] = np.nan\n",
    "trainPredictPlot[look_back:len(train_predict)+look_back, :] = train_predict\n",
    "# shift test predictions for plotting\n",
    "testPredictPlot = np.empty_like(df1)\n",
    "testPredictPlot[:, :] = np.nan\n",
    "testPredictPlot[len(train_predict)+(look_back*2)+1:len(df1)-1, :] = test_predict\n",
    "# plot baseline and predictions\n",
    "plt.plot(scalar.inverse_transform(df1))\n",
    "plt.plot(trainPredictPlot)\n",
    "plt.plot(testPredictPlot)\n",
    "plt.show()"
   ]
  },
  {
   "cell_type": "code",
   "execution_count": 63,
   "id": "95d2a1ce",
   "metadata": {},
   "outputs": [
    {
     "data": {
      "text/plain": [
       "441"
      ]
     },
     "execution_count": 63,
     "metadata": {},
     "output_type": "execute_result"
    }
   ],
   "source": [
    "len(test_data)"
   ]
  },
  {
   "cell_type": "code",
   "execution_count": 70,
   "id": "46fbdb3e",
   "metadata": {},
   "outputs": [
    {
     "data": {
      "text/plain": [
       "(1, 100)"
      ]
     },
     "execution_count": 70,
     "metadata": {},
     "output_type": "execute_result"
    }
   ],
   "source": [
    "x_input=test_data[341:].reshape(1,-1)\n",
    "x_input.shape"
   ]
  },
  {
   "cell_type": "code",
   "execution_count": 71,
   "id": "8fd372fd",
   "metadata": {
    "scrolled": true
   },
   "outputs": [
    {
     "data": {
      "text/plain": [
       "[0.08583594239198494,\n",
       " 0.08806512210394485,\n",
       " 0.09129618033813391,\n",
       " 0.09031934877896053,\n",
       " 0.09009392611145894,\n",
       " 0.0868378209142141,\n",
       " 0.08533500313087033,\n",
       " 0.09247338760175322,\n",
       " 0.09517845961177201,\n",
       " 0.09946149029430179,\n",
       " 0.10499686912961798,\n",
       " 0.10624921728240444,\n",
       " 0.10680025046963049,\n",
       " 0.10482154038822789,\n",
       " 0.10469630557294918,\n",
       " 0.10639949906073881,\n",
       " 0.10522229179711956,\n",
       " 0.11453976205385091,\n",
       " 0.10760175328741389,\n",
       " 0.10549780839073258,\n",
       " 0.10815278647463994,\n",
       " 0.11183469004383217,\n",
       " 0.1105072010018785,\n",
       " 0.11130870381966185,\n",
       " 0.10920475892298054,\n",
       " 0.11013149655604254,\n",
       " 0.10289292423293667,\n",
       " 0.10276768941765807,\n",
       " 0.10807764558547273,\n",
       " 0.10810269254852845,\n",
       " 0.11060738885410137,\n",
       " 0.11684408265497809,\n",
       " 0.12781465247338758,\n",
       " 0.13452723857232307,\n",
       " 0.13570444583594238,\n",
       " 0.13668127739511576,\n",
       " 0.13800876643706944,\n",
       " 0.12515967438948022,\n",
       " 0.1337507827175955,\n",
       " 0.14642454602379462,\n",
       " 0.14509705698184094,\n",
       " 0.14256731371321218,\n",
       " 0.1377582968065122,\n",
       " 0.146474639949906,\n",
       " 0.1611521603005635,\n",
       " 0.17092047589229803,\n",
       " 0.16961803381340007,\n",
       " 0.18186599874765175,\n",
       " 0.17257357545397617,\n",
       " 0.16904195366311836,\n",
       " 0.1814902943018159,\n",
       " 0.1638572323105823,\n",
       " 0.16105197244834057,\n",
       " 0.1575704445835942,\n",
       " 0.1656856606136506,\n",
       " 0.1723231058234188,\n",
       " 0.17392611145898557,\n",
       " 0.18407013149655604,\n",
       " 0.18146524733876013,\n",
       " 0.1816906700062617,\n",
       " 0.1787351283656856,\n",
       " 0.17715716969317463,\n",
       " 0.18827802128991855,\n",
       " 0.182492172824045,\n",
       " 0.1705197244834063,\n",
       " 0.16320601127113332,\n",
       " 0.16363180964308072,\n",
       " 0.1636819035691922,\n",
       " 0.17092047589229803,\n",
       " 0.17204758922980584,\n",
       " 0.1636819035691922,\n",
       " 0.1658860363180964,\n",
       " 0.15769567939887286,\n",
       " 0.1487539135879774,\n",
       " 0.1444458359423919,\n",
       " 0.13918597370068875,\n",
       " 0.13720726361928615,\n",
       " 0.1325986224170319,\n",
       " 0.13237319974953032,\n",
       " 0.13119599248591102,\n",
       " 0.15902316844082653,\n",
       " 0.17016906700062612,\n",
       " 0.16974326862867878,\n",
       " 0.17282404508453347,\n",
       " 0.165460237946149,\n",
       " 0.16418284283030676,\n",
       " 0.16235441452723853,\n",
       " 0.17029430181590482,\n",
       " 0.17392611145898557,\n",
       " 0.16350657482780212,\n",
       " 0.1547902316844082,\n",
       " 0.15539135879774574,\n",
       " 0.16518472135253592,\n",
       " 0.1645835942391985,\n",
       " 0.15539135879774574,\n",
       " 0.15143393863494048,\n",
       " 0.14396994364433308,\n",
       " 0.13332498434564805,\n",
       " 0.14001252348152782,\n",
       " 0.14529743268628675]"
      ]
     },
     "execution_count": 71,
     "metadata": {},
     "output_type": "execute_result"
    }
   ],
   "source": [
    "temp_input=list(x_input)\n",
    "temp_input=temp_input[0].tolist()\n",
    "temp_input"
   ]
  },
  {
   "cell_type": "code",
   "execution_count": 72,
   "id": "28537fb0",
   "metadata": {},
   "outputs": [
    {
     "name": "stdout",
     "output_type": "stream",
     "text": [
      "[0.15513188]\n",
      "101\n",
      "1 day input [0.08806512 0.09129618 0.09031935 0.09009393 0.08683782 0.085335\n",
      " 0.09247339 0.09517846 0.09946149 0.10499687 0.10624922 0.10680025\n",
      " 0.10482154 0.10469631 0.1063995  0.10522229 0.11453976 0.10760175\n",
      " 0.10549781 0.10815279 0.11183469 0.1105072  0.1113087  0.10920476\n",
      " 0.1101315  0.10289292 0.10276769 0.10807765 0.10810269 0.11060739\n",
      " 0.11684408 0.12781465 0.13452724 0.13570445 0.13668128 0.13800877\n",
      " 0.12515967 0.13375078 0.14642455 0.14509706 0.14256731 0.1377583\n",
      " 0.14647464 0.16115216 0.17092048 0.16961803 0.181866   0.17257358\n",
      " 0.16904195 0.18149029 0.16385723 0.16105197 0.15757044 0.16568566\n",
      " 0.17232311 0.17392611 0.18407013 0.18146525 0.18169067 0.17873513\n",
      " 0.17715717 0.18827802 0.18249217 0.17051972 0.16320601 0.16363181\n",
      " 0.1636819  0.17092048 0.17204759 0.1636819  0.16588604 0.15769568\n",
      " 0.14875391 0.14444584 0.13918597 0.13720726 0.13259862 0.1323732\n",
      " 0.13119599 0.15902317 0.17016907 0.16974327 0.17282405 0.16546024\n",
      " 0.16418284 0.16235441 0.1702943  0.17392611 0.16350657 0.15479023\n",
      " 0.15539136 0.16518472 0.16458359 0.15539136 0.15143394 0.14396994\n",
      " 0.13332498 0.14001252 0.14529743 0.15513188]\n",
      "1 day output [[0.15292633]]\n",
      "2 day input [0.09129618 0.09031935 0.09009393 0.08683782 0.085335   0.09247339\n",
      " 0.09517846 0.09946149 0.10499687 0.10624922 0.10680025 0.10482154\n",
      " 0.10469631 0.1063995  0.10522229 0.11453976 0.10760175 0.10549781\n",
      " 0.10815279 0.11183469 0.1105072  0.1113087  0.10920476 0.1101315\n",
      " 0.10289292 0.10276769 0.10807765 0.10810269 0.11060739 0.11684408\n",
      " 0.12781465 0.13452724 0.13570445 0.13668128 0.13800877 0.12515967\n",
      " 0.13375078 0.14642455 0.14509706 0.14256731 0.1377583  0.14647464\n",
      " 0.16115216 0.17092048 0.16961803 0.181866   0.17257358 0.16904195\n",
      " 0.18149029 0.16385723 0.16105197 0.15757044 0.16568566 0.17232311\n",
      " 0.17392611 0.18407013 0.18146525 0.18169067 0.17873513 0.17715717\n",
      " 0.18827802 0.18249217 0.17051972 0.16320601 0.16363181 0.1636819\n",
      " 0.17092048 0.17204759 0.1636819  0.16588604 0.15769568 0.14875391\n",
      " 0.14444584 0.13918597 0.13720726 0.13259862 0.1323732  0.13119599\n",
      " 0.15902317 0.17016907 0.16974327 0.17282405 0.16546024 0.16418284\n",
      " 0.16235441 0.1702943  0.17392611 0.16350657 0.15479023 0.15539136\n",
      " 0.16518472 0.16458359 0.15539136 0.15143394 0.14396994 0.13332498\n",
      " 0.14001252 0.14529743 0.15513188 0.15292633]\n",
      "2 day output [[0.15190673]]\n",
      "3 day input [0.09031935 0.09009393 0.08683782 0.085335   0.09247339 0.09517846\n",
      " 0.09946149 0.10499687 0.10624922 0.10680025 0.10482154 0.10469631\n",
      " 0.1063995  0.10522229 0.11453976 0.10760175 0.10549781 0.10815279\n",
      " 0.11183469 0.1105072  0.1113087  0.10920476 0.1101315  0.10289292\n",
      " 0.10276769 0.10807765 0.10810269 0.11060739 0.11684408 0.12781465\n",
      " 0.13452724 0.13570445 0.13668128 0.13800877 0.12515967 0.13375078\n",
      " 0.14642455 0.14509706 0.14256731 0.1377583  0.14647464 0.16115216\n",
      " 0.17092048 0.16961803 0.181866   0.17257358 0.16904195 0.18149029\n",
      " 0.16385723 0.16105197 0.15757044 0.16568566 0.17232311 0.17392611\n",
      " 0.18407013 0.18146525 0.18169067 0.17873513 0.17715717 0.18827802\n",
      " 0.18249217 0.17051972 0.16320601 0.16363181 0.1636819  0.17092048\n",
      " 0.17204759 0.1636819  0.16588604 0.15769568 0.14875391 0.14444584\n",
      " 0.13918597 0.13720726 0.13259862 0.1323732  0.13119599 0.15902317\n",
      " 0.17016907 0.16974327 0.17282405 0.16546024 0.16418284 0.16235441\n",
      " 0.1702943  0.17392611 0.16350657 0.15479023 0.15539136 0.16518472\n",
      " 0.16458359 0.15539136 0.15143394 0.14396994 0.13332498 0.14001252\n",
      " 0.14529743 0.15513188 0.15292633 0.15190673]\n",
      "3 day output [[0.15179816]]\n",
      "4 day input [0.09009393 0.08683782 0.085335   0.09247339 0.09517846 0.09946149\n",
      " 0.10499687 0.10624922 0.10680025 0.10482154 0.10469631 0.1063995\n",
      " 0.10522229 0.11453976 0.10760175 0.10549781 0.10815279 0.11183469\n",
      " 0.1105072  0.1113087  0.10920476 0.1101315  0.10289292 0.10276769\n",
      " 0.10807765 0.10810269 0.11060739 0.11684408 0.12781465 0.13452724\n",
      " 0.13570445 0.13668128 0.13800877 0.12515967 0.13375078 0.14642455\n",
      " 0.14509706 0.14256731 0.1377583  0.14647464 0.16115216 0.17092048\n",
      " 0.16961803 0.181866   0.17257358 0.16904195 0.18149029 0.16385723\n",
      " 0.16105197 0.15757044 0.16568566 0.17232311 0.17392611 0.18407013\n",
      " 0.18146525 0.18169067 0.17873513 0.17715717 0.18827802 0.18249217\n",
      " 0.17051972 0.16320601 0.16363181 0.1636819  0.17092048 0.17204759\n",
      " 0.1636819  0.16588604 0.15769568 0.14875391 0.14444584 0.13918597\n",
      " 0.13720726 0.13259862 0.1323732  0.13119599 0.15902317 0.17016907\n",
      " 0.16974327 0.17282405 0.16546024 0.16418284 0.16235441 0.1702943\n",
      " 0.17392611 0.16350657 0.15479023 0.15539136 0.16518472 0.16458359\n",
      " 0.15539136 0.15143394 0.14396994 0.13332498 0.14001252 0.14529743\n",
      " 0.15513188 0.15292633 0.15190673 0.15179816]\n",
      "4 day output [[0.15230048]]\n",
      "5 day input [0.08683782 0.085335   0.09247339 0.09517846 0.09946149 0.10499687\n",
      " 0.10624922 0.10680025 0.10482154 0.10469631 0.1063995  0.10522229\n",
      " 0.11453976 0.10760175 0.10549781 0.10815279 0.11183469 0.1105072\n",
      " 0.1113087  0.10920476 0.1101315  0.10289292 0.10276769 0.10807765\n",
      " 0.10810269 0.11060739 0.11684408 0.12781465 0.13452724 0.13570445\n",
      " 0.13668128 0.13800877 0.12515967 0.13375078 0.14642455 0.14509706\n",
      " 0.14256731 0.1377583  0.14647464 0.16115216 0.17092048 0.16961803\n",
      " 0.181866   0.17257358 0.16904195 0.18149029 0.16385723 0.16105197\n",
      " 0.15757044 0.16568566 0.17232311 0.17392611 0.18407013 0.18146525\n",
      " 0.18169067 0.17873513 0.17715717 0.18827802 0.18249217 0.17051972\n",
      " 0.16320601 0.16363181 0.1636819  0.17092048 0.17204759 0.1636819\n",
      " 0.16588604 0.15769568 0.14875391 0.14444584 0.13918597 0.13720726\n",
      " 0.13259862 0.1323732  0.13119599 0.15902317 0.17016907 0.16974327\n",
      " 0.17282405 0.16546024 0.16418284 0.16235441 0.1702943  0.17392611\n",
      " 0.16350657 0.15479023 0.15539136 0.16518472 0.16458359 0.15539136\n",
      " 0.15143394 0.14396994 0.13332498 0.14001252 0.14529743 0.15513188\n",
      " 0.15292633 0.15190673 0.15179816 0.15230048]\n",
      "5 day output [[0.15317345]]\n",
      "6 day input [0.085335   0.09247339 0.09517846 0.09946149 0.10499687 0.10624922\n",
      " 0.10680025 0.10482154 0.10469631 0.1063995  0.10522229 0.11453976\n",
      " 0.10760175 0.10549781 0.10815279 0.11183469 0.1105072  0.1113087\n",
      " 0.10920476 0.1101315  0.10289292 0.10276769 0.10807765 0.10810269\n",
      " 0.11060739 0.11684408 0.12781465 0.13452724 0.13570445 0.13668128\n",
      " 0.13800877 0.12515967 0.13375078 0.14642455 0.14509706 0.14256731\n",
      " 0.1377583  0.14647464 0.16115216 0.17092048 0.16961803 0.181866\n",
      " 0.17257358 0.16904195 0.18149029 0.16385723 0.16105197 0.15757044\n",
      " 0.16568566 0.17232311 0.17392611 0.18407013 0.18146525 0.18169067\n",
      " 0.17873513 0.17715717 0.18827802 0.18249217 0.17051972 0.16320601\n",
      " 0.16363181 0.1636819  0.17092048 0.17204759 0.1636819  0.16588604\n",
      " 0.15769568 0.14875391 0.14444584 0.13918597 0.13720726 0.13259862\n",
      " 0.1323732  0.13119599 0.15902317 0.17016907 0.16974327 0.17282405\n",
      " 0.16546024 0.16418284 0.16235441 0.1702943  0.17392611 0.16350657\n",
      " 0.15479023 0.15539136 0.16518472 0.16458359 0.15539136 0.15143394\n",
      " 0.14396994 0.13332498 0.14001252 0.14529743 0.15513188 0.15292633\n",
      " 0.15190673 0.15179816 0.15230048 0.15317345]\n",
      "6 day output [[0.15425333]]\n",
      "7 day input [0.09247339 0.09517846 0.09946149 0.10499687 0.10624922 0.10680025\n",
      " 0.10482154 0.10469631 0.1063995  0.10522229 0.11453976 0.10760175\n",
      " 0.10549781 0.10815279 0.11183469 0.1105072  0.1113087  0.10920476\n",
      " 0.1101315  0.10289292 0.10276769 0.10807765 0.10810269 0.11060739\n",
      " 0.11684408 0.12781465 0.13452724 0.13570445 0.13668128 0.13800877\n",
      " 0.12515967 0.13375078 0.14642455 0.14509706 0.14256731 0.1377583\n",
      " 0.14647464 0.16115216 0.17092048 0.16961803 0.181866   0.17257358\n",
      " 0.16904195 0.18149029 0.16385723 0.16105197 0.15757044 0.16568566\n",
      " 0.17232311 0.17392611 0.18407013 0.18146525 0.18169067 0.17873513\n",
      " 0.17715717 0.18827802 0.18249217 0.17051972 0.16320601 0.16363181\n",
      " 0.1636819  0.17092048 0.17204759 0.1636819  0.16588604 0.15769568\n",
      " 0.14875391 0.14444584 0.13918597 0.13720726 0.13259862 0.1323732\n",
      " 0.13119599 0.15902317 0.17016907 0.16974327 0.17282405 0.16546024\n",
      " 0.16418284 0.16235441 0.1702943  0.17392611 0.16350657 0.15479023\n",
      " 0.15539136 0.16518472 0.16458359 0.15539136 0.15143394 0.14396994\n",
      " 0.13332498 0.14001252 0.14529743 0.15513188 0.15292633 0.15190673\n",
      " 0.15179816 0.15230048 0.15317345 0.15425333]\n",
      "7 day output [[0.15544093]]\n",
      "8 day input [0.09517846 0.09946149 0.10499687 0.10624922 0.10680025 0.10482154\n",
      " 0.10469631 0.1063995  0.10522229 0.11453976 0.10760175 0.10549781\n",
      " 0.10815279 0.11183469 0.1105072  0.1113087  0.10920476 0.1101315\n",
      " 0.10289292 0.10276769 0.10807765 0.10810269 0.11060739 0.11684408\n",
      " 0.12781465 0.13452724 0.13570445 0.13668128 0.13800877 0.12515967\n",
      " 0.13375078 0.14642455 0.14509706 0.14256731 0.1377583  0.14647464\n",
      " 0.16115216 0.17092048 0.16961803 0.181866   0.17257358 0.16904195\n",
      " 0.18149029 0.16385723 0.16105197 0.15757044 0.16568566 0.17232311\n",
      " 0.17392611 0.18407013 0.18146525 0.18169067 0.17873513 0.17715717\n",
      " 0.18827802 0.18249217 0.17051972 0.16320601 0.16363181 0.1636819\n",
      " 0.17092048 0.17204759 0.1636819  0.16588604 0.15769568 0.14875391\n",
      " 0.14444584 0.13918597 0.13720726 0.13259862 0.1323732  0.13119599\n",
      " 0.15902317 0.17016907 0.16974327 0.17282405 0.16546024 0.16418284\n",
      " 0.16235441 0.1702943  0.17392611 0.16350657 0.15479023 0.15539136\n",
      " 0.16518472 0.16458359 0.15539136 0.15143394 0.14396994 0.13332498\n",
      " 0.14001252 0.14529743 0.15513188 0.15292633 0.15190673 0.15179816\n",
      " 0.15230048 0.15317345 0.15425333 0.15544093]\n"
     ]
    },
    {
     "name": "stdout",
     "output_type": "stream",
     "text": [
      "8 day output [[0.15668175]]\n",
      "9 day input [0.09946149 0.10499687 0.10624922 0.10680025 0.10482154 0.10469631\n",
      " 0.1063995  0.10522229 0.11453976 0.10760175 0.10549781 0.10815279\n",
      " 0.11183469 0.1105072  0.1113087  0.10920476 0.1101315  0.10289292\n",
      " 0.10276769 0.10807765 0.10810269 0.11060739 0.11684408 0.12781465\n",
      " 0.13452724 0.13570445 0.13668128 0.13800877 0.12515967 0.13375078\n",
      " 0.14642455 0.14509706 0.14256731 0.1377583  0.14647464 0.16115216\n",
      " 0.17092048 0.16961803 0.181866   0.17257358 0.16904195 0.18149029\n",
      " 0.16385723 0.16105197 0.15757044 0.16568566 0.17232311 0.17392611\n",
      " 0.18407013 0.18146525 0.18169067 0.17873513 0.17715717 0.18827802\n",
      " 0.18249217 0.17051972 0.16320601 0.16363181 0.1636819  0.17092048\n",
      " 0.17204759 0.1636819  0.16588604 0.15769568 0.14875391 0.14444584\n",
      " 0.13918597 0.13720726 0.13259862 0.1323732  0.13119599 0.15902317\n",
      " 0.17016907 0.16974327 0.17282405 0.16546024 0.16418284 0.16235441\n",
      " 0.1702943  0.17392611 0.16350657 0.15479023 0.15539136 0.16518472\n",
      " 0.16458359 0.15539136 0.15143394 0.14396994 0.13332498 0.14001252\n",
      " 0.14529743 0.15513188 0.15292633 0.15190673 0.15179816 0.15230048\n",
      " 0.15317345 0.15425333 0.15544093 0.15668175]\n",
      "9 day output [[0.15794879]]\n",
      "10 day input [0.10499687 0.10624922 0.10680025 0.10482154 0.10469631 0.1063995\n",
      " 0.10522229 0.11453976 0.10760175 0.10549781 0.10815279 0.11183469\n",
      " 0.1105072  0.1113087  0.10920476 0.1101315  0.10289292 0.10276769\n",
      " 0.10807765 0.10810269 0.11060739 0.11684408 0.12781465 0.13452724\n",
      " 0.13570445 0.13668128 0.13800877 0.12515967 0.13375078 0.14642455\n",
      " 0.14509706 0.14256731 0.1377583  0.14647464 0.16115216 0.17092048\n",
      " 0.16961803 0.181866   0.17257358 0.16904195 0.18149029 0.16385723\n",
      " 0.16105197 0.15757044 0.16568566 0.17232311 0.17392611 0.18407013\n",
      " 0.18146525 0.18169067 0.17873513 0.17715717 0.18827802 0.18249217\n",
      " 0.17051972 0.16320601 0.16363181 0.1636819  0.17092048 0.17204759\n",
      " 0.1636819  0.16588604 0.15769568 0.14875391 0.14444584 0.13918597\n",
      " 0.13720726 0.13259862 0.1323732  0.13119599 0.15902317 0.17016907\n",
      " 0.16974327 0.17282405 0.16546024 0.16418284 0.16235441 0.1702943\n",
      " 0.17392611 0.16350657 0.15479023 0.15539136 0.16518472 0.16458359\n",
      " 0.15539136 0.15143394 0.14396994 0.13332498 0.14001252 0.14529743\n",
      " 0.15513188 0.15292633 0.15190673 0.15179816 0.15230048 0.15317345\n",
      " 0.15425333 0.15544093 0.15668175 0.15794879]\n",
      "10 day output [[0.15923008]]\n",
      "11 day input [0.10624922 0.10680025 0.10482154 0.10469631 0.1063995  0.10522229\n",
      " 0.11453976 0.10760175 0.10549781 0.10815279 0.11183469 0.1105072\n",
      " 0.1113087  0.10920476 0.1101315  0.10289292 0.10276769 0.10807765\n",
      " 0.10810269 0.11060739 0.11684408 0.12781465 0.13452724 0.13570445\n",
      " 0.13668128 0.13800877 0.12515967 0.13375078 0.14642455 0.14509706\n",
      " 0.14256731 0.1377583  0.14647464 0.16115216 0.17092048 0.16961803\n",
      " 0.181866   0.17257358 0.16904195 0.18149029 0.16385723 0.16105197\n",
      " 0.15757044 0.16568566 0.17232311 0.17392611 0.18407013 0.18146525\n",
      " 0.18169067 0.17873513 0.17715717 0.18827802 0.18249217 0.17051972\n",
      " 0.16320601 0.16363181 0.1636819  0.17092048 0.17204759 0.1636819\n",
      " 0.16588604 0.15769568 0.14875391 0.14444584 0.13918597 0.13720726\n",
      " 0.13259862 0.1323732  0.13119599 0.15902317 0.17016907 0.16974327\n",
      " 0.17282405 0.16546024 0.16418284 0.16235441 0.1702943  0.17392611\n",
      " 0.16350657 0.15479023 0.15539136 0.16518472 0.16458359 0.15539136\n",
      " 0.15143394 0.14396994 0.13332498 0.14001252 0.14529743 0.15513188\n",
      " 0.15292633 0.15190673 0.15179816 0.15230048 0.15317345 0.15425333\n",
      " 0.15544093 0.15668175 0.15794879 0.15923008]\n",
      "11 day output [[0.1605204]]\n",
      "12 day input [0.10680025 0.10482154 0.10469631 0.1063995  0.10522229 0.11453976\n",
      " 0.10760175 0.10549781 0.10815279 0.11183469 0.1105072  0.1113087\n",
      " 0.10920476 0.1101315  0.10289292 0.10276769 0.10807765 0.10810269\n",
      " 0.11060739 0.11684408 0.12781465 0.13452724 0.13570445 0.13668128\n",
      " 0.13800877 0.12515967 0.13375078 0.14642455 0.14509706 0.14256731\n",
      " 0.1377583  0.14647464 0.16115216 0.17092048 0.16961803 0.181866\n",
      " 0.17257358 0.16904195 0.18149029 0.16385723 0.16105197 0.15757044\n",
      " 0.16568566 0.17232311 0.17392611 0.18407013 0.18146525 0.18169067\n",
      " 0.17873513 0.17715717 0.18827802 0.18249217 0.17051972 0.16320601\n",
      " 0.16363181 0.1636819  0.17092048 0.17204759 0.1636819  0.16588604\n",
      " 0.15769568 0.14875391 0.14444584 0.13918597 0.13720726 0.13259862\n",
      " 0.1323732  0.13119599 0.15902317 0.17016907 0.16974327 0.17282405\n",
      " 0.16546024 0.16418284 0.16235441 0.1702943  0.17392611 0.16350657\n",
      " 0.15479023 0.15539136 0.16518472 0.16458359 0.15539136 0.15143394\n",
      " 0.14396994 0.13332498 0.14001252 0.14529743 0.15513188 0.15292633\n",
      " 0.15190673 0.15179816 0.15230048 0.15317345 0.15425333 0.15544093\n",
      " 0.15668175 0.15794879 0.15923008 0.1605204 ]\n",
      "12 day output [[0.16181749]]\n",
      "13 day input [0.10482154 0.10469631 0.1063995  0.10522229 0.11453976 0.10760175\n",
      " 0.10549781 0.10815279 0.11183469 0.1105072  0.1113087  0.10920476\n",
      " 0.1101315  0.10289292 0.10276769 0.10807765 0.10810269 0.11060739\n",
      " 0.11684408 0.12781465 0.13452724 0.13570445 0.13668128 0.13800877\n",
      " 0.12515967 0.13375078 0.14642455 0.14509706 0.14256731 0.1377583\n",
      " 0.14647464 0.16115216 0.17092048 0.16961803 0.181866   0.17257358\n",
      " 0.16904195 0.18149029 0.16385723 0.16105197 0.15757044 0.16568566\n",
      " 0.17232311 0.17392611 0.18407013 0.18146525 0.18169067 0.17873513\n",
      " 0.17715717 0.18827802 0.18249217 0.17051972 0.16320601 0.16363181\n",
      " 0.1636819  0.17092048 0.17204759 0.1636819  0.16588604 0.15769568\n",
      " 0.14875391 0.14444584 0.13918597 0.13720726 0.13259862 0.1323732\n",
      " 0.13119599 0.15902317 0.17016907 0.16974327 0.17282405 0.16546024\n",
      " 0.16418284 0.16235441 0.1702943  0.17392611 0.16350657 0.15479023\n",
      " 0.15539136 0.16518472 0.16458359 0.15539136 0.15143394 0.14396994\n",
      " 0.13332498 0.14001252 0.14529743 0.15513188 0.15292633 0.15190673\n",
      " 0.15179816 0.15230048 0.15317345 0.15425333 0.15544093 0.15668175\n",
      " 0.15794879 0.15923008 0.1605204  0.16181749]\n",
      "13 day output [[0.1631198]]\n",
      "14 day input [0.10469631 0.1063995  0.10522229 0.11453976 0.10760175 0.10549781\n",
      " 0.10815279 0.11183469 0.1105072  0.1113087  0.10920476 0.1101315\n",
      " 0.10289292 0.10276769 0.10807765 0.10810269 0.11060739 0.11684408\n",
      " 0.12781465 0.13452724 0.13570445 0.13668128 0.13800877 0.12515967\n",
      " 0.13375078 0.14642455 0.14509706 0.14256731 0.1377583  0.14647464\n",
      " 0.16115216 0.17092048 0.16961803 0.181866   0.17257358 0.16904195\n",
      " 0.18149029 0.16385723 0.16105197 0.15757044 0.16568566 0.17232311\n",
      " 0.17392611 0.18407013 0.18146525 0.18169067 0.17873513 0.17715717\n",
      " 0.18827802 0.18249217 0.17051972 0.16320601 0.16363181 0.1636819\n",
      " 0.17092048 0.17204759 0.1636819  0.16588604 0.15769568 0.14875391\n",
      " 0.14444584 0.13918597 0.13720726 0.13259862 0.1323732  0.13119599\n",
      " 0.15902317 0.17016907 0.16974327 0.17282405 0.16546024 0.16418284\n",
      " 0.16235441 0.1702943  0.17392611 0.16350657 0.15479023 0.15539136\n",
      " 0.16518472 0.16458359 0.15539136 0.15143394 0.14396994 0.13332498\n",
      " 0.14001252 0.14529743 0.15513188 0.15292633 0.15190673 0.15179816\n",
      " 0.15230048 0.15317345 0.15425333 0.15544093 0.15668175 0.15794879\n",
      " 0.15923008 0.1605204  0.16181749 0.16311979]\n",
      "14 day output [[0.16442579]]\n",
      "15 day input [0.1063995  0.10522229 0.11453976 0.10760175 0.10549781 0.10815279\n",
      " 0.11183469 0.1105072  0.1113087  0.10920476 0.1101315  0.10289292\n",
      " 0.10276769 0.10807765 0.10810269 0.11060739 0.11684408 0.12781465\n",
      " 0.13452724 0.13570445 0.13668128 0.13800877 0.12515967 0.13375078\n",
      " 0.14642455 0.14509706 0.14256731 0.1377583  0.14647464 0.16115216\n",
      " 0.17092048 0.16961803 0.181866   0.17257358 0.16904195 0.18149029\n",
      " 0.16385723 0.16105197 0.15757044 0.16568566 0.17232311 0.17392611\n",
      " 0.18407013 0.18146525 0.18169067 0.17873513 0.17715717 0.18827802\n",
      " 0.18249217 0.17051972 0.16320601 0.16363181 0.1636819  0.17092048\n",
      " 0.17204759 0.1636819  0.16588604 0.15769568 0.14875391 0.14444584\n",
      " 0.13918597 0.13720726 0.13259862 0.1323732  0.13119599 0.15902317\n",
      " 0.17016907 0.16974327 0.17282405 0.16546024 0.16418284 0.16235441\n",
      " 0.1702943  0.17392611 0.16350657 0.15479023 0.15539136 0.16518472\n",
      " 0.16458359 0.15539136 0.15143394 0.14396994 0.13332498 0.14001252\n",
      " 0.14529743 0.15513188 0.15292633 0.15190673 0.15179816 0.15230048\n",
      " 0.15317345 0.15425333 0.15544093 0.15668175 0.15794879 0.15923008\n",
      " 0.1605204  0.16181749 0.16311979 0.16442579]\n",
      "15 day output [[0.1657339]]\n",
      "16 day input [0.10522229 0.11453976 0.10760175 0.10549781 0.10815279 0.11183469\n",
      " 0.1105072  0.1113087  0.10920476 0.1101315  0.10289292 0.10276769\n",
      " 0.10807765 0.10810269 0.11060739 0.11684408 0.12781465 0.13452724\n",
      " 0.13570445 0.13668128 0.13800877 0.12515967 0.13375078 0.14642455\n",
      " 0.14509706 0.14256731 0.1377583  0.14647464 0.16115216 0.17092048\n",
      " 0.16961803 0.181866   0.17257358 0.16904195 0.18149029 0.16385723\n",
      " 0.16105197 0.15757044 0.16568566 0.17232311 0.17392611 0.18407013\n",
      " 0.18146525 0.18169067 0.17873513 0.17715717 0.18827802 0.18249217\n",
      " 0.17051972 0.16320601 0.16363181 0.1636819  0.17092048 0.17204759\n",
      " 0.1636819  0.16588604 0.15769568 0.14875391 0.14444584 0.13918597\n",
      " 0.13720726 0.13259862 0.1323732  0.13119599 0.15902317 0.17016907\n",
      " 0.16974327 0.17282405 0.16546024 0.16418284 0.16235441 0.1702943\n",
      " 0.17392611 0.16350657 0.15479023 0.15539136 0.16518472 0.16458359\n",
      " 0.15539136 0.15143394 0.14396994 0.13332498 0.14001252 0.14529743\n",
      " 0.15513188 0.15292633 0.15190673 0.15179816 0.15230048 0.15317345\n",
      " 0.15425333 0.15544093 0.15668175 0.15794879 0.15923008 0.1605204\n",
      " 0.16181749 0.16311979 0.16442579 0.1657339 ]\n"
     ]
    },
    {
     "name": "stdout",
     "output_type": "stream",
     "text": [
      "16 day output [[0.16704252]]\n",
      "17 day input [0.11453976 0.10760175 0.10549781 0.10815279 0.11183469 0.1105072\n",
      " 0.1113087  0.10920476 0.1101315  0.10289292 0.10276769 0.10807765\n",
      " 0.10810269 0.11060739 0.11684408 0.12781465 0.13452724 0.13570445\n",
      " 0.13668128 0.13800877 0.12515967 0.13375078 0.14642455 0.14509706\n",
      " 0.14256731 0.1377583  0.14647464 0.16115216 0.17092048 0.16961803\n",
      " 0.181866   0.17257358 0.16904195 0.18149029 0.16385723 0.16105197\n",
      " 0.15757044 0.16568566 0.17232311 0.17392611 0.18407013 0.18146525\n",
      " 0.18169067 0.17873513 0.17715717 0.18827802 0.18249217 0.17051972\n",
      " 0.16320601 0.16363181 0.1636819  0.17092048 0.17204759 0.1636819\n",
      " 0.16588604 0.15769568 0.14875391 0.14444584 0.13918597 0.13720726\n",
      " 0.13259862 0.1323732  0.13119599 0.15902317 0.17016907 0.16974327\n",
      " 0.17282405 0.16546024 0.16418284 0.16235441 0.1702943  0.17392611\n",
      " 0.16350657 0.15479023 0.15539136 0.16518472 0.16458359 0.15539136\n",
      " 0.15143394 0.14396994 0.13332498 0.14001252 0.14529743 0.15513188\n",
      " 0.15292633 0.15190673 0.15179816 0.15230048 0.15317345 0.15425333\n",
      " 0.15544093 0.15668175 0.15794879 0.15923008 0.1605204  0.16181749\n",
      " 0.16311979 0.16442579 0.1657339  0.16704252]\n",
      "17 day output [[0.16834998]]\n",
      "18 day input [0.10760175 0.10549781 0.10815279 0.11183469 0.1105072  0.1113087\n",
      " 0.10920476 0.1101315  0.10289292 0.10276769 0.10807765 0.10810269\n",
      " 0.11060739 0.11684408 0.12781465 0.13452724 0.13570445 0.13668128\n",
      " 0.13800877 0.12515967 0.13375078 0.14642455 0.14509706 0.14256731\n",
      " 0.1377583  0.14647464 0.16115216 0.17092048 0.16961803 0.181866\n",
      " 0.17257358 0.16904195 0.18149029 0.16385723 0.16105197 0.15757044\n",
      " 0.16568566 0.17232311 0.17392611 0.18407013 0.18146525 0.18169067\n",
      " 0.17873513 0.17715717 0.18827802 0.18249217 0.17051972 0.16320601\n",
      " 0.16363181 0.1636819  0.17092048 0.17204759 0.1636819  0.16588604\n",
      " 0.15769568 0.14875391 0.14444584 0.13918597 0.13720726 0.13259862\n",
      " 0.1323732  0.13119599 0.15902317 0.17016907 0.16974327 0.17282405\n",
      " 0.16546024 0.16418284 0.16235441 0.1702943  0.17392611 0.16350657\n",
      " 0.15479023 0.15539136 0.16518472 0.16458359 0.15539136 0.15143394\n",
      " 0.14396994 0.13332498 0.14001252 0.14529743 0.15513188 0.15292633\n",
      " 0.15190673 0.15179816 0.15230048 0.15317345 0.15425333 0.15544093\n",
      " 0.15668175 0.15794879 0.15923008 0.1605204  0.16181749 0.16311979\n",
      " 0.16442579 0.1657339  0.16704252 0.16834998]\n",
      "18 day output [[0.16965508]]\n",
      "19 day input [0.10549781 0.10815279 0.11183469 0.1105072  0.1113087  0.10920476\n",
      " 0.1101315  0.10289292 0.10276769 0.10807765 0.10810269 0.11060739\n",
      " 0.11684408 0.12781465 0.13452724 0.13570445 0.13668128 0.13800877\n",
      " 0.12515967 0.13375078 0.14642455 0.14509706 0.14256731 0.1377583\n",
      " 0.14647464 0.16115216 0.17092048 0.16961803 0.181866   0.17257358\n",
      " 0.16904195 0.18149029 0.16385723 0.16105197 0.15757044 0.16568566\n",
      " 0.17232311 0.17392611 0.18407013 0.18146525 0.18169067 0.17873513\n",
      " 0.17715717 0.18827802 0.18249217 0.17051972 0.16320601 0.16363181\n",
      " 0.1636819  0.17092048 0.17204759 0.1636819  0.16588604 0.15769568\n",
      " 0.14875391 0.14444584 0.13918597 0.13720726 0.13259862 0.1323732\n",
      " 0.13119599 0.15902317 0.17016907 0.16974327 0.17282405 0.16546024\n",
      " 0.16418284 0.16235441 0.1702943  0.17392611 0.16350657 0.15479023\n",
      " 0.15539136 0.16518472 0.16458359 0.15539136 0.15143394 0.14396994\n",
      " 0.13332498 0.14001252 0.14529743 0.15513188 0.15292633 0.15190673\n",
      " 0.15179816 0.15230048 0.15317345 0.15425333 0.15544093 0.15668175\n",
      " 0.15794879 0.15923008 0.1605204  0.16181749 0.16311979 0.16442579\n",
      " 0.1657339  0.16704252 0.16834998 0.16965508]\n",
      "19 day output [[0.17095679]]\n",
      "20 day input [0.10815279 0.11183469 0.1105072  0.1113087  0.10920476 0.1101315\n",
      " 0.10289292 0.10276769 0.10807765 0.10810269 0.11060739 0.11684408\n",
      " 0.12781465 0.13452724 0.13570445 0.13668128 0.13800877 0.12515967\n",
      " 0.13375078 0.14642455 0.14509706 0.14256731 0.1377583  0.14647464\n",
      " 0.16115216 0.17092048 0.16961803 0.181866   0.17257358 0.16904195\n",
      " 0.18149029 0.16385723 0.16105197 0.15757044 0.16568566 0.17232311\n",
      " 0.17392611 0.18407013 0.18146525 0.18169067 0.17873513 0.17715717\n",
      " 0.18827802 0.18249217 0.17051972 0.16320601 0.16363181 0.1636819\n",
      " 0.17092048 0.17204759 0.1636819  0.16588604 0.15769568 0.14875391\n",
      " 0.14444584 0.13918597 0.13720726 0.13259862 0.1323732  0.13119599\n",
      " 0.15902317 0.17016907 0.16974327 0.17282405 0.16546024 0.16418284\n",
      " 0.16235441 0.1702943  0.17392611 0.16350657 0.15479023 0.15539136\n",
      " 0.16518472 0.16458359 0.15539136 0.15143394 0.14396994 0.13332498\n",
      " 0.14001252 0.14529743 0.15513188 0.15292633 0.15190673 0.15179816\n",
      " 0.15230048 0.15317345 0.15425333 0.15544093 0.15668175 0.15794879\n",
      " 0.15923008 0.1605204  0.16181749 0.16311979 0.16442579 0.1657339\n",
      " 0.16704252 0.16834998 0.16965508 0.17095679]\n",
      "20 day output [[0.17225417]]\n",
      "21 day input [0.11183469 0.1105072  0.1113087  0.10920476 0.1101315  0.10289292\n",
      " 0.10276769 0.10807765 0.10810269 0.11060739 0.11684408 0.12781465\n",
      " 0.13452724 0.13570445 0.13668128 0.13800877 0.12515967 0.13375078\n",
      " 0.14642455 0.14509706 0.14256731 0.1377583  0.14647464 0.16115216\n",
      " 0.17092048 0.16961803 0.181866   0.17257358 0.16904195 0.18149029\n",
      " 0.16385723 0.16105197 0.15757044 0.16568566 0.17232311 0.17392611\n",
      " 0.18407013 0.18146525 0.18169067 0.17873513 0.17715717 0.18827802\n",
      " 0.18249217 0.17051972 0.16320601 0.16363181 0.1636819  0.17092048\n",
      " 0.17204759 0.1636819  0.16588604 0.15769568 0.14875391 0.14444584\n",
      " 0.13918597 0.13720726 0.13259862 0.1323732  0.13119599 0.15902317\n",
      " 0.17016907 0.16974327 0.17282405 0.16546024 0.16418284 0.16235441\n",
      " 0.1702943  0.17392611 0.16350657 0.15479023 0.15539136 0.16518472\n",
      " 0.16458359 0.15539136 0.15143394 0.14396994 0.13332498 0.14001252\n",
      " 0.14529743 0.15513188 0.15292633 0.15190673 0.15179816 0.15230048\n",
      " 0.15317345 0.15425333 0.15544093 0.15668175 0.15794879 0.15923008\n",
      " 0.1605204  0.16181749 0.16311979 0.16442579 0.1657339  0.16704252\n",
      " 0.16834998 0.16965508 0.17095679 0.17225417]\n",
      "21 day output [[0.1735467]]\n",
      "22 day input [0.1105072  0.1113087  0.10920476 0.1101315  0.10289292 0.10276769\n",
      " 0.10807765 0.10810269 0.11060739 0.11684408 0.12781465 0.13452724\n",
      " 0.13570445 0.13668128 0.13800877 0.12515967 0.13375078 0.14642455\n",
      " 0.14509706 0.14256731 0.1377583  0.14647464 0.16115216 0.17092048\n",
      " 0.16961803 0.181866   0.17257358 0.16904195 0.18149029 0.16385723\n",
      " 0.16105197 0.15757044 0.16568566 0.17232311 0.17392611 0.18407013\n",
      " 0.18146525 0.18169067 0.17873513 0.17715717 0.18827802 0.18249217\n",
      " 0.17051972 0.16320601 0.16363181 0.1636819  0.17092048 0.17204759\n",
      " 0.1636819  0.16588604 0.15769568 0.14875391 0.14444584 0.13918597\n",
      " 0.13720726 0.13259862 0.1323732  0.13119599 0.15902317 0.17016907\n",
      " 0.16974327 0.17282405 0.16546024 0.16418284 0.16235441 0.1702943\n",
      " 0.17392611 0.16350657 0.15479023 0.15539136 0.16518472 0.16458359\n",
      " 0.15539136 0.15143394 0.14396994 0.13332498 0.14001252 0.14529743\n",
      " 0.15513188 0.15292633 0.15190673 0.15179816 0.15230048 0.15317345\n",
      " 0.15425333 0.15544093 0.15668175 0.15794879 0.15923008 0.1605204\n",
      " 0.16181749 0.16311979 0.16442579 0.1657339  0.16704252 0.16834998\n",
      " 0.16965508 0.17095679 0.17225417 0.1735467 ]\n",
      "22 day output [[0.17483413]]\n",
      "23 day input [0.1113087  0.10920476 0.1101315  0.10289292 0.10276769 0.10807765\n",
      " 0.10810269 0.11060739 0.11684408 0.12781465 0.13452724 0.13570445\n",
      " 0.13668128 0.13800877 0.12515967 0.13375078 0.14642455 0.14509706\n",
      " 0.14256731 0.1377583  0.14647464 0.16115216 0.17092048 0.16961803\n",
      " 0.181866   0.17257358 0.16904195 0.18149029 0.16385723 0.16105197\n",
      " 0.15757044 0.16568566 0.17232311 0.17392611 0.18407013 0.18146525\n",
      " 0.18169067 0.17873513 0.17715717 0.18827802 0.18249217 0.17051972\n",
      " 0.16320601 0.16363181 0.1636819  0.17092048 0.17204759 0.1636819\n",
      " 0.16588604 0.15769568 0.14875391 0.14444584 0.13918597 0.13720726\n",
      " 0.13259862 0.1323732  0.13119599 0.15902317 0.17016907 0.16974327\n",
      " 0.17282405 0.16546024 0.16418284 0.16235441 0.1702943  0.17392611\n",
      " 0.16350657 0.15479023 0.15539136 0.16518472 0.16458359 0.15539136\n",
      " 0.15143394 0.14396994 0.13332498 0.14001252 0.14529743 0.15513188\n",
      " 0.15292633 0.15190673 0.15179816 0.15230048 0.15317345 0.15425333\n",
      " 0.15544093 0.15668175 0.15794879 0.15923008 0.1605204  0.16181749\n",
      " 0.16311979 0.16442579 0.1657339  0.16704252 0.16834998 0.16965508\n",
      " 0.17095679 0.17225417 0.1735467  0.17483413]\n",
      "23 day output [[0.17611614]]\n",
      "24 day input [0.10920476 0.1101315  0.10289292 0.10276769 0.10807765 0.10810269\n",
      " 0.11060739 0.11684408 0.12781465 0.13452724 0.13570445 0.13668128\n",
      " 0.13800877 0.12515967 0.13375078 0.14642455 0.14509706 0.14256731\n",
      " 0.1377583  0.14647464 0.16115216 0.17092048 0.16961803 0.181866\n",
      " 0.17257358 0.16904195 0.18149029 0.16385723 0.16105197 0.15757044\n",
      " 0.16568566 0.17232311 0.17392611 0.18407013 0.18146525 0.18169067\n",
      " 0.17873513 0.17715717 0.18827802 0.18249217 0.17051972 0.16320601\n",
      " 0.16363181 0.1636819  0.17092048 0.17204759 0.1636819  0.16588604\n",
      " 0.15769568 0.14875391 0.14444584 0.13918597 0.13720726 0.13259862\n",
      " 0.1323732  0.13119599 0.15902317 0.17016907 0.16974327 0.17282405\n",
      " 0.16546024 0.16418284 0.16235441 0.1702943  0.17392611 0.16350657\n",
      " 0.15479023 0.15539136 0.16518472 0.16458359 0.15539136 0.15143394\n",
      " 0.14396994 0.13332498 0.14001252 0.14529743 0.15513188 0.15292633\n",
      " 0.15190673 0.15179816 0.15230048 0.15317345 0.15425333 0.15544093\n",
      " 0.15668175 0.15794879 0.15923008 0.1605204  0.16181749 0.16311979\n",
      " 0.16442579 0.1657339  0.16704252 0.16834998 0.16965508 0.17095679\n",
      " 0.17225417 0.1735467  0.17483413 0.17611614]\n"
     ]
    },
    {
     "name": "stdout",
     "output_type": "stream",
     "text": [
      "24 day output [[0.17739269]]\n",
      "25 day input [0.1101315  0.10289292 0.10276769 0.10807765 0.10810269 0.11060739\n",
      " 0.11684408 0.12781465 0.13452724 0.13570445 0.13668128 0.13800877\n",
      " 0.12515967 0.13375078 0.14642455 0.14509706 0.14256731 0.1377583\n",
      " 0.14647464 0.16115216 0.17092048 0.16961803 0.181866   0.17257358\n",
      " 0.16904195 0.18149029 0.16385723 0.16105197 0.15757044 0.16568566\n",
      " 0.17232311 0.17392611 0.18407013 0.18146525 0.18169067 0.17873513\n",
      " 0.17715717 0.18827802 0.18249217 0.17051972 0.16320601 0.16363181\n",
      " 0.1636819  0.17092048 0.17204759 0.1636819  0.16588604 0.15769568\n",
      " 0.14875391 0.14444584 0.13918597 0.13720726 0.13259862 0.1323732\n",
      " 0.13119599 0.15902317 0.17016907 0.16974327 0.17282405 0.16546024\n",
      " 0.16418284 0.16235441 0.1702943  0.17392611 0.16350657 0.15479023\n",
      " 0.15539136 0.16518472 0.16458359 0.15539136 0.15143394 0.14396994\n",
      " 0.13332498 0.14001252 0.14529743 0.15513188 0.15292633 0.15190673\n",
      " 0.15179816 0.15230048 0.15317345 0.15425333 0.15544093 0.15668175\n",
      " 0.15794879 0.15923008 0.1605204  0.16181749 0.16311979 0.16442579\n",
      " 0.1657339  0.16704252 0.16834998 0.16965508 0.17095679 0.17225417\n",
      " 0.1735467  0.17483413 0.17611614 0.17739269]\n",
      "25 day output [[0.17866385]]\n",
      "26 day input [0.10289292 0.10276769 0.10807765 0.10810269 0.11060739 0.11684408\n",
      " 0.12781465 0.13452724 0.13570445 0.13668128 0.13800877 0.12515967\n",
      " 0.13375078 0.14642455 0.14509706 0.14256731 0.1377583  0.14647464\n",
      " 0.16115216 0.17092048 0.16961803 0.181866   0.17257358 0.16904195\n",
      " 0.18149029 0.16385723 0.16105197 0.15757044 0.16568566 0.17232311\n",
      " 0.17392611 0.18407013 0.18146525 0.18169067 0.17873513 0.17715717\n",
      " 0.18827802 0.18249217 0.17051972 0.16320601 0.16363181 0.1636819\n",
      " 0.17092048 0.17204759 0.1636819  0.16588604 0.15769568 0.14875391\n",
      " 0.14444584 0.13918597 0.13720726 0.13259862 0.1323732  0.13119599\n",
      " 0.15902317 0.17016907 0.16974327 0.17282405 0.16546024 0.16418284\n",
      " 0.16235441 0.1702943  0.17392611 0.16350657 0.15479023 0.15539136\n",
      " 0.16518472 0.16458359 0.15539136 0.15143394 0.14396994 0.13332498\n",
      " 0.14001252 0.14529743 0.15513188 0.15292633 0.15190673 0.15179816\n",
      " 0.15230048 0.15317345 0.15425333 0.15544093 0.15668175 0.15794879\n",
      " 0.15923008 0.1605204  0.16181749 0.16311979 0.16442579 0.1657339\n",
      " 0.16704252 0.16834998 0.16965508 0.17095679 0.17225417 0.1735467\n",
      " 0.17483413 0.17611614 0.17739269 0.17866385]\n",
      "26 day output [[0.17992976]]\n",
      "27 day input [0.10276769 0.10807765 0.10810269 0.11060739 0.11684408 0.12781465\n",
      " 0.13452724 0.13570445 0.13668128 0.13800877 0.12515967 0.13375078\n",
      " 0.14642455 0.14509706 0.14256731 0.1377583  0.14647464 0.16115216\n",
      " 0.17092048 0.16961803 0.181866   0.17257358 0.16904195 0.18149029\n",
      " 0.16385723 0.16105197 0.15757044 0.16568566 0.17232311 0.17392611\n",
      " 0.18407013 0.18146525 0.18169067 0.17873513 0.17715717 0.18827802\n",
      " 0.18249217 0.17051972 0.16320601 0.16363181 0.1636819  0.17092048\n",
      " 0.17204759 0.1636819  0.16588604 0.15769568 0.14875391 0.14444584\n",
      " 0.13918597 0.13720726 0.13259862 0.1323732  0.13119599 0.15902317\n",
      " 0.17016907 0.16974327 0.17282405 0.16546024 0.16418284 0.16235441\n",
      " 0.1702943  0.17392611 0.16350657 0.15479023 0.15539136 0.16518472\n",
      " 0.16458359 0.15539136 0.15143394 0.14396994 0.13332498 0.14001252\n",
      " 0.14529743 0.15513188 0.15292633 0.15190673 0.15179816 0.15230048\n",
      " 0.15317345 0.15425333 0.15544093 0.15668175 0.15794879 0.15923008\n",
      " 0.1605204  0.16181749 0.16311979 0.16442579 0.1657339  0.16704252\n",
      " 0.16834998 0.16965508 0.17095679 0.17225417 0.1735467  0.17483413\n",
      " 0.17611614 0.17739269 0.17866385 0.17992976]\n",
      "27 day output [[0.18119058]]\n",
      "28 day input [0.10807765 0.10810269 0.11060739 0.11684408 0.12781465 0.13452724\n",
      " 0.13570445 0.13668128 0.13800877 0.12515967 0.13375078 0.14642455\n",
      " 0.14509706 0.14256731 0.1377583  0.14647464 0.16115216 0.17092048\n",
      " 0.16961803 0.181866   0.17257358 0.16904195 0.18149029 0.16385723\n",
      " 0.16105197 0.15757044 0.16568566 0.17232311 0.17392611 0.18407013\n",
      " 0.18146525 0.18169067 0.17873513 0.17715717 0.18827802 0.18249217\n",
      " 0.17051972 0.16320601 0.16363181 0.1636819  0.17092048 0.17204759\n",
      " 0.1636819  0.16588604 0.15769568 0.14875391 0.14444584 0.13918597\n",
      " 0.13720726 0.13259862 0.1323732  0.13119599 0.15902317 0.17016907\n",
      " 0.16974327 0.17282405 0.16546024 0.16418284 0.16235441 0.1702943\n",
      " 0.17392611 0.16350657 0.15479023 0.15539136 0.16518472 0.16458359\n",
      " 0.15539136 0.15143394 0.14396994 0.13332498 0.14001252 0.14529743\n",
      " 0.15513188 0.15292633 0.15190673 0.15179816 0.15230048 0.15317345\n",
      " 0.15425333 0.15544093 0.15668175 0.15794879 0.15923008 0.1605204\n",
      " 0.16181749 0.16311979 0.16442579 0.1657339  0.16704252 0.16834998\n",
      " 0.16965508 0.17095679 0.17225417 0.1735467  0.17483413 0.17611614\n",
      " 0.17739269 0.17866385 0.17992976 0.18119058]\n",
      "28 day output [[0.18244654]]\n",
      "29 day input [0.10810269 0.11060739 0.11684408 0.12781465 0.13452724 0.13570445\n",
      " 0.13668128 0.13800877 0.12515967 0.13375078 0.14642455 0.14509706\n",
      " 0.14256731 0.1377583  0.14647464 0.16115216 0.17092048 0.16961803\n",
      " 0.181866   0.17257358 0.16904195 0.18149029 0.16385723 0.16105197\n",
      " 0.15757044 0.16568566 0.17232311 0.17392611 0.18407013 0.18146525\n",
      " 0.18169067 0.17873513 0.17715717 0.18827802 0.18249217 0.17051972\n",
      " 0.16320601 0.16363181 0.1636819  0.17092048 0.17204759 0.1636819\n",
      " 0.16588604 0.15769568 0.14875391 0.14444584 0.13918597 0.13720726\n",
      " 0.13259862 0.1323732  0.13119599 0.15902317 0.17016907 0.16974327\n",
      " 0.17282405 0.16546024 0.16418284 0.16235441 0.1702943  0.17392611\n",
      " 0.16350657 0.15479023 0.15539136 0.16518472 0.16458359 0.15539136\n",
      " 0.15143394 0.14396994 0.13332498 0.14001252 0.14529743 0.15513188\n",
      " 0.15292633 0.15190673 0.15179816 0.15230048 0.15317345 0.15425333\n",
      " 0.15544093 0.15668175 0.15794879 0.15923008 0.1605204  0.16181749\n",
      " 0.16311979 0.16442579 0.1657339  0.16704252 0.16834998 0.16965508\n",
      " 0.17095679 0.17225417 0.1735467  0.17483413 0.17611614 0.17739269\n",
      " 0.17866385 0.17992976 0.18119058 0.18244654]\n",
      "29 day output [[0.18369797]]\n",
      "[[0.15513187646865845], [0.15292632579803467], [0.15190672874450684], [0.15179815888404846], [0.15230047702789307], [0.15317344665527344], [0.15425333380699158], [0.15544092655181885], [0.15668174624443054], [0.1579487919807434], [0.1592300832271576], [0.16052040457725525], [0.1618174910545349], [0.16311979293823242], [0.164425790309906], [0.16573390364646912], [0.16704252362251282], [0.1683499813079834], [0.16965508460998535], [0.1709567904472351], [0.17225417494773865], [0.173546701669693], [0.17483413219451904], [0.17611613869667053], [0.17739269137382507], [0.17866384983062744], [0.17992976307868958], [0.1811905801296234], [0.18244653940200806], [0.18369796872138977]]\n"
     ]
    }
   ],
   "source": [
    "# demonstrate prediction for next 10 days\n",
    "from numpy import array\n",
    "\n",
    "lst_output=[]\n",
    "n_steps=100\n",
    "i=0\n",
    "while(i<30):\n",
    "    \n",
    "    if(len(temp_input)>100):\n",
    "        #print(temp_input)\n",
    "        x_input=np.array(temp_input[1:])\n",
    "        print(\"{} day input {}\".format(i,x_input))\n",
    "        x_input=x_input.reshape(1,-1)\n",
    "        x_input = x_input.reshape((1, n_steps, 1))\n",
    "        #print(x_input)\n",
    "        yhat = model.predict(x_input, verbose=0)\n",
    "        print(\"{} day output {}\".format(i,yhat))\n",
    "        temp_input.extend(yhat[0].tolist())\n",
    "        temp_input=temp_input[1:]\n",
    "        #print(temp_input)\n",
    "        lst_output.extend(yhat.tolist())\n",
    "        i=i+1\n",
    "    else:\n",
    "        x_input = x_input.reshape((1, n_steps,1))\n",
    "        yhat = model.predict(x_input, verbose=0)\n",
    "        print(yhat[0])\n",
    "        temp_input.extend(yhat[0].tolist())\n",
    "        print(len(temp_input))\n",
    "        lst_output.extend(yhat.tolist())\n",
    "        i=i+1\n",
    "    \n",
    "\n",
    "print(lst_output)"
   ]
  },
  {
   "cell_type": "code",
   "execution_count": 76,
   "id": "aec62d04",
   "metadata": {},
   "outputs": [
    {
     "data": {
      "text/plain": [
       "1259"
      ]
     },
     "execution_count": 76,
     "metadata": {},
     "output_type": "execute_result"
    }
   ],
   "source": [
    "day_new=np.arange(1,101)\n",
    "day_pred=np.arange(101,131)\n",
    "len(df1)"
   ]
  },
  {
   "cell_type": "code",
   "execution_count": 78,
   "id": "ed14aa5e",
   "metadata": {},
   "outputs": [
    {
     "data": {
      "text/plain": [
       "[<matplotlib.lines.Line2D at 0x15cc9e2a6d0>]"
      ]
     },
     "execution_count": 78,
     "metadata": {},
     "output_type": "execute_result"
    },
    {
     "data": {
      "image/png": "[encoded data removed]",
      "text/plain": [
       "<Figure size 432x288 with 1 Axes>"
      ]
     },
     "metadata": {
      "needs_background": "light"
     },
     "output_type": "display_data"
    }
   ],
   "source": [
    "plt.plot(day_new,scalar.inverse_transform(df1[1159:]))\n",
    "plt.plot(day_pred,scalar.inverse_transform(lst_output))"
   ]
  },
  {
   "cell_type": "code",
   "execution_count": 92,
   "id": "7189bc88",
   "metadata": {},
   "outputs": [
    {
     "data": {
      "text/plain": [
       "[<matplotlib.lines.Line2D at 0x15cd0c66d30>]"
      ]
     },
     "execution_count": 92,
     "metadata": {},
     "output_type": "execute_result"
    },
    {
     "data": {
      "image/png": "[encoded data removed]",
      "text/plain": [
       "<Figure size 432x288 with 1 Axes>"
      ]
     },
     "metadata": {
      "needs_background": "light"
     },
     "output_type": "display_data"
    }
   ],
   "source": [
    "#combining df1 to the lst output\n",
    "df3=df1.tolist()\n",
    "df3.extend(lst_output)\n",
    "plt.plot(df3[1200:])"
   ]
  },
  {
   "cell_type": "code",
   "execution_count": 83,
   "id": "85f69805",
   "metadata": {},
   "outputs": [
    {
     "data": {
      "text/plain": [
       "[<matplotlib.lines.Line2D at 0x15ccb3664c0>]"
      ]
     },
     "execution_count": 83,
     "metadata": {},
     "output_type": "execute_result"
    },
    {
     "data": {
      "image/png": "[encoded data removed]",
      "text/plain": [
       "<Figure size 432x288 with 1 Axes>"
      ]
     },
     "metadata": {
      "needs_background": "light"
     },
     "output_type": "display_data"
    }
   ],
   "source": [
    "df3=scalar.inverse_transform(df3).tolist()\n",
    "plt.plot(df3)\n"
   ]
  },
  {
   "cell_type": "code",
   "execution_count": null,
   "id": "c0c49fbb",
   "metadata": {},
   "outputs": [],
   "source": []
  }
 ],
 "metadata": {
  "kernelspec": {
   "display_name": "Python 3",
   "language": "python",
   "name": "python3"
  },
  "language_info": {
   "codemirror_mode": {
    "name": "ipython",
    "version": 3
   },
   "file_extension": ".py",
   "mimetype": "text/x-python",
   "name": "python",
   "nbconvert_exporter": "python",
   "pygments_lexer": "ipython3",
   "version": "3.8.8"
  }
 },
 "nbformat": 4,
 "nbformat_minor": 5
}
