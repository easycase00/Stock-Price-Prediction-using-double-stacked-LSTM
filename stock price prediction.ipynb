{
 "cells": [
  {
   "cell_type": "code",
   "execution_count": 1,
   "id": "cfd80731",
   "metadata": {},
   "outputs": [],
   "source": [
    "import pandas as pd\n",
    "\n",
    "import pandas_datareader as pdr\n",
    "#helps in remotely accessing data from sites\n",
    "\n",
    "import matplotlib.pyplot as plt"
   ]
  },
  {
   "cell_type": "markdown",
   "id": "acabc882",
   "metadata": {},
   "source": [
    "# Data Collection\n",
    "Importing stock data from Tiingo, which is supported by pandas_datareader\n",
    "stock price for aaple- AAPL"
   ]
  },
  {
   "cell_type": "code",
   "execution_count": 2,
   "id": "25b4ad1d",
   "metadata": {},
   "outputs": [],
   "source": [
    "df= pdr.get_data_tiingo('TSLA', api_key=\"77f2b1c33ecff205fd3489be2a3b5d3ad9595913\"\n",
    ")"
   ]
  },
  {
   "cell_type": "code",
   "execution_count": 3,
   "id": "5f6080b4",
   "metadata": {},
   "outputs": [],
   "source": [
    "df.to_csv('TSLA.csv')"
   ]
  },
  {
   "cell_type": "code",
   "execution_count": 4,
   "id": "5d6104dc",
   "metadata": {},
   "outputs": [
    {
     "data": {
      "text/html": [
       "<div>\n",
       "<style scoped>\n",
       "    .dataframe tbody tr th:only-of-type {\n",
       "        vertical-align: middle;\n",
       "    }\n",
       "\n",
       "    .dataframe tbody tr th {\n",
       "        vertical-align: top;\n",
       "    }\n",
       "\n",
       "    .dataframe thead th {\n",
       "        text-align: right;\n",
       "    }\n",
       "</style>\n",
       "<table border=\"1\" class=\"dataframe\">\n",
       "  <thead>\n",
       "    <tr style=\"text-align: right;\">\n",
       "      <th></th>\n",
       "      <th>symbol</th>\n",
       "      <th>date</th>\n",
       "      <th>close</th>\n",
       "      <th>high</th>\n",
       "      <th>low</th>\n",
       "      <th>open</th>\n",
       "      <th>volume</th>\n",
       "      <th>adjClose</th>\n",
       "      <th>adjHigh</th>\n",
       "      <th>adjLow</th>\n",
       "      <th>adjOpen</th>\n",
       "      <th>adjVolume</th>\n",
       "      <th>divCash</th>\n",
       "      <th>splitFactor</th>\n",
       "    </tr>\n",
       "  </thead>\n",
       "  <tbody>\n",
       "    <tr>\n",
       "      <th>0</th>\n",
       "      <td>TSLA</td>\n",
       "      <td>2017-02-28 00:00:00+00:00</td>\n",
       "      <td>249.99</td>\n",
       "      <td>251.00</td>\n",
       "      <td>243.90</td>\n",
       "      <td>244.19</td>\n",
       "      <td>6078145</td>\n",
       "      <td>49.998</td>\n",
       "      <td>50.200</td>\n",
       "      <td>48.780</td>\n",
       "      <td>48.838</td>\n",
       "      <td>30390725</td>\n",
       "      <td>0.0</td>\n",
       "      <td>1.0</td>\n",
       "    </tr>\n",
       "    <tr>\n",
       "      <th>1</th>\n",
       "      <td>TSLA</td>\n",
       "      <td>2017-03-01 00:00:00+00:00</td>\n",
       "      <td>250.02</td>\n",
       "      <td>254.85</td>\n",
       "      <td>249.11</td>\n",
       "      <td>254.18</td>\n",
       "      <td>4809488</td>\n",
       "      <td>50.004</td>\n",
       "      <td>50.970</td>\n",
       "      <td>49.822</td>\n",
       "      <td>50.836</td>\n",
       "      <td>24047440</td>\n",
       "      <td>0.0</td>\n",
       "      <td>1.0</td>\n",
       "    </tr>\n",
       "    <tr>\n",
       "      <th>2</th>\n",
       "      <td>TSLA</td>\n",
       "      <td>2017-03-02 00:00:00+00:00</td>\n",
       "      <td>250.48</td>\n",
       "      <td>253.28</td>\n",
       "      <td>248.27</td>\n",
       "      <td>249.71</td>\n",
       "      <td>3351833</td>\n",
       "      <td>50.096</td>\n",
       "      <td>50.656</td>\n",
       "      <td>49.654</td>\n",
       "      <td>49.942</td>\n",
       "      <td>16759165</td>\n",
       "      <td>0.0</td>\n",
       "      <td>1.0</td>\n",
       "    </tr>\n",
       "    <tr>\n",
       "      <th>3</th>\n",
       "      <td>TSLA</td>\n",
       "      <td>2017-03-03 00:00:00+00:00</td>\n",
       "      <td>251.57</td>\n",
       "      <td>251.90</td>\n",
       "      <td>249.00</td>\n",
       "      <td>250.74</td>\n",
       "      <td>2929234</td>\n",
       "      <td>50.314</td>\n",
       "      <td>50.380</td>\n",
       "      <td>49.800</td>\n",
       "      <td>50.148</td>\n",
       "      <td>14646170</td>\n",
       "      <td>0.0</td>\n",
       "      <td>1.0</td>\n",
       "    </tr>\n",
       "    <tr>\n",
       "      <th>4</th>\n",
       "      <td>TSLA</td>\n",
       "      <td>2017-03-06 00:00:00+00:00</td>\n",
       "      <td>251.21</td>\n",
       "      <td>251.70</td>\n",
       "      <td>247.51</td>\n",
       "      <td>247.91</td>\n",
       "      <td>3355500</td>\n",
       "      <td>50.242</td>\n",
       "      <td>50.340</td>\n",
       "      <td>49.502</td>\n",
       "      <td>49.582</td>\n",
       "      <td>16777500</td>\n",
       "      <td>0.0</td>\n",
       "      <td>1.0</td>\n",
       "    </tr>\n",
       "  </tbody>\n",
       "</table>\n",
       "</div>"
      ],
      "text/plain": [
       "  symbol                       date   close    high     low    open   volume  \\\n",
       "0   TSLA  2017-02-28 00:00:00+00:00  249.99  251.00  243.90  244.19  6078145   \n",
       "1   TSLA  2017-03-01 00:00:00+00:00  250.02  254.85  249.11  254.18  4809488   \n",
       "2   TSLA  2017-03-02 00:00:00+00:00  250.48  253.28  248.27  249.71  3351833   \n",
       "3   TSLA  2017-03-03 00:00:00+00:00  251.57  251.90  249.00  250.74  2929234   \n",
       "4   TSLA  2017-03-06 00:00:00+00:00  251.21  251.70  247.51  247.91  3355500   \n",
       "\n",
       "   adjClose  adjHigh  adjLow  adjOpen  adjVolume  divCash  splitFactor  \n",
       "0    49.998   50.200  48.780   48.838   30390725      0.0          1.0  \n",
       "1    50.004   50.970  49.822   50.836   24047440      0.0          1.0  \n",
       "2    50.096   50.656  49.654   49.942   16759165      0.0          1.0  \n",
       "3    50.314   50.380  49.800   50.148   14646170      0.0          1.0  \n",
       "4    50.242   50.340  49.502   49.582   16777500      0.0          1.0  "
      ]
     },
     "execution_count": 4,
     "metadata": {},
     "output_type": "execute_result"
    }
   ],
   "source": [
    "df= pd.read_csv('TSLA.csv')\n",
    "df.head()\n"
   ]
  },
  {
   "cell_type": "code",
   "execution_count": 5,
   "id": "94cde0ee",
   "metadata": {},
   "outputs": [],
   "source": [
    "df1= df.reset_index()['close']\n"
   ]
  },
  {
   "cell_type": "code",
   "execution_count": 6,
   "id": "4fb70acb",
   "metadata": {},
   "outputs": [
    {
     "data": {
      "text/plain": [
       "0    249.99\n",
       "1    250.02\n",
       "2    250.48\n",
       "3    251.57\n",
       "4    251.21\n",
       "Name: close, dtype: float64"
      ]
     },
     "execution_count": 6,
     "metadata": {},
     "output_type": "execute_result"
    }
   ],
   "source": [
    "df1.head()"
   ]
  },
  {
   "cell_type": "code",
   "execution_count": 7,
   "id": "4327b7a9",
   "metadata": {},
   "outputs": [
    {
     "data": {
      "text/plain": [
       "[<matplotlib.lines.Line2D at 0x2da45b55070>]"
      ]
     },
     "execution_count": 7,
     "metadata": {},
     "output_type": "execute_result"
    },
    {
     "data": {
      "image/png": "[encoded data removed]",
      "text/plain": [
       "<Figure size 432x288 with 1 Axes>"
      ]
     },
     "metadata": {
      "needs_background": "light"
     },
     "output_type": "display_data"
    }
   ],
   "source": [
    "plt.plot(df1)"
   ]
  },
  {
   "cell_type": "markdown",
   "id": "8d7324ac",
   "metadata": {},
   "source": [
    "LSTM is sensitive to scale of data, we are using MinMax scalar"
   ]
  },
  {
   "cell_type": "code",
   "execution_count": 8,
   "id": "890e90c9",
   "metadata": {},
   "outputs": [],
   "source": [
    "import numpy as np"
   ]
  },
  {
   "cell_type": "code",
   "execution_count": 9,
   "id": "dcc8aa63",
   "metadata": {},
   "outputs": [
    {
     "name": "stdout",
     "output_type": "stream",
     "text": [
      "[[0.03447941]\n",
      " [0.03449398]\n",
      " [0.0347173 ]\n",
      " ...\n",
      " [0.2840449 ]\n",
      " [0.3018769 ]\n",
      " [0.30629485]]\n"
     ]
    },
    {
     "data": {
      "text/plain": [
       "(1259, 1)"
      ]
     },
     "execution_count": 9,
     "metadata": {},
     "output_type": "execute_result"
    }
   ],
   "source": [
    "from sklearn.preprocessing import MinMaxScaler\n",
    "scalar= MinMaxScaler(feature_range=(0,1))\n",
    "df1= scalar.fit_transform(np.array(df1).reshape(-1,1))\n",
    "\n",
    "print(df1)\n",
    "df1.shape\n"
   ]
  },
  {
   "cell_type": "markdown",
   "id": "9e75097b",
   "metadata": {},
   "source": [
    "# Training and Testing\n",
    "first split the dataset"
   ]
  },
  {
   "cell_type": "code",
   "execution_count": 10,
   "id": "e52ac197",
   "metadata": {},
   "outputs": [],
   "source": [
    "training_size= int(len(df1)*0.65)\n",
    "test_size= len(df1)- training_size\n",
    "train_data, test_data = df1[0:training_size,:], df1[training_size:len(df1), :1]"
   ]
  },
  {
   "cell_type": "code",
   "execution_count": 11,
   "id": "6bf6dbb1",
   "metadata": {},
   "outputs": [
    {
     "data": {
      "text/plain": [
       "(818, 441)"
      ]
     },
     "execution_count": 11,
     "metadata": {},
     "output_type": "execute_result"
    }
   ],
   "source": [
    "training_size, test_size"
   ]
  },
  {
   "cell_type": "code",
   "execution_count": 12,
   "id": "786a89e3",
   "metadata": {},
   "outputs": [
    {
     "data": {
      "text/plain": [
       "(818, 441)"
      ]
     },
     "execution_count": 12,
     "metadata": {},
     "output_type": "execute_result"
    }
   ],
   "source": [
    "len(train_data), len(test_data)"
   ]
  },
  {
   "cell_type": "markdown",
   "id": "275020c2",
   "metadata": {},
   "source": [
    "Assigning time-steps so as to know how many past days dta to be considered for presiction\n"
   ]
  },
  {
   "cell_type": "code",
   "execution_count": 13,
   "id": "0ccb68e0",
   "metadata": {},
   "outputs": [],
   "source": [
    "#Convert an array of values into dataset matrix\n",
    "\n",
    "def create_dataset(dataset, time_step=1):\n",
    "    dataX, dataY= [],[]\n",
    "    for i in range(len(dataset)- time_step-1):\n",
    "        a= dataset[i:(i+time_step), 0]\n",
    "        dataX.append(a)\n",
    "        dataY.append(dataset[i+ time_step, 0])\n",
    "    return np.array(dataX), np.array(dataY)"
   ]
  },
  {
   "cell_type": "code",
   "execution_count": 14,
   "id": "9c975605",
   "metadata": {},
   "outputs": [],
   "source": [
    "#reshape into X=t, t+1, t+2, t+3 and Y=t+4\n",
    "\n",
    "time_step =100\n",
    "x_train, y_train= create_dataset(train_data, time_step)\n",
    "x_test, y_test= create_dataset(test_data, time_step)"
   ]
  },
  {
   "cell_type": "code",
   "execution_count": 15,
   "id": "9fb1e0e2",
   "metadata": {},
   "outputs": [
    {
     "data": {
      "text/plain": [
       "((717, 100), (717,))"
      ]
     },
     "execution_count": 15,
     "metadata": {},
     "output_type": "execute_result"
    }
   ],
   "source": [
    "x_train.shape, y_train.shape"
   ]
  },
  {
   "cell_type": "code",
   "execution_count": 16,
   "id": "0445c78f",
   "metadata": {},
   "outputs": [
    {
     "data": {
      "text/plain": [
       "((340, 100), (340,))"
      ]
     },
     "execution_count": 16,
     "metadata": {},
     "output_type": "execute_result"
    }
   ],
   "source": [
    "x_test.shape, y_test.shape"
   ]
  },
  {
   "cell_type": "markdown",
   "id": "75d5a531",
   "metadata": {},
   "source": [
    "reshaping input to be [sample, timesteps, features] which wil be used as LSTM"
   ]
  },
  {
   "cell_type": "code",
   "execution_count": 17,
   "id": "0b56caaf",
   "metadata": {},
   "outputs": [],
   "source": [
    "x_train= x_train.reshape(x_train.shape[0], x_train.shape[1],1)\n",
    "x_test= x_test.reshape(x_test.shape[0], x_test.shape[1],1)"
   ]
  },
  {
   "cell_type": "code",
   "execution_count": 18,
   "id": "2a5c658d",
   "metadata": {},
   "outputs": [],
   "source": [
    "import tensorflow as tf\n",
    "from tensorflow.keras.models import Sequential as sequential\n",
    "from tensorflow.keras.layers import Dense\n",
    "from tensorflow.keras.layers import LSTM"
   ]
  },
  {
   "cell_type": "markdown",
   "id": "ede18ca7",
   "metadata": {},
   "source": [
    "# Creating a stacked LSTM model"
   ]
  },
  {
   "cell_type": "code",
   "execution_count": 19,
   "id": "bd5efcf4",
   "metadata": {},
   "outputs": [],
   "source": [
    "model= sequential()\n",
    "model.add(LSTM(50,return_sequences= True, input_shape=(100,1)))\n",
    "model.add(LSTM(50,return_sequences= True,))\n",
    "model.add(LSTM(50))\n",
    "model.add(Dense(1))\n",
    "model.compile(loss='mean_squared_error', optimizer= 'adam')"
   ]
  },
  {
   "cell_type": "code",
   "execution_count": 20,
   "id": "aa57822e",
   "metadata": {
    "scrolled": true
   },
   "outputs": [
    {
     "name": "stdout",
     "output_type": "stream",
     "text": [
      "Model: \"sequential\"\n",
      "_________________________________________________________________\n",
      "Layer (type)                 Output Shape              Param #   \n",
      "=================================================================\n",
      "lstm (LSTM)                  (None, 100, 50)           10400     \n",
      "_________________________________________________________________\n",
      "lstm_1 (LSTM)                (None, 100, 50)           20200     \n",
      "_________________________________________________________________\n",
      "lstm_2 (LSTM)                (None, 50)                20200     \n",
      "_________________________________________________________________\n",
      "dense (Dense)                (None, 1)                 51        \n",
      "=================================================================\n",
      "Total params: 50,851\n",
      "Trainable params: 50,851\n",
      "Non-trainable params: 0\n",
      "_________________________________________________________________\n"
     ]
    }
   ],
   "source": [
    "model.summary()"
   ]
  },
  {
   "cell_type": "code",
   "execution_count": null,
   "id": "8938c547",
   "metadata": {
    "scrolled": true
   },
   "outputs": [
    {
     "name": "stdout",
     "output_type": "stream",
     "text": [
      "Epoch 1/100\n",
      "12/12 [==============================] - 2s 149ms/step - loss: 0.0050 - val_loss: 0.0203\n",
      "Epoch 2/100\n",
      "12/12 [==============================] - 1s 108ms/step - loss: 0.0018 - val_loss: 0.0024\n",
      "Epoch 3/100\n",
      "12/12 [==============================] - 1s 105ms/step - loss: 9.0575e-04 - val_loss: 0.0017\n",
      "Epoch 4/100\n",
      "12/12 [==============================] - 1s 107ms/step - loss: 7.7107e-04 - val_loss: 0.0021\n",
      "Epoch 5/100\n",
      "12/12 [==============================] - 1s 106ms/step - loss: 6.7565e-04 - val_loss: 0.0013\n",
      "Epoch 6/100\n",
      "12/12 [==============================] - 1s 108ms/step - loss: 5.8523e-04 - val_loss: 0.0011\n",
      "Epoch 7/100\n",
      "12/12 [==============================] - 1s 109ms/step - loss: 5.2697e-04 - val_loss: 0.0011\n",
      "Epoch 8/100\n",
      "12/12 [==============================] - 1s 118ms/step - loss: 4.4707e-04 - val_loss: 0.0011\n",
      "Epoch 9/100\n",
      "12/12 [==============================] - 1s 118ms/step - loss: 3.9505e-04 - val_loss: 0.0010\n",
      "Epoch 10/100\n",
      "12/12 [==============================] - 1s 116ms/step - loss: 3.8000e-04 - val_loss: 0.0013\n",
      "Epoch 11/100\n",
      "12/12 [==============================] - 1s 108ms/step - loss: 3.3455e-04 - val_loss: 0.0018\n",
      "Epoch 12/100\n",
      "12/12 [==============================] - 1s 109ms/step - loss: 3.4131e-04 - val_loss: 0.0019\n",
      "Epoch 13/100\n",
      "12/12 [==============================] - 1s 108ms/step - loss: 2.9844e-04 - val_loss: 0.0015\n",
      "Epoch 14/100\n",
      "12/12 [==============================] - 1s 110ms/step - loss: 2.9569e-04 - val_loss: 0.0015\n",
      "Epoch 15/100\n",
      "12/12 [==============================] - 1s 109ms/step - loss: 3.4137e-04 - val_loss: 0.0019\n",
      "Epoch 16/100\n",
      "12/12 [==============================] - 1s 110ms/step - loss: 2.8604e-04 - val_loss: 0.0017\n",
      "Epoch 17/100\n",
      "12/12 [==============================] - 1s 108ms/step - loss: 2.7594e-04 - val_loss: 0.0012\n",
      "Epoch 18/100\n",
      "12/12 [==============================] - 1s 109ms/step - loss: 2.8725e-04 - val_loss: 0.0021\n",
      "Epoch 19/100\n",
      "12/12 [==============================] - 1s 110ms/step - loss: 3.0302e-04 - val_loss: 0.0014\n",
      "Epoch 20/100\n",
      "12/12 [==============================] - 1s 111ms/step - loss: 2.8504e-04 - val_loss: 0.0013\n",
      "Epoch 21/100\n",
      "12/12 [==============================] - 1s 110ms/step - loss: 2.8371e-04 - val_loss: 0.0015\n",
      "Epoch 22/100\n",
      "12/12 [==============================] - 1s 112ms/step - loss: 2.7049e-04 - val_loss: 0.0016\n",
      "Epoch 23/100\n",
      "12/12 [==============================] - 1s 110ms/step - loss: 2.7253e-04 - val_loss: 0.0021\n",
      "Epoch 24/100\n",
      "12/12 [==============================] - 1s 108ms/step - loss: 2.7449e-04 - val_loss: 0.0015\n",
      "Epoch 25/100\n",
      "12/12 [==============================] - 1s 108ms/step - loss: 2.6831e-04 - val_loss: 0.0025\n",
      "Epoch 26/100\n",
      "12/12 [==============================] - 1s 108ms/step - loss: 2.6492e-04 - val_loss: 0.0015\n",
      "Epoch 27/100\n",
      "12/12 [==============================] - 1s 117ms/step - loss: 2.4926e-04 - val_loss: 0.0019\n",
      "Epoch 28/100\n",
      "12/12 [==============================] - 1s 108ms/step - loss: 2.6036e-04 - val_loss: 0.0020\n",
      "Epoch 29/100\n",
      "12/12 [==============================] - 1s 109ms/step - loss: 2.5896e-04 - val_loss: 0.0014\n",
      "Epoch 30/100\n",
      "12/12 [==============================] - 1s 110ms/step - loss: 2.6841e-04 - val_loss: 0.0021\n",
      "Epoch 31/100\n",
      "12/12 [==============================] - ETA: 0s - loss: 2.8432e-0 - 1s 106ms/step - loss: 2.8432e-04 - val_loss: 0.0012\n",
      "Epoch 32/100\n",
      "12/12 [==============================] - 1s 108ms/step - loss: 2.7546e-04 - val_loss: 0.0021\n",
      "Epoch 33/100\n",
      "12/12 [==============================] - 1s 106ms/step - loss: 2.5191e-04 - val_loss: 0.0028\n",
      "Epoch 34/100\n",
      "12/12 [==============================] - 1s 106ms/step - loss: 2.5878e-04 - val_loss: 0.0018\n",
      "Epoch 35/100\n",
      "12/12 [==============================] - 1s 106ms/step - loss: 2.7703e-04 - val_loss: 0.0023\n",
      "Epoch 36/100\n",
      "12/12 [==============================] - 1s 106ms/step - loss: 2.7400e-04 - val_loss: 0.0017\n",
      "Epoch 37/100\n",
      "12/12 [==============================] - 1s 105ms/step - loss: 3.2978e-04 - val_loss: 0.0032\n",
      "Epoch 38/100\n",
      "12/12 [==============================] - 1s 106ms/step - loss: 3.0269e-04 - val_loss: 0.0015\n",
      "Epoch 39/100\n",
      "12/12 [==============================] - 1s 107ms/step - loss: 2.5224e-04 - val_loss: 0.0017\n",
      "Epoch 40/100\n",
      "12/12 [==============================] - 1s 105ms/step - loss: 2.4800e-04 - val_loss: 0.0021\n",
      "Epoch 41/100\n",
      "12/12 [==============================] - 1s 105ms/step - loss: 2.4637e-04 - val_loss: 0.0022\n",
      "Epoch 42/100\n",
      "12/12 [==============================] - 1s 105ms/step - loss: 2.5555e-04 - val_loss: 0.0028\n",
      "Epoch 43/100\n",
      "12/12 [==============================] - 1s 105ms/step - loss: 2.4339e-04 - val_loss: 0.0028\n",
      "Epoch 44/100\n",
      "12/12 [==============================] - 1s 103ms/step - loss: 2.4778e-04 - val_loss: 0.0030\n",
      "Epoch 45/100\n",
      "12/12 [==============================] - 1s 105ms/step - loss: 2.4338e-04 - val_loss: 0.0018\n",
      "Epoch 46/100\n",
      "12/12 [==============================] - 1s 105ms/step - loss: 2.3164e-04 - val_loss: 0.0040\n",
      "Epoch 47/100\n",
      "12/12 [==============================] - 1s 106ms/step - loss: 2.4505e-04 - val_loss: 0.0044\n",
      "Epoch 48/100\n",
      "12/12 [==============================] - 1s 106ms/step - loss: 2.3055e-04 - val_loss: 0.0017\n",
      "Epoch 49/100\n",
      "12/12 [==============================] - 1s 105ms/step - loss: 2.5722e-04 - val_loss: 0.0032\n",
      "Epoch 50/100\n",
      "12/12 [==============================] - 1s 105ms/step - loss: 2.4965e-04 - val_loss: 0.0027\n",
      "Epoch 51/100\n",
      "12/12 [==============================] - 1s 107ms/step - loss: 2.5771e-04 - val_loss: 0.0017\n",
      "Epoch 52/100\n",
      " 8/12 [===================>..........] - ETA: 0s - loss: 1.8810e-04"
     ]
    }
   ],
   "source": [
    "model.fit(x_train, y_train, validation_data=(x_test, y_test), epochs=100, batch_size=64, verbose=1)"
   ]
  },
  {
   "cell_type": "markdown",
   "id": "72bba6e3",
   "metadata": {},
   "source": [
    "# Prediction model"
   ]
  },
  {
   "cell_type": "code",
   "execution_count": null,
   "id": "9dd0ac00",
   "metadata": {},
   "outputs": [],
   "source": [
    "#prediction and checking performance metrices\n",
    "\n",
    "train_predict= model.predict(x_train)\n",
    "test_predict= model.predict(x_test)"
   ]
  },
  {
   "cell_type": "code",
   "execution_count": null,
   "id": "f3a5d1c7",
   "metadata": {},
   "outputs": [],
   "source": [
    "#transform back to original form\n",
    "\n",
    "train_predict= scalar.inverse_transform(train_predict)\n",
    "test_predict= scalar.inverse_transform(test_predict)"
   ]
  },
  {
   "cell_type": "code",
   "execution_count": null,
   "id": "ad4fd66a",
   "metadata": {},
   "outputs": [],
   "source": [
    "#calculating RSME(root squared mean) performance metrics\n",
    "\n",
    "import math\n",
    "from sklearn.metrics import mean_squared_error\n"
   ]
  },
  {
   "cell_type": "code",
   "execution_count": null,
   "id": "46d71380",
   "metadata": {},
   "outputs": [],
   "source": [
    "#train data RMSE\n",
    "\n",
    "math.sqrt(mean_squared_error(y_train, train_predict))"
   ]
  },
  {
   "cell_type": "code",
   "execution_count": null,
   "id": "f8c8dfd2",
   "metadata": {},
   "outputs": [],
   "source": [
    "#test data RMSE\n",
    "\n",
    "\n",
    "math.sqrt(mean_squared_error(y_test, test_predict))"
   ]
  },
  {
   "cell_type": "markdown",
   "id": "90727c8b",
   "metadata": {},
   "source": [
    "# Plotting"
   ]
  },
  {
   "cell_type": "code",
   "execution_count": null,
   "id": "9caa413c",
   "metadata": {},
   "outputs": [],
   "source": [
    "# shift train predictions for plotting\n",
    "look_back=100\n",
    "trainPredictPlot = np.empty_like(df1)\n",
    "trainPredictPlot[:, :] = np.nan\n",
    "trainPredictPlot[look_back:len(train_predict)+look_back, :] = train_predict\n",
    "# shift test predictions for plotting\n",
    "testPredictPlot = np.empty_like(df1)\n",
    "testPredictPlot[:, :] = np.nan\n",
    "testPredictPlot[len(train_predict)+(look_back*2)+1:len(df1)-1, :] = test_predict\n",
    "# plot baseline and predictions\n",
    "plt.plot(scalar.inverse_transform(df1))\n",
    "plt.plot(trainPredictPlot)\n",
    "plt.plot(testPredictPlot)\n",
    "plt.show()"
   ]
  },
  {
   "cell_type": "code",
   "execution_count": null,
   "id": "a269021c",
   "metadata": {},
   "outputs": [],
   "source": [
    "len(test_data)"
   ]
  },
  {
   "cell_type": "code",
   "execution_count": null,
   "id": "cb06046b",
   "metadata": {},
   "outputs": [],
   "source": [
    "x_input=test_data[341:].reshape(1,-1)\n",
    "x_input.shape"
   ]
  },
  {
   "cell_type": "code",
   "execution_count": null,
   "id": "47fb5df7",
   "metadata": {
    "scrolled": true
   },
   "outputs": [],
   "source": [
    "temp_input=list(x_input)\n",
    "temp_input=temp_input[0].tolist()\n",
    "temp_input"
   ]
  },
  {
   "cell_type": "code",
   "execution_count": null,
   "id": "49c466cc",
   "metadata": {},
   "outputs": [],
   "source": [
    "# demonstrate prediction for next 10 days\n",
    "from numpy import array\n",
    "\n",
    "lst_output=[]\n",
    "n_steps=100\n",
    "i=0\n",
    "while(i<30):\n",
    "    \n",
    "    if(len(temp_input)>100):\n",
    "        #print(temp_input)\n",
    "        x_input=np.array(temp_input[1:])\n",
    "        print(\"{} day input {}\".format(i,x_input))\n",
    "        x_input=x_input.reshape(1,-1)\n",
    "        x_input = x_input.reshape((1, n_steps, 1))\n",
    "        #print(x_input)\n",
    "        yhat = model.predict(x_input, verbose=0)\n",
    "        print(\"{} day output {}\".format(i,yhat))\n",
    "        temp_input.extend(yhat[0].tolist())\n",
    "        temp_input=temp_input[1:]\n",
    "        #print(temp_input)\n",
    "        lst_output.extend(yhat.tolist())\n",
    "        i=i+1\n",
    "    else:\n",
    "        x_input = x_input.reshape((1, n_steps,1))\n",
    "        yhat = model.predict(x_input, verbose=0)\n",
    "        print(yhat[0])\n",
    "        temp_input.extend(yhat[0].tolist())\n",
    "        print(len(temp_input))\n",
    "        lst_output.extend(yhat.tolist())\n",
    "        i=i+1\n",
    "    \n",
    "\n",
    "print(lst_output)"
   ]
  },
  {
   "cell_type": "code",
   "execution_count": null,
   "id": "d9b97ce6",
   "metadata": {},
   "outputs": [],
   "source": [
    "day_new=np.arange(1,101)\n",
    "day_pred=np.arange(101,131)\n",
    "len(df1)"
   ]
  },
  {
   "cell_type": "code",
   "execution_count": null,
   "id": "74862827",
   "metadata": {},
   "outputs": [],
   "source": [
    "plt.plot(day_new,scalar.inverse_transform(df1[1159:]))\n",
    "plt.plot(day_pred,scalar.inverse_transform(lst_output))"
   ]
  },
  {
   "cell_type": "code",
   "execution_count": null,
   "id": "09f4690b",
   "metadata": {},
   "outputs": [],
   "source": [
    "#combining df1 to the lst output\n",
    "df3=df1.tolist()\n",
    "df3.extend(lst_output)\n",
    "plt.plot(df3[1200:])"
   ]
  },
  {
   "cell_type": "code",
   "execution_count": null,
   "id": "b2614403",
   "metadata": {},
   "outputs": [],
   "source": [
    "df3=scalar.inverse_transform(df3).tolist()\n",
    "plt.plot(df3)\n"
   ]
  },
  {
   "cell_type": "code",
   "execution_count": null,
   "id": "74b6b604",
   "metadata": {},
   "outputs": [],
   "source": []
  }
 ],
 "metadata": {
  "kernelspec": {
   "display_name": "Python 3",
   "language": "python",
   "name": "python3"
  },
  "language_info": {
   "codemirror_mode": {
    "name": "ipython",
    "version": 3
   },
   "file_extension": ".py",
   "mimetype": "text/x-python",
   "name": "python",
   "nbconvert_exporter": "python",
   "pygments_lexer": "ipython3",
   "version": "3.8.8"
  }
 },
 "nbformat": 4,
 "nbformat_minor": 5
}
