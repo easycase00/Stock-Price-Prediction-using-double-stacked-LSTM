{
 "cells": [
  {
   "cell_type": "code",
   "execution_count": 3,
   "id": "20ea7da0",
   "metadata": {},
   "outputs": [],
   "source": [
    "import pandas as pd\n",
    "import pandas_datareader as pdr\n",
    "#helps in remotely accessing data from sites"
   ]
  },
  {
   "cell_type": "markdown",
   "id": "2ec1bdef",
   "metadata": {},
   "source": [
    "# Data Collection\n",
    "taking stock data from AAPL"
   ]
  },
  {
   "cell_type": "code",
   "execution_count": null,
   "id": "3c70ab19",
   "metadata": {},
   "outputs": [],
   "source": []
  }
 ],
 "metadata": {
  "kernelspec": {
   "display_name": "Python 3",
   "language": "python",
   "name": "python3"
  },
  "language_info": {
   "codemirror_mode": {
    "name": "ipython",
    "version": 3
   },
   "file_extension": ".py",
   "mimetype": "text/x-python",
   "name": "python",
   "nbconvert_exporter": "python",
   "pygments_lexer": "ipython3",
   "version": "3.8.8"
  }
 },
 "nbformat": 4,
 "nbformat_minor": 5
}
