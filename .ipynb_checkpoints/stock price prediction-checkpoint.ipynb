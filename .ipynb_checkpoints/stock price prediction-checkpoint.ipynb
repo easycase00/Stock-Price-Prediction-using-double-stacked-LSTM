{
 "cells": [
  {
   "cell_type": "code",
   "execution_count": 1,
   "id": "cfd80731",
   "metadata": {},
   "outputs": [],
   "source": [
    "import pandas as pd\n",
    "\n",
    "import pandas_datareader as pdr\n",
    "#helps in remotely accessing data from sites\n",
    "\n",
    "import matplotlib.pyplot as plt"
   ]
  },
  {
   "cell_type": "markdown",
   "id": "acabc882",
   "metadata": {},
   "source": [
    "# Data Collection\n",
    "Importing stock data from Tiingo, which is supported by pandas_datareader\n",
    "stock price for aaple- AAPL"
   ]
  },
  {
   "cell_type": "code",
   "execution_count": 2,
   "id": "25b4ad1d",
   "metadata": {},
   "outputs": [],
   "source": [
    "df= pdr.get_data_tiingo('TSLA', api_key=\"77f2b1c33ecff205fd3489be2a3b5d3ad9595913\"\n",
    ")"
   ]
  },
  {
   "cell_type": "code",
   "execution_count": 3,
   "id": "5f6080b4",
   "metadata": {},
   "outputs": [],
   "source": [
    "df.to_csv('TSLA.csv')"
   ]
  },
  {
   "cell_type": "code",
   "execution_count": 4,
   "id": "5d6104dc",
   "metadata": {},
   "outputs": [
    {
     "data": {
      "text/html": [
       "<div>\n",
       "<style scoped>\n",
       "    .dataframe tbody tr th:only-of-type {\n",
       "        vertical-align: middle;\n",
       "    }\n",
       "\n",
       "    .dataframe tbody tr th {\n",
       "        vertical-align: top;\n",
       "    }\n",
       "\n",
       "    .dataframe thead th {\n",
       "        text-align: right;\n",
       "    }\n",
       "</style>\n",
       "<table border=\"1\" class=\"dataframe\">\n",
       "  <thead>\n",
       "    <tr style=\"text-align: right;\">\n",
       "      <th></th>\n",
       "      <th>symbol</th>\n",
       "      <th>date</th>\n",
       "      <th>close</th>\n",
       "      <th>high</th>\n",
       "      <th>low</th>\n",
       "      <th>open</th>\n",
       "      <th>volume</th>\n",
       "      <th>adjClose</th>\n",
       "      <th>adjHigh</th>\n",
       "      <th>adjLow</th>\n",
       "      <th>adjOpen</th>\n",
       "      <th>adjVolume</th>\n",
       "      <th>divCash</th>\n",
       "      <th>splitFactor</th>\n",
       "    </tr>\n",
       "  </thead>\n",
       "  <tbody>\n",
       "    <tr>\n",
       "      <th>0</th>\n",
       "      <td>TSLA</td>\n",
       "      <td>2017-02-28 00:00:00+00:00</td>\n",
       "      <td>249.99</td>\n",
       "      <td>251.00</td>\n",
       "      <td>243.90</td>\n",
       "      <td>244.19</td>\n",
       "      <td>6078145</td>\n",
       "      <td>49.998</td>\n",
       "      <td>50.200</td>\n",
       "      <td>48.780</td>\n",
       "      <td>48.838</td>\n",
       "      <td>30390725</td>\n",
       "      <td>0.0</td>\n",
       "      <td>1.0</td>\n",
       "    </tr>\n",
       "    <tr>\n",
       "      <th>1</th>\n",
       "      <td>TSLA</td>\n",
       "      <td>2017-03-01 00:00:00+00:00</td>\n",
       "      <td>250.02</td>\n",
       "      <td>254.85</td>\n",
       "      <td>249.11</td>\n",
       "      <td>254.18</td>\n",
       "      <td>4809488</td>\n",
       "      <td>50.004</td>\n",
       "      <td>50.970</td>\n",
       "      <td>49.822</td>\n",
       "      <td>50.836</td>\n",
       "      <td>24047440</td>\n",
       "      <td>0.0</td>\n",
       "      <td>1.0</td>\n",
       "    </tr>\n",
       "    <tr>\n",
       "      <th>2</th>\n",
       "      <td>TSLA</td>\n",
       "      <td>2017-03-02 00:00:00+00:00</td>\n",
       "      <td>250.48</td>\n",
       "      <td>253.28</td>\n",
       "      <td>248.27</td>\n",
       "      <td>249.71</td>\n",
       "      <td>3351833</td>\n",
       "      <td>50.096</td>\n",
       "      <td>50.656</td>\n",
       "      <td>49.654</td>\n",
       "      <td>49.942</td>\n",
       "      <td>16759165</td>\n",
       "      <td>0.0</td>\n",
       "      <td>1.0</td>\n",
       "    </tr>\n",
       "    <tr>\n",
       "      <th>3</th>\n",
       "      <td>TSLA</td>\n",
       "      <td>2017-03-03 00:00:00+00:00</td>\n",
       "      <td>251.57</td>\n",
       "      <td>251.90</td>\n",
       "      <td>249.00</td>\n",
       "      <td>250.74</td>\n",
       "      <td>2929234</td>\n",
       "      <td>50.314</td>\n",
       "      <td>50.380</td>\n",
       "      <td>49.800</td>\n",
       "      <td>50.148</td>\n",
       "      <td>14646170</td>\n",
       "      <td>0.0</td>\n",
       "      <td>1.0</td>\n",
       "    </tr>\n",
       "    <tr>\n",
       "      <th>4</th>\n",
       "      <td>TSLA</td>\n",
       "      <td>2017-03-06 00:00:00+00:00</td>\n",
       "      <td>251.21</td>\n",
       "      <td>251.70</td>\n",
       "      <td>247.51</td>\n",
       "      <td>247.91</td>\n",
       "      <td>3355500</td>\n",
       "      <td>50.242</td>\n",
       "      <td>50.340</td>\n",
       "      <td>49.502</td>\n",
       "      <td>49.582</td>\n",
       "      <td>16777500</td>\n",
       "      <td>0.0</td>\n",
       "      <td>1.0</td>\n",
       "    </tr>\n",
       "  </tbody>\n",
       "</table>\n",
       "</div>"
      ],
      "text/plain": [
       "  symbol                       date   close    high     low    open   volume  \\\n",
       "0   TSLA  2017-02-28 00:00:00+00:00  249.99  251.00  243.90  244.19  6078145   \n",
       "1   TSLA  2017-03-01 00:00:00+00:00  250.02  254.85  249.11  254.18  4809488   \n",
       "2   TSLA  2017-03-02 00:00:00+00:00  250.48  253.28  248.27  249.71  3351833   \n",
       "3   TSLA  2017-03-03 00:00:00+00:00  251.57  251.90  249.00  250.74  2929234   \n",
       "4   TSLA  2017-03-06 00:00:00+00:00  251.21  251.70  247.51  247.91  3355500   \n",
       "\n",
       "   adjClose  adjHigh  adjLow  adjOpen  adjVolume  divCash  splitFactor  \n",
       "0    49.998   50.200  48.780   48.838   30390725      0.0          1.0  \n",
       "1    50.004   50.970  49.822   50.836   24047440      0.0          1.0  \n",
       "2    50.096   50.656  49.654   49.942   16759165      0.0          1.0  \n",
       "3    50.314   50.380  49.800   50.148   14646170      0.0          1.0  \n",
       "4    50.242   50.340  49.502   49.582   16777500      0.0          1.0  "
      ]
     },
     "execution_count": 4,
     "metadata": {},
     "output_type": "execute_result"
    }
   ],
   "source": [
    "df= pd.read_csv('TSLA.csv')\n",
    "df.head()\n"
   ]
  },
  {
   "cell_type": "code",
   "execution_count": 5,
   "id": "94cde0ee",
   "metadata": {},
   "outputs": [],
   "source": [
    "df1= df.reset_index()['close']\n"
   ]
  },
  {
   "cell_type": "code",
   "execution_count": 6,
   "id": "4fb70acb",
   "metadata": {},
   "outputs": [
    {
     "data": {
      "text/plain": [
       "0    249.99\n",
       "1    250.02\n",
       "2    250.48\n",
       "3    251.57\n",
       "4    251.21\n",
       "Name: close, dtype: float64"
      ]
     },
     "execution_count": 6,
     "metadata": {},
     "output_type": "execute_result"
    }
   ],
   "source": [
    "df1.head()"
   ]
  },
  {
   "cell_type": "code",
   "execution_count": 7,
   "id": "4327b7a9",
   "metadata": {},
   "outputs": [
    {
     "data": {
      "text/plain": [
       "[<matplotlib.lines.Line2D at 0x2da45b55070>]"
      ]
     },
     "execution_count": 7,
     "metadata": {},
     "output_type": "execute_result"
    },
    {
     "data": {
      "image/png": "[encoded data removed]",
      "text/plain": [
       "<Figure size 432x288 with 1 Axes>"
      ]
     },
     "metadata": {
      "needs_background": "light"
     },
     "output_type": "display_data"
    }
   ],
   "source": [
    "plt.plot(df1)"
   ]
  },
  {
   "cell_type": "markdown",
   "id": "8d7324ac",
   "metadata": {},
   "source": [
    "LSTM is sensitive to scale of data, we are using MinMax scalar"
   ]
  },
  {
   "cell_type": "code",
   "execution_count": 8,
   "id": "890e90c9",
   "metadata": {},
   "outputs": [],
   "source": [
    "import numpy as np"
   ]
  },
  {
   "cell_type": "code",
   "execution_count": 9,
   "id": "dcc8aa63",
   "metadata": {},
   "outputs": [
    {
     "name": "stdout",
     "output_type": "stream",
     "text": [
      "[[0.03447941]\n",
      " [0.03449398]\n",
      " [0.0347173 ]\n",
      " ...\n",
      " [0.2840449 ]\n",
      " [0.3018769 ]\n",
      " [0.30629485]]\n"
     ]
    },
    {
     "data": {
      "text/plain": [
       "(1259, 1)"
      ]
     },
     "execution_count": 9,
     "metadata": {},
     "output_type": "execute_result"
    }
   ],
   "source": [
    "from sklearn.preprocessing import MinMaxScaler\n",
    "scalar= MinMaxScaler(feature_range=(0,1))\n",
    "df1= scalar.fit_transform(np.array(df1).reshape(-1,1))\n",
    "\n",
    "print(df1)\n",
    "df1.shape\n"
   ]
  },
  {
   "cell_type": "markdown",
   "id": "9e75097b",
   "metadata": {},
   "source": [
    "# Training and Testing\n",
    "first split the dataset"
   ]
  },
  {
   "cell_type": "code",
   "execution_count": 10,
   "id": "e52ac197",
   "metadata": {},
   "outputs": [],
   "source": [
    "training_size= int(len(df1)*0.65)\n",
    "test_size= len(df1)- training_size\n",
    "train_data, test_data = df1[0:training_size,:], df1[training_size:len(df1), :1]"
   ]
  },
  {
   "cell_type": "code",
   "execution_count": 11,
   "id": "6bf6dbb1",
   "metadata": {},
   "outputs": [
    {
     "data": {
      "text/plain": [
       "(818, 441)"
      ]
     },
     "execution_count": 11,
     "metadata": {},
     "output_type": "execute_result"
    }
   ],
   "source": [
    "training_size, test_size"
   ]
  },
  {
   "cell_type": "code",
   "execution_count": 12,
   "id": "786a89e3",
   "metadata": {},
   "outputs": [
    {
     "data": {
      "text/plain": [
       "(818, 441)"
      ]
     },
     "execution_count": 12,
     "metadata": {},
     "output_type": "execute_result"
    }
   ],
   "source": [
    "len(train_data), len(test_data)"
   ]
  },
  {
   "cell_type": "markdown",
   "id": "275020c2",
   "metadata": {},
   "source": [
    "Assigning time-steps so as to know how many past days dta to be considered for presiction\n"
   ]
  },
  {
   "cell_type": "code",
   "execution_count": 13,
   "id": "0ccb68e0",
   "metadata": {},
   "outputs": [],
   "source": [
    "#Convert an array of values into dataset matrix\n",
    "\n",
    "def create_dataset(dataset, time_step=1):\n",
    "    dataX, dataY= [],[]\n",
    "    for i in range(len(dataset)- time_step-1):\n",
    "        a= dataset[i:(i+time_step), 0]\n",
    "        dataX.append(a)\n",
    "        dataY.append(dataset[i+ time_step, 0])\n",
    "    return np.array(dataX), np.array(dataY)"
   ]
  },
  {
   "cell_type": "code",
   "execution_count": 14,
   "id": "9c975605",
   "metadata": {},
   "outputs": [],
   "source": [
    "#reshape into X=t, t+1, t+2, t+3 and Y=t+4\n",
    "\n",
    "time_step =100\n",
    "x_train, y_train= create_dataset(train_data, time_step)\n",
    "x_test, y_test= create_dataset(test_data, time_step)"
   ]
  },
  {
   "cell_type": "code",
   "execution_count": 15,
   "id": "9fb1e0e2",
   "metadata": {},
   "outputs": [
    {
     "data": {
      "text/plain": [
       "((717, 100), (717,))"
      ]
     },
     "execution_count": 15,
     "metadata": {},
     "output_type": "execute_result"
    }
   ],
   "source": [
    "x_train.shape, y_train.shape"
   ]
  },
  {
   "cell_type": "code",
   "execution_count": 16,
   "id": "0445c78f",
   "metadata": {},
   "outputs": [
    {
     "data": {
      "text/plain": [
       "((340, 100), (340,))"
      ]
     },
     "execution_count": 16,
     "metadata": {},
     "output_type": "execute_result"
    }
   ],
   "source": [
    "x_test.shape, y_test.shape"
   ]
  },
  {
   "cell_type": "markdown",
   "id": "f8ccfb89",
   "metadata": {},
   "source": [
    "reshaping input to be [sample, timesteps, features] which wil be used as LSTM"
   ]
  },
  {
   "cell_type": "code",
   "execution_count": 17,
   "id": "55d2d255",
   "metadata": {},
   "outputs": [],
   "source": [
    "x_train= x_train.reshape(x_train.shape[0], x_train.shape[1],1)\n",
    "x_test= x_test.reshape(x_test.shape[0], x_test.shape[1],1)"
   ]
  },
  {
   "cell_type": "code",
   "execution_count": 18,
   "id": "73741726",
   "metadata": {},
   "outputs": [],
   "source": [
    "import tensorflow as tf\n",
    "from tensorflow.keras.models import Sequential as sequential\n",
    "from tensorflow.keras.layers import Dense\n",
    "from tensorflow.keras.layers import LSTM"
   ]
  },
  {
   "cell_type": "markdown",
   "id": "c4319030",
   "metadata": {},
   "source": [
    "# Creating a stacked LSTM model"
   ]
  },
  {
   "cell_type": "code",
   "execution_count": 19,
   "id": "0370d6ad",
   "metadata": {},
   "outputs": [],
   "source": [
    "model= sequential()\n",
    "model.add(LSTM(50,return_sequences= True, input_shape=(100,1)))\n",
    "model.add(LSTM(50,return_sequences= True,))\n",
    "model.add(LSTM(50))\n",
    "model.add(Dense(1))\n",
    "model.compile(loss='mean_squared_error', optimizer= 'adam')"
   ]
  },
  {
   "cell_type": "code",
   "execution_count": 20,
   "id": "cd7c7880",
   "metadata": {
    "scrolled": true
   },
   "outputs": [
    {
     "name": "stdout",
     "output_type": "stream",
     "text": [
      "Model: \"sequential\"\n",
      "_________________________________________________________________\n",
      "Layer (type)                 Output Shape              Param #   \n",
      "=================================================================\n",
      "lstm (LSTM)                  (None, 100, 50)           10400     \n",
      "_________________________________________________________________\n",
      "lstm_1 (LSTM)                (None, 100, 50)           20200     \n",
      "_________________________________________________________________\n",
      "lstm_2 (LSTM)                (None, 50)                20200     \n",
      "_________________________________________________________________\n",
      "dense (Dense)                (None, 1)                 51        \n",
      "=================================================================\n",
      "Total params: 50,851\n",
      "Trainable params: 50,851\n",
      "Non-trainable params: 0\n",
      "_________________________________________________________________\n"
     ]
    }
   ],
   "source": [
    "model.summary()"
   ]
  },
  {
   "cell_type": "code",
   "execution_count": 21,
   "id": "3efc582b",
   "metadata": {
    "scrolled": true
   },
   "outputs": [
    {
     "name": "stdout",
     "output_type": "stream",
     "text": [
      "Epoch 1/100\n",
      "12/12 [==============================] - 2s 149ms/step - loss: 0.0050 - val_loss: 0.0203\n",
      "Epoch 2/100\n",
      "12/12 [==============================] - 1s 108ms/step - loss: 0.0018 - val_loss: 0.0024\n",
      "Epoch 3/100\n",
      "12/12 [==============================] - 1s 105ms/step - loss: 9.0575e-04 - val_loss: 0.0017\n",
      "Epoch 4/100\n",
      "12/12 [==============================] - 1s 107ms/step - loss: 7.7107e-04 - val_loss: 0.0021\n",
      "Epoch 5/100\n",
      "12/12 [==============================] - 1s 106ms/step - loss: 6.7565e-04 - val_loss: 0.0013\n",
      "Epoch 6/100\n",
      "12/12 [==============================] - 1s 108ms/step - loss: 5.8523e-04 - val_loss: 0.0011\n",
      "Epoch 7/100\n",
      "12/12 [==============================] - 1s 109ms/step - loss: 5.2697e-04 - val_loss: 0.0011\n",
      "Epoch 8/100\n",
      "12/12 [==============================] - 1s 118ms/step - loss: 4.4707e-04 - val_loss: 0.0011\n",
      "Epoch 9/100\n",
      "12/12 [==============================] - 1s 118ms/step - loss: 3.9505e-04 - val_loss: 0.0010\n",
      "Epoch 10/100\n",
      "12/12 [==============================] - 1s 116ms/step - loss: 3.8000e-04 - val_loss: 0.0013\n",
      "Epoch 11/100\n",
      "12/12 [==============================] - 1s 108ms/step - loss: 3.3455e-04 - val_loss: 0.0018\n",
      "Epoch 12/100\n",
      "12/12 [==============================] - 1s 109ms/step - loss: 3.4131e-04 - val_loss: 0.0019\n",
      "Epoch 13/100\n",
      "12/12 [==============================] - 1s 108ms/step - loss: 2.9844e-04 - val_loss: 0.0015\n",
      "Epoch 14/100\n",
      "12/12 [==============================] - 1s 110ms/step - loss: 2.9569e-04 - val_loss: 0.0015\n",
      "Epoch 15/100\n",
      "12/12 [==============================] - 1s 109ms/step - loss: 3.4137e-04 - val_loss: 0.0019\n",
      "Epoch 16/100\n",
      "12/12 [==============================] - 1s 110ms/step - loss: 2.8604e-04 - val_loss: 0.0017\n",
      "Epoch 17/100\n",
      "12/12 [==============================] - 1s 108ms/step - loss: 2.7594e-04 - val_loss: 0.0012\n",
      "Epoch 18/100\n",
      "12/12 [==============================] - 1s 109ms/step - loss: 2.8725e-04 - val_loss: 0.0021\n",
      "Epoch 19/100\n",
      "12/12 [==============================] - 1s 110ms/step - loss: 3.0302e-04 - val_loss: 0.0014\n",
      "Epoch 20/100\n",
      "12/12 [==============================] - 1s 111ms/step - loss: 2.8504e-04 - val_loss: 0.0013\n",
      "Epoch 21/100\n",
      "12/12 [==============================] - 1s 110ms/step - loss: 2.8371e-04 - val_loss: 0.0015\n",
      "Epoch 22/100\n",
      "12/12 [==============================] - 1s 112ms/step - loss: 2.7049e-04 - val_loss: 0.0016\n",
      "Epoch 23/100\n",
      "12/12 [==============================] - 1s 110ms/step - loss: 2.7253e-04 - val_loss: 0.0021\n",
      "Epoch 24/100\n",
      "12/12 [==============================] - 1s 108ms/step - loss: 2.7449e-04 - val_loss: 0.0015\n",
      "Epoch 25/100\n",
      "12/12 [==============================] - 1s 108ms/step - loss: 2.6831e-04 - val_loss: 0.0025\n",
      "Epoch 26/100\n",
      "12/12 [==============================] - 1s 108ms/step - loss: 2.6492e-04 - val_loss: 0.0015\n",
      "Epoch 27/100\n",
      "12/12 [==============================] - 1s 117ms/step - loss: 2.4926e-04 - val_loss: 0.0019\n",
      "Epoch 28/100\n",
      "12/12 [==============================] - 1s 108ms/step - loss: 2.6036e-04 - val_loss: 0.0020\n",
      "Epoch 29/100\n",
      "12/12 [==============================] - 1s 109ms/step - loss: 2.5896e-04 - val_loss: 0.0014\n",
      "Epoch 30/100\n",
      "12/12 [==============================] - 1s 110ms/step - loss: 2.6841e-04 - val_loss: 0.0021\n",
      "Epoch 31/100\n",
      "12/12 [==============================] - ETA: 0s - loss: 2.8432e-0 - 1s 106ms/step - loss: 2.8432e-04 - val_loss: 0.0012\n",
      "Epoch 32/100\n",
      "12/12 [==============================] - 1s 108ms/step - loss: 2.7546e-04 - val_loss: 0.0021\n",
      "Epoch 33/100\n",
      "12/12 [==============================] - 1s 106ms/step - loss: 2.5191e-04 - val_loss: 0.0028\n",
      "Epoch 34/100\n",
      "12/12 [==============================] - 1s 106ms/step - loss: 2.5878e-04 - val_loss: 0.0018\n",
      "Epoch 35/100\n",
      "12/12 [==============================] - 1s 106ms/step - loss: 2.7703e-04 - val_loss: 0.0023\n",
      "Epoch 36/100\n",
      "12/12 [==============================] - 1s 106ms/step - loss: 2.7400e-04 - val_loss: 0.0017\n",
      "Epoch 37/100\n",
      "12/12 [==============================] - 1s 105ms/step - loss: 3.2978e-04 - val_loss: 0.0032\n",
      "Epoch 38/100\n",
      "12/12 [==============================] - 1s 106ms/step - loss: 3.0269e-04 - val_loss: 0.0015\n",
      "Epoch 39/100\n",
      "12/12 [==============================] - 1s 107ms/step - loss: 2.5224e-04 - val_loss: 0.0017\n",
      "Epoch 40/100\n",
      "12/12 [==============================] - 1s 105ms/step - loss: 2.4800e-04 - val_loss: 0.0021\n",
      "Epoch 41/100\n",
      "12/12 [==============================] - 1s 105ms/step - loss: 2.4637e-04 - val_loss: 0.0022\n",
      "Epoch 42/100\n",
      "12/12 [==============================] - 1s 105ms/step - loss: 2.5555e-04 - val_loss: 0.0028\n",
      "Epoch 43/100\n",
      "12/12 [==============================] - 1s 105ms/step - loss: 2.4339e-04 - val_loss: 0.0028\n",
      "Epoch 44/100\n",
      "12/12 [==============================] - 1s 103ms/step - loss: 2.4778e-04 - val_loss: 0.0030\n",
      "Epoch 45/100\n",
      "12/12 [==============================] - 1s 105ms/step - loss: 2.4338e-04 - val_loss: 0.0018\n",
      "Epoch 46/100\n",
      "12/12 [==============================] - 1s 105ms/step - loss: 2.3164e-04 - val_loss: 0.0040\n",
      "Epoch 47/100\n",
      "12/12 [==============================] - 1s 106ms/step - loss: 2.4505e-04 - val_loss: 0.0044\n",
      "Epoch 48/100\n",
      "12/12 [==============================] - 1s 106ms/step - loss: 2.3055e-04 - val_loss: 0.0017\n",
      "Epoch 49/100\n",
      "12/12 [==============================] - 1s 105ms/step - loss: 2.5722e-04 - val_loss: 0.0032\n",
      "Epoch 50/100\n",
      "12/12 [==============================] - 1s 105ms/step - loss: 2.4965e-04 - val_loss: 0.0027\n",
      "Epoch 51/100\n",
      "12/12 [==============================] - 1s 107ms/step - loss: 2.5771e-04 - val_loss: 0.0017\n",
      "Epoch 52/100\n",
      "12/12 [==============================] - 1s 106ms/step - loss: 2.4365e-04 - val_loss: 0.0021\n",
      "Epoch 53/100\n",
      "12/12 [==============================] - 1s 105ms/step - loss: 2.5081e-04 - val_loss: 0.0039\n",
      "Epoch 54/100\n",
      "12/12 [==============================] - 1s 107ms/step - loss: 2.7744e-04 - val_loss: 0.0012\n",
      "Epoch 55/100\n",
      "12/12 [==============================] - 1s 104ms/step - loss: 2.4694e-04 - val_loss: 0.0014\n",
      "Epoch 56/100\n",
      "12/12 [==============================] - 1s 106ms/step - loss: 2.3382e-04 - val_loss: 0.0022\n",
      "Epoch 57/100\n",
      "12/12 [==============================] - 1s 106ms/step - loss: 2.3151e-04 - val_loss: 0.0017\n",
      "Epoch 58/100\n",
      "12/12 [==============================] - 1s 106ms/step - loss: 2.3810e-04 - val_loss: 0.0014\n",
      "Epoch 59/100\n",
      "12/12 [==============================] - 1s 106ms/step - loss: 2.1832e-04 - val_loss: 0.0022\n",
      "Epoch 60/100\n",
      "12/12 [==============================] - 1s 105ms/step - loss: 2.3688e-04 - val_loss: 0.0019\n",
      "Epoch 61/100\n",
      "12/12 [==============================] - 1s 105ms/step - loss: 2.6082e-04 - val_loss: 0.0034\n",
      "Epoch 62/100\n",
      "12/12 [==============================] - 1s 105ms/step - loss: 3.0568e-04 - val_loss: 0.0024\n",
      "Epoch 63/100\n",
      "12/12 [==============================] - 1s 106ms/step - loss: 2.4936e-04 - val_loss: 0.0033\n",
      "Epoch 64/100\n",
      "12/12 [==============================] - 1s 106ms/step - loss: 2.5088e-04 - val_loss: 0.0025\n",
      "Epoch 65/100\n",
      "12/12 [==============================] - 1s 104ms/step - loss: 2.3108e-04 - val_loss: 0.0014\n",
      "Epoch 66/100\n",
      "12/12 [==============================] - 1s 106ms/step - loss: 2.1635e-04 - val_loss: 0.0021\n",
      "Epoch 67/100\n",
      "12/12 [==============================] - 1s 106ms/step - loss: 2.1215e-04 - val_loss: 0.0027\n",
      "Epoch 68/100\n",
      "12/12 [==============================] - 1s 108ms/step - loss: 2.0999e-04 - val_loss: 0.0022\n",
      "Epoch 69/100\n",
      "12/12 [==============================] - 1s 109ms/step - loss: 2.2176e-04 - val_loss: 0.0017\n",
      "Epoch 70/100\n",
      "12/12 [==============================] - 1s 109ms/step - loss: 2.2171e-04 - val_loss: 0.0030\n",
      "Epoch 71/100\n",
      "12/12 [==============================] - 1s 110ms/step - loss: 2.3329e-04 - val_loss: 0.0017\n",
      "Epoch 72/100\n",
      "12/12 [==============================] - 1s 109ms/step - loss: 2.4480e-04 - val_loss: 0.0043\n",
      "Epoch 73/100\n",
      "12/12 [==============================] - 1s 110ms/step - loss: 2.4630e-04 - val_loss: 0.0018-\n",
      "Epoch 74/100\n",
      "12/12 [==============================] - 1s 111ms/step - loss: 2.2551e-04 - val_loss: 0.0017\n",
      "Epoch 75/100\n",
      "12/12 [==============================] - 1s 111ms/step - loss: 2.3087e-04 - val_loss: 0.0025\n",
      "Epoch 76/100\n",
      "12/12 [==============================] - 1s 111ms/step - loss: 2.2156e-04 - val_loss: 0.0025\n",
      "Epoch 77/100\n",
      "12/12 [==============================] - 1s 111ms/step - loss: 2.0160e-04 - val_loss: 0.0027\n",
      "Epoch 78/100\n"
     ]
    },
    {
     "name": "stdout",
     "output_type": "stream",
     "text": [
      "12/12 [==============================] - 1s 110ms/step - loss: 2.1419e-04 - val_loss: 0.0030\n",
      "Epoch 79/100\n",
      "12/12 [==============================] - 1s 109ms/step - loss: 2.0342e-04 - val_loss: 0.0031\n",
      "Epoch 80/100\n",
      "12/12 [==============================] - 1s 107ms/step - loss: 2.1141e-04 - val_loss: 0.0043\n",
      "Epoch 81/100\n",
      "12/12 [==============================] - 1s 111ms/step - loss: 2.0212e-04 - val_loss: 0.0022\n",
      "Epoch 82/100\n",
      "12/12 [==============================] - 1s 111ms/step - loss: 1.9979e-04 - val_loss: 0.0040\n",
      "Epoch 83/100\n",
      "12/12 [==============================] - 1s 107ms/step - loss: 1.9625e-04 - val_loss: 0.0030\n",
      "Epoch 84/100\n",
      "12/12 [==============================] - 1s 107ms/step - loss: 2.3696e-04 - val_loss: 0.0019\n",
      "Epoch 85/100\n",
      "12/12 [==============================] - 1s 106ms/step - loss: 2.1450e-04 - val_loss: 0.0061\n",
      "Epoch 86/100\n",
      "12/12 [==============================] - 1s 107ms/step - loss: 2.1566e-04 - val_loss: 0.0028\n",
      "Epoch 87/100\n",
      "12/12 [==============================] - 1s 109ms/step - loss: 1.8952e-04 - val_loss: 0.0022\n",
      "Epoch 88/100\n",
      "12/12 [==============================] - 1s 108ms/step - loss: 1.8344e-04 - val_loss: 0.0034\n",
      "Epoch 89/100\n",
      "12/12 [==============================] - 1s 109ms/step - loss: 2.0409e-04 - val_loss: 0.0041\n",
      "Epoch 90/100\n",
      "12/12 [==============================] - 1s 108ms/step - loss: 1.8423e-04 - val_loss: 0.0038\n",
      "Epoch 91/100\n",
      "12/12 [==============================] - 1s 108ms/step - loss: 1.8878e-04 - val_loss: 0.0056\n",
      "Epoch 92/100\n",
      "12/12 [==============================] - 1s 108ms/step - loss: 1.7227e-04 - val_loss: 0.0045\n",
      "Epoch 93/100\n",
      "12/12 [==============================] - 1s 106ms/step - loss: 1.7660e-04 - val_loss: 0.0031\n",
      "Epoch 94/100\n",
      "12/12 [==============================] - 1s 107ms/step - loss: 2.0097e-04 - val_loss: 0.0057\n",
      "Epoch 95/100\n",
      "12/12 [==============================] - 1s 107ms/step - loss: 1.7604e-04 - val_loss: 0.0021\n",
      "Epoch 96/100\n",
      "12/12 [==============================] - 1s 108ms/step - loss: 1.6737e-04 - val_loss: 0.0020\n",
      "Epoch 97/100\n",
      "12/12 [==============================] - 1s 108ms/step - loss: 1.7317e-04 - val_loss: 0.0039\n",
      "Epoch 98/100\n",
      "12/12 [==============================] - 1s 107ms/step - loss: 1.5678e-04 - val_loss: 0.0027\n",
      "Epoch 99/100\n",
      "12/12 [==============================] - 1s 107ms/step - loss: 1.6298e-04 - val_loss: 0.0031\n",
      "Epoch 100/100\n",
      "12/12 [==============================] - 1s 107ms/step - loss: 1.8007e-04 - val_loss: 0.0049\n"
     ]
    },
    {
     "data": {
      "text/plain": [
       "<tensorflow.python.keras.callbacks.History at 0x2da50c9cbe0>"
      ]
     },
     "execution_count": 21,
     "metadata": {},
     "output_type": "execute_result"
    }
   ],
   "source": [
    "model.fit(x_train, y_train, validation_data=(x_test, y_test), epochs=100, batch_size=64, verbose=1)"
   ]
  },
  {
   "cell_type": "markdown",
   "id": "e248556c",
   "metadata": {},
   "source": [
    "# Prediction model"
   ]
  },
  {
   "cell_type": "code",
   "execution_count": 22,
   "id": "59816d97",
   "metadata": {},
   "outputs": [],
   "source": [
    "#prediction and checking performance metrices\n",
    "\n",
    "train_predict= model.predict(x_train)\n",
    "test_predict= model.predict(x_test)"
   ]
  },
  {
   "cell_type": "code",
   "execution_count": 23,
   "id": "8628b336",
   "metadata": {},
   "outputs": [],
   "source": [
    "#transform back to original form\n",
    "\n",
    "train_predict= scalar.inverse_transform(train_predict)\n",
    "test_predict= scalar.inverse_transform(test_predict)"
   ]
  },
  {
   "cell_type": "code",
   "execution_count": 24,
   "id": "8017bfb0",
   "metadata": {},
   "outputs": [],
   "source": [
    "#calculating RSME(root squared mean) performance metrics\n",
    "\n",
    "import math\n",
    "from sklearn.metrics import mean_squared_error\n"
   ]
  },
  {
   "cell_type": "code",
   "execution_count": 25,
   "id": "b5595749",
   "metadata": {},
   "outputs": [
    {
     "data": {
      "text/plain": [
       "380.2124447028661"
      ]
     },
     "execution_count": 25,
     "metadata": {},
     "output_type": "execute_result"
    }
   ],
   "source": [
    "#train data RMSE\n",
    "\n",
    "math.sqrt(mean_squared_error(y_train, train_predict))"
   ]
  },
  {
   "cell_type": "code",
   "execution_count": 26,
   "id": "4de7b8d7",
   "metadata": {},
   "outputs": [
    {
     "data": {
      "text/plain": [
       "701.5696377340215"
      ]
     },
     "execution_count": 26,
     "metadata": {},
     "output_type": "execute_result"
    }
   ],
   "source": [
    "#test data RMSE\n",
    "\n",
    "\n",
    "math.sqrt(mean_squared_error(y_test, test_predict))"
   ]
  },
  {
   "cell_type": "markdown",
   "id": "c5083599",
   "metadata": {},
   "source": [
    "# Plotting"
   ]
  },
  {
   "cell_type": "code",
   "execution_count": 27,
   "id": "bdede624",
   "metadata": {},
   "outputs": [
    {
     "data": {
      "image/png": "[encoded data removed]",
      "text/plain": [
       "<Figure size 432x288 with 1 Axes>"
      ]
     },
     "metadata": {
      "needs_background": "light"
     },
     "output_type": "display_data"
    }
   ],
   "source": [
    "# shift train predictions for plotting\n",
    "look_back=100\n",
    "trainPredictPlot = np.empty_like(df1)\n",
    "trainPredictPlot[:, :] = np.nan\n",
    "trainPredictPlot[look_back:len(train_predict)+look_back, :] = train_predict\n",
    "# shift test predictions for plotting\n",
    "testPredictPlot = np.empty_like(df1)\n",
    "testPredictPlot[:, :] = np.nan\n",
    "testPredictPlot[len(train_predict)+(look_back*2)+1:len(df1)-1, :] = test_predict\n",
    "# plot baseline and predictions\n",
    "plt.plot(scalar.inverse_transform(df1))\n",
    "plt.plot(trainPredictPlot)\n",
    "plt.plot(testPredictPlot)\n",
    "plt.show()"
   ]
  },
  {
   "cell_type": "code",
   "execution_count": 28,
   "id": "2a258333",
   "metadata": {},
   "outputs": [
    {
     "data": {
      "text/plain": [
       "441"
      ]
     },
     "execution_count": 28,
     "metadata": {},
     "output_type": "execute_result"
    }
   ],
   "source": [
    "len(test_data)"
   ]
  },
  {
   "cell_type": "code",
   "execution_count": 29,
   "id": "6b1c4734",
   "metadata": {},
   "outputs": [
    {
     "data": {
      "text/plain": [
       "(1, 100)"
      ]
     },
     "execution_count": 29,
     "metadata": {},
     "output_type": "execute_result"
    }
   ],
   "source": [
    "x_input=test_data[341:].reshape(1,-1)\n",
    "x_input.shape"
   ]
  },
  {
   "cell_type": "code",
   "execution_count": 30,
   "id": "53a893bf",
   "metadata": {
    "scrolled": true
   },
   "outputs": [
    {
     "data": {
      "text/plain": [
       "[0.2920797366709066,\n",
       " 0.2931283923525813,\n",
       " 0.29840080008544595,\n",
       " 0.2944586315043354,\n",
       " 0.29759003388711414,\n",
       " 0.30428006874520575,\n",
       " 0.306882288399732,\n",
       " 0.31039722688830845,\n",
       " 0.32239365369117085,\n",
       " 0.3355406888114264,\n",
       " 0.33270543456097246,\n",
       " 0.33344823233549203,\n",
       " 0.34713901484624565,\n",
       " 0.35475147831321785,\n",
       " 0.41067007156104035,\n",
       " 0.407548378953092,\n",
       " 0.41698142520074943,\n",
       " 0.4360028740933497,\n",
       " 0.4539465379797841,\n",
       " 0.4998689180397905,\n",
       " 0.4821048849877171,\n",
       " 0.5024274437075803,\n",
       " 0.5102195380089135,\n",
       " 0.5064230160502576,\n",
       " 0.4777063569895813,\n",
       " 0.41000980687257854,\n",
       " 0.43158978143296856,\n",
       " 0.4294342114206371,\n",
       " 0.4148258551884182,\n",
       " 0.40510151569585096,\n",
       " 0.4251716202701259,\n",
       " 0.44181417432929726,\n",
       " 0.4453922263542708,\n",
       " 0.46514190835914504,\n",
       " 0.47475944032857864,\n",
       " 0.4515336589344492,\n",
       " 0.45491751546281634,\n",
       " 0.4383720591519482,\n",
       " 0.4651079241472389,\n",
       " 0.4688801716688189,\n",
       " 0.4447222518909786,\n",
       " 0.43967316897921127,\n",
       " 0.40586858790744634,\n",
       " 0.4029750750080105,\n",
       " 0.42372486382040797,\n",
       " 0.43208012506189974,\n",
       " 0.40044567866471165,\n",
       " 0.40686869471496945,\n",
       " 0.3822932546194253,\n",
       " 0.3784578935614482,\n",
       " 0.3869442367631494,\n",
       " 0.3631213042169551,\n",
       " 0.36586431560652105,\n",
       " 0.3500228179708512,\n",
       " 0.36875782850595684,\n",
       " 0.40290710658419826,\n",
       " 0.4311285671285282,\n",
       " 0.4442076338249715,\n",
       " 0.4415520104088786,\n",
       " 0.4404450960782219,\n",
       " 0.43275009952519194,\n",
       " 0.42616687219023386,\n",
       " 0.4955917622270338,\n",
       " 0.47122508229034155,\n",
       " 0.44138208934934786,\n",
       " 0.43001194302304124,\n",
       " 0.41168959791822424,\n",
       " 0.4268174271038654,\n",
       " 0.4298662964005865,\n",
       " 0.45016943557078903,\n",
       " 0.41392284612919816,\n",
       " 0.42268591791356347,\n",
       " 0.4134130829506063,\n",
       " 0.3964889454213556,\n",
       " 0.39678994844109555,\n",
       " 0.37136490304789826,\n",
       " 0.3646166095408247,\n",
       " 0.3589849401392381,\n",
       " 0.36821408111545884,\n",
       " 0.3156307955218518,\n",
       " 0.32400547631300425,\n",
       " 0.3678790938838128,\n",
       " 0.3652234704677198,\n",
       " 0.35279981357232315,\n",
       " 0.34575051704550963,\n",
       " 0.3613735447474973,\n",
       " 0.3536154346580702,\n",
       " 0.36073269960869603,\n",
       " 0.36558758702385685,\n",
       " 0.35226092106924034,\n",
       " 0.3306323976346988,\n",
       " 0.3382837002009923,\n",
       " 0.3609414597675479,\n",
       " 0.36140752895940337,\n",
       " 0.3385701385584868,\n",
       " 0.3291662216353202,\n",
       " 0.31195564574857504,\n",
       " 0.2840448979988153,\n",
       " 0.30187689947470114,\n",
       " 0.3062948470224975]"
      ]
     },
     "execution_count": 30,
     "metadata": {},
     "output_type": "execute_result"
    }
   ],
   "source": [
    "temp_input=list(x_input)\n",
    "temp_input=temp_input[0].tolist()\n",
    "temp_input"
   ]
  },
  {
   "cell_type": "code",
   "execution_count": 31,
   "id": "493a51dd",
   "metadata": {},
   "outputs": [
    {
     "name": "stdout",
     "output_type": "stream",
     "text": [
      "[0.25426736]\n",
      "101\n",
      "1 day input [0.29312839 0.2984008  0.29445863 0.29759003 0.30428007 0.30688229\n",
      " 0.31039723 0.32239365 0.33554069 0.33270543 0.33344823 0.34713901\n",
      " 0.35475148 0.41067007 0.40754838 0.41698143 0.43600287 0.45394654\n",
      " 0.49986892 0.48210488 0.50242744 0.51021954 0.50642302 0.47770636\n",
      " 0.41000981 0.43158978 0.42943421 0.41482586 0.40510152 0.42517162\n",
      " 0.44181417 0.44539223 0.46514191 0.47475944 0.45153366 0.45491752\n",
      " 0.43837206 0.46510792 0.46888017 0.44472225 0.43967317 0.40586859\n",
      " 0.40297508 0.42372486 0.43208013 0.40044568 0.40686869 0.38229325\n",
      " 0.37845789 0.38694424 0.3631213  0.36586432 0.35002282 0.36875783\n",
      " 0.40290711 0.43112857 0.44420763 0.44155201 0.4404451  0.4327501\n",
      " 0.42616687 0.49559176 0.47122508 0.44138209 0.43001194 0.4116896\n",
      " 0.42681743 0.4298663  0.45016944 0.41392285 0.42268592 0.41341308\n",
      " 0.39648895 0.39678995 0.3713649  0.36461661 0.35898494 0.36821408\n",
      " 0.3156308  0.32400548 0.36787909 0.36522347 0.35279981 0.34575052\n",
      " 0.36137354 0.35361543 0.3607327  0.36558759 0.35226092 0.3306324\n",
      " 0.3382837  0.36094146 0.36140753 0.33857014 0.32916622 0.31195565\n",
      " 0.2840449  0.3018769  0.30629485 0.25426736]\n",
      "1 day output [[0.24520254]]\n",
      "2 day input [0.2984008  0.29445863 0.29759003 0.30428007 0.30688229 0.31039723\n",
      " 0.32239365 0.33554069 0.33270543 0.33344823 0.34713901 0.35475148\n",
      " 0.41067007 0.40754838 0.41698143 0.43600287 0.45394654 0.49986892\n",
      " 0.48210488 0.50242744 0.51021954 0.50642302 0.47770636 0.41000981\n",
      " 0.43158978 0.42943421 0.41482586 0.40510152 0.42517162 0.44181417\n",
      " 0.44539223 0.46514191 0.47475944 0.45153366 0.45491752 0.43837206\n",
      " 0.46510792 0.46888017 0.44472225 0.43967317 0.40586859 0.40297508\n",
      " 0.42372486 0.43208013 0.40044568 0.40686869 0.38229325 0.37845789\n",
      " 0.38694424 0.3631213  0.36586432 0.35002282 0.36875783 0.40290711\n",
      " 0.43112857 0.44420763 0.44155201 0.4404451  0.4327501  0.42616687\n",
      " 0.49559176 0.47122508 0.44138209 0.43001194 0.4116896  0.42681743\n",
      " 0.4298663  0.45016944 0.41392285 0.42268592 0.41341308 0.39648895\n",
      " 0.39678995 0.3713649  0.36461661 0.35898494 0.36821408 0.3156308\n",
      " 0.32400548 0.36787909 0.36522347 0.35279981 0.34575052 0.36137354\n",
      " 0.35361543 0.3607327  0.36558759 0.35226092 0.3306324  0.3382837\n",
      " 0.36094146 0.36140753 0.33857014 0.32916622 0.31195565 0.2840449\n",
      " 0.3018769  0.30629485 0.25426736 0.24520254]\n",
      "2 day output [[0.23362553]]\n",
      "3 day input [0.29445863 0.29759003 0.30428007 0.30688229 0.31039723 0.32239365\n",
      " 0.33554069 0.33270543 0.33344823 0.34713901 0.35475148 0.41067007\n",
      " 0.40754838 0.41698143 0.43600287 0.45394654 0.49986892 0.48210488\n",
      " 0.50242744 0.51021954 0.50642302 0.47770636 0.41000981 0.43158978\n",
      " 0.42943421 0.41482586 0.40510152 0.42517162 0.44181417 0.44539223\n",
      " 0.46514191 0.47475944 0.45153366 0.45491752 0.43837206 0.46510792\n",
      " 0.46888017 0.44472225 0.43967317 0.40586859 0.40297508 0.42372486\n",
      " 0.43208013 0.40044568 0.40686869 0.38229325 0.37845789 0.38694424\n",
      " 0.3631213  0.36586432 0.35002282 0.36875783 0.40290711 0.43112857\n",
      " 0.44420763 0.44155201 0.4404451  0.4327501  0.42616687 0.49559176\n",
      " 0.47122508 0.44138209 0.43001194 0.4116896  0.42681743 0.4298663\n",
      " 0.45016944 0.41392285 0.42268592 0.41341308 0.39648895 0.39678995\n",
      " 0.3713649  0.36461661 0.35898494 0.36821408 0.3156308  0.32400548\n",
      " 0.36787909 0.36522347 0.35279981 0.34575052 0.36137354 0.35361543\n",
      " 0.3607327  0.36558759 0.35226092 0.3306324  0.3382837  0.36094146\n",
      " 0.36140753 0.33857014 0.32916622 0.31195565 0.2840449  0.3018769\n",
      " 0.30629485 0.25426736 0.24520254 0.23362553]\n",
      "3 day output [[0.22239888]]\n",
      "4 day input [0.29759003 0.30428007 0.30688229 0.31039723 0.32239365 0.33554069\n",
      " 0.33270543 0.33344823 0.34713901 0.35475148 0.41067007 0.40754838\n",
      " 0.41698143 0.43600287 0.45394654 0.49986892 0.48210488 0.50242744\n",
      " 0.51021954 0.50642302 0.47770636 0.41000981 0.43158978 0.42943421\n",
      " 0.41482586 0.40510152 0.42517162 0.44181417 0.44539223 0.46514191\n",
      " 0.47475944 0.45153366 0.45491752 0.43837206 0.46510792 0.46888017\n",
      " 0.44472225 0.43967317 0.40586859 0.40297508 0.42372486 0.43208013\n",
      " 0.40044568 0.40686869 0.38229325 0.37845789 0.38694424 0.3631213\n",
      " 0.36586432 0.35002282 0.36875783 0.40290711 0.43112857 0.44420763\n",
      " 0.44155201 0.4404451  0.4327501  0.42616687 0.49559176 0.47122508\n",
      " 0.44138209 0.43001194 0.4116896  0.42681743 0.4298663  0.45016944\n",
      " 0.41392285 0.42268592 0.41341308 0.39648895 0.39678995 0.3713649\n",
      " 0.36461661 0.35898494 0.36821408 0.3156308  0.32400548 0.36787909\n",
      " 0.36522347 0.35279981 0.34575052 0.36137354 0.35361543 0.3607327\n",
      " 0.36558759 0.35226092 0.3306324  0.3382837  0.36094146 0.36140753\n",
      " 0.33857014 0.32916622 0.31195565 0.2840449  0.3018769  0.30629485\n",
      " 0.25426736 0.24520254 0.23362553 0.22239888]\n",
      "4 day output [[0.21269879]]\n",
      "5 day input [0.30428007 0.30688229 0.31039723 0.32239365 0.33554069 0.33270543\n",
      " 0.33344823 0.34713901 0.35475148 0.41067007 0.40754838 0.41698143\n",
      " 0.43600287 0.45394654 0.49986892 0.48210488 0.50242744 0.51021954\n",
      " 0.50642302 0.47770636 0.41000981 0.43158978 0.42943421 0.41482586\n",
      " 0.40510152 0.42517162 0.44181417 0.44539223 0.46514191 0.47475944\n",
      " 0.45153366 0.45491752 0.43837206 0.46510792 0.46888017 0.44472225\n",
      " 0.43967317 0.40586859 0.40297508 0.42372486 0.43208013 0.40044568\n",
      " 0.40686869 0.38229325 0.37845789 0.38694424 0.3631213  0.36586432\n",
      " 0.35002282 0.36875783 0.40290711 0.43112857 0.44420763 0.44155201\n",
      " 0.4404451  0.4327501  0.42616687 0.49559176 0.47122508 0.44138209\n",
      " 0.43001194 0.4116896  0.42681743 0.4298663  0.45016944 0.41392285\n",
      " 0.42268592 0.41341308 0.39648895 0.39678995 0.3713649  0.36461661\n",
      " 0.35898494 0.36821408 0.3156308  0.32400548 0.36787909 0.36522347\n",
      " 0.35279981 0.34575052 0.36137354 0.35361543 0.3607327  0.36558759\n",
      " 0.35226092 0.3306324  0.3382837  0.36094146 0.36140753 0.33857014\n",
      " 0.32916622 0.31195565 0.2840449  0.3018769  0.30629485 0.25426736\n",
      " 0.24520254 0.23362553 0.22239888 0.21269879]\n",
      "5 day output [[0.20490655]]\n",
      "6 day input [0.30688229 0.31039723 0.32239365 0.33554069 0.33270543 0.33344823\n",
      " 0.34713901 0.35475148 0.41067007 0.40754838 0.41698143 0.43600287\n",
      " 0.45394654 0.49986892 0.48210488 0.50242744 0.51021954 0.50642302\n",
      " 0.47770636 0.41000981 0.43158978 0.42943421 0.41482586 0.40510152\n",
      " 0.42517162 0.44181417 0.44539223 0.46514191 0.47475944 0.45153366\n",
      " 0.45491752 0.43837206 0.46510792 0.46888017 0.44472225 0.43967317\n",
      " 0.40586859 0.40297508 0.42372486 0.43208013 0.40044568 0.40686869\n",
      " 0.38229325 0.37845789 0.38694424 0.3631213  0.36586432 0.35002282\n",
      " 0.36875783 0.40290711 0.43112857 0.44420763 0.44155201 0.4404451\n",
      " 0.4327501  0.42616687 0.49559176 0.47122508 0.44138209 0.43001194\n",
      " 0.4116896  0.42681743 0.4298663  0.45016944 0.41392285 0.42268592\n",
      " 0.41341308 0.39648895 0.39678995 0.3713649  0.36461661 0.35898494\n",
      " 0.36821408 0.3156308  0.32400548 0.36787909 0.36522347 0.35279981\n",
      " 0.34575052 0.36137354 0.35361543 0.3607327  0.36558759 0.35226092\n",
      " 0.3306324  0.3382837  0.36094146 0.36140753 0.33857014 0.32916622\n",
      " 0.31195565 0.2840449  0.3018769  0.30629485 0.25426736 0.24520254\n",
      " 0.23362553 0.22239888 0.21269879 0.20490655]\n",
      "6 day output [[0.19910923]]\n",
      "7 day input [0.31039723 0.32239365 0.33554069 0.33270543 0.33344823 0.34713901\n",
      " 0.35475148 0.41067007 0.40754838 0.41698143 0.43600287 0.45394654\n",
      " 0.49986892 0.48210488 0.50242744 0.51021954 0.50642302 0.47770636\n",
      " 0.41000981 0.43158978 0.42943421 0.41482586 0.40510152 0.42517162\n",
      " 0.44181417 0.44539223 0.46514191 0.47475944 0.45153366 0.45491752\n",
      " 0.43837206 0.46510792 0.46888017 0.44472225 0.43967317 0.40586859\n",
      " 0.40297508 0.42372486 0.43208013 0.40044568 0.40686869 0.38229325\n",
      " 0.37845789 0.38694424 0.3631213  0.36586432 0.35002282 0.36875783\n",
      " 0.40290711 0.43112857 0.44420763 0.44155201 0.4404451  0.4327501\n",
      " 0.42616687 0.49559176 0.47122508 0.44138209 0.43001194 0.4116896\n",
      " 0.42681743 0.4298663  0.45016944 0.41392285 0.42268592 0.41341308\n",
      " 0.39648895 0.39678995 0.3713649  0.36461661 0.35898494 0.36821408\n",
      " 0.3156308  0.32400548 0.36787909 0.36522347 0.35279981 0.34575052\n",
      " 0.36137354 0.35361543 0.3607327  0.36558759 0.35226092 0.3306324\n",
      " 0.3382837  0.36094146 0.36140753 0.33857014 0.32916622 0.31195565\n",
      " 0.2840449  0.3018769  0.30629485 0.25426736 0.24520254 0.23362553\n",
      " 0.22239888 0.21269879 0.20490655 0.19910923]\n",
      "7 day output [[0.19528899]]\n",
      "8 day input [0.32239365 0.33554069 0.33270543 0.33344823 0.34713901 0.35475148\n",
      " 0.41067007 0.40754838 0.41698143 0.43600287 0.45394654 0.49986892\n",
      " 0.48210488 0.50242744 0.51021954 0.50642302 0.47770636 0.41000981\n",
      " 0.43158978 0.42943421 0.41482586 0.40510152 0.42517162 0.44181417\n",
      " 0.44539223 0.46514191 0.47475944 0.45153366 0.45491752 0.43837206\n",
      " 0.46510792 0.46888017 0.44472225 0.43967317 0.40586859 0.40297508\n",
      " 0.42372486 0.43208013 0.40044568 0.40686869 0.38229325 0.37845789\n",
      " 0.38694424 0.3631213  0.36586432 0.35002282 0.36875783 0.40290711\n",
      " 0.43112857 0.44420763 0.44155201 0.4404451  0.4327501  0.42616687\n",
      " 0.49559176 0.47122508 0.44138209 0.43001194 0.4116896  0.42681743\n",
      " 0.4298663  0.45016944 0.41392285 0.42268592 0.41341308 0.39648895\n",
      " 0.39678995 0.3713649  0.36461661 0.35898494 0.36821408 0.3156308\n",
      " 0.32400548 0.36787909 0.36522347 0.35279981 0.34575052 0.36137354\n",
      " 0.35361543 0.3607327  0.36558759 0.35226092 0.3306324  0.3382837\n",
      " 0.36094146 0.36140753 0.33857014 0.32916622 0.31195565 0.2840449\n",
      " 0.3018769  0.30629485 0.25426736 0.24520254 0.23362553 0.22239888\n",
      " 0.21269879 0.20490655 0.19910923 0.19528899]\n",
      "8 day output [[0.19338256]]\n"
     ]
    },
    {
     "name": "stdout",
     "output_type": "stream",
     "text": [
      "9 day input [0.33554069 0.33270543 0.33344823 0.34713901 0.35475148 0.41067007\n",
      " 0.40754838 0.41698143 0.43600287 0.45394654 0.49986892 0.48210488\n",
      " 0.50242744 0.51021954 0.50642302 0.47770636 0.41000981 0.43158978\n",
      " 0.42943421 0.41482586 0.40510152 0.42517162 0.44181417 0.44539223\n",
      " 0.46514191 0.47475944 0.45153366 0.45491752 0.43837206 0.46510792\n",
      " 0.46888017 0.44472225 0.43967317 0.40586859 0.40297508 0.42372486\n",
      " 0.43208013 0.40044568 0.40686869 0.38229325 0.37845789 0.38694424\n",
      " 0.3631213  0.36586432 0.35002282 0.36875783 0.40290711 0.43112857\n",
      " 0.44420763 0.44155201 0.4404451  0.4327501  0.42616687 0.49559176\n",
      " 0.47122508 0.44138209 0.43001194 0.4116896  0.42681743 0.4298663\n",
      " 0.45016944 0.41392285 0.42268592 0.41341308 0.39648895 0.39678995\n",
      " 0.3713649  0.36461661 0.35898494 0.36821408 0.3156308  0.32400548\n",
      " 0.36787909 0.36522347 0.35279981 0.34575052 0.36137354 0.35361543\n",
      " 0.3607327  0.36558759 0.35226092 0.3306324  0.3382837  0.36094146\n",
      " 0.36140753 0.33857014 0.32916622 0.31195565 0.2840449  0.3018769\n",
      " 0.30629485 0.25426736 0.24520254 0.23362553 0.22239888 0.21269879\n",
      " 0.20490655 0.19910923 0.19528899 0.19338256]\n",
      "9 day output [[0.19329828]]\n",
      "10 day input [0.33270543 0.33344823 0.34713901 0.35475148 0.41067007 0.40754838\n",
      " 0.41698143 0.43600287 0.45394654 0.49986892 0.48210488 0.50242744\n",
      " 0.51021954 0.50642302 0.47770636 0.41000981 0.43158978 0.42943421\n",
      " 0.41482586 0.40510152 0.42517162 0.44181417 0.44539223 0.46514191\n",
      " 0.47475944 0.45153366 0.45491752 0.43837206 0.46510792 0.46888017\n",
      " 0.44472225 0.43967317 0.40586859 0.40297508 0.42372486 0.43208013\n",
      " 0.40044568 0.40686869 0.38229325 0.37845789 0.38694424 0.3631213\n",
      " 0.36586432 0.35002282 0.36875783 0.40290711 0.43112857 0.44420763\n",
      " 0.44155201 0.4404451  0.4327501  0.42616687 0.49559176 0.47122508\n",
      " 0.44138209 0.43001194 0.4116896  0.42681743 0.4298663  0.45016944\n",
      " 0.41392285 0.42268592 0.41341308 0.39648895 0.39678995 0.3713649\n",
      " 0.36461661 0.35898494 0.36821408 0.3156308  0.32400548 0.36787909\n",
      " 0.36522347 0.35279981 0.34575052 0.36137354 0.35361543 0.3607327\n",
      " 0.36558759 0.35226092 0.3306324  0.3382837  0.36094146 0.36140753\n",
      " 0.33857014 0.32916622 0.31195565 0.2840449  0.3018769  0.30629485\n",
      " 0.25426736 0.24520254 0.23362553 0.22239888 0.21269879 0.20490655\n",
      " 0.19910923 0.19528899 0.19338256 0.19329828]\n",
      "10 day output [[0.19492328]]\n",
      "11 day input [0.33344823 0.34713901 0.35475148 0.41067007 0.40754838 0.41698143\n",
      " 0.43600287 0.45394654 0.49986892 0.48210488 0.50242744 0.51021954\n",
      " 0.50642302 0.47770636 0.41000981 0.43158978 0.42943421 0.41482586\n",
      " 0.40510152 0.42517162 0.44181417 0.44539223 0.46514191 0.47475944\n",
      " 0.45153366 0.45491752 0.43837206 0.46510792 0.46888017 0.44472225\n",
      " 0.43967317 0.40586859 0.40297508 0.42372486 0.43208013 0.40044568\n",
      " 0.40686869 0.38229325 0.37845789 0.38694424 0.3631213  0.36586432\n",
      " 0.35002282 0.36875783 0.40290711 0.43112857 0.44420763 0.44155201\n",
      " 0.4404451  0.4327501  0.42616687 0.49559176 0.47122508 0.44138209\n",
      " 0.43001194 0.4116896  0.42681743 0.4298663  0.45016944 0.41392285\n",
      " 0.42268592 0.41341308 0.39648895 0.39678995 0.3713649  0.36461661\n",
      " 0.35898494 0.36821408 0.3156308  0.32400548 0.36787909 0.36522347\n",
      " 0.35279981 0.34575052 0.36137354 0.35361543 0.3607327  0.36558759\n",
      " 0.35226092 0.3306324  0.3382837  0.36094146 0.36140753 0.33857014\n",
      " 0.32916622 0.31195565 0.2840449  0.3018769  0.30629485 0.25426736\n",
      " 0.24520254 0.23362553 0.22239888 0.21269879 0.20490655 0.19910923\n",
      " 0.19528899 0.19338256 0.19329828 0.19492328]\n",
      "11 day output [[0.19812912]]\n",
      "12 day input [0.34713901 0.35475148 0.41067007 0.40754838 0.41698143 0.43600287\n",
      " 0.45394654 0.49986892 0.48210488 0.50242744 0.51021954 0.50642302\n",
      " 0.47770636 0.41000981 0.43158978 0.42943421 0.41482586 0.40510152\n",
      " 0.42517162 0.44181417 0.44539223 0.46514191 0.47475944 0.45153366\n",
      " 0.45491752 0.43837206 0.46510792 0.46888017 0.44472225 0.43967317\n",
      " 0.40586859 0.40297508 0.42372486 0.43208013 0.40044568 0.40686869\n",
      " 0.38229325 0.37845789 0.38694424 0.3631213  0.36586432 0.35002282\n",
      " 0.36875783 0.40290711 0.43112857 0.44420763 0.44155201 0.4404451\n",
      " 0.4327501  0.42616687 0.49559176 0.47122508 0.44138209 0.43001194\n",
      " 0.4116896  0.42681743 0.4298663  0.45016944 0.41392285 0.42268592\n",
      " 0.41341308 0.39648895 0.39678995 0.3713649  0.36461661 0.35898494\n",
      " 0.36821408 0.3156308  0.32400548 0.36787909 0.36522347 0.35279981\n",
      " 0.34575052 0.36137354 0.35361543 0.3607327  0.36558759 0.35226092\n",
      " 0.3306324  0.3382837  0.36094146 0.36140753 0.33857014 0.32916622\n",
      " 0.31195565 0.2840449  0.3018769  0.30629485 0.25426736 0.24520254\n",
      " 0.23362553 0.22239888 0.21269879 0.20490655 0.19910923 0.19528899\n",
      " 0.19338256 0.19329828 0.19492328 0.19812912]\n",
      "12 day output [[0.20277715]]\n",
      "13 day input [0.35475148 0.41067007 0.40754838 0.41698143 0.43600287 0.45394654\n",
      " 0.49986892 0.48210488 0.50242744 0.51021954 0.50642302 0.47770636\n",
      " 0.41000981 0.43158978 0.42943421 0.41482586 0.40510152 0.42517162\n",
      " 0.44181417 0.44539223 0.46514191 0.47475944 0.45153366 0.45491752\n",
      " 0.43837206 0.46510792 0.46888017 0.44472225 0.43967317 0.40586859\n",
      " 0.40297508 0.42372486 0.43208013 0.40044568 0.40686869 0.38229325\n",
      " 0.37845789 0.38694424 0.3631213  0.36586432 0.35002282 0.36875783\n",
      " 0.40290711 0.43112857 0.44420763 0.44155201 0.4404451  0.4327501\n",
      " 0.42616687 0.49559176 0.47122508 0.44138209 0.43001194 0.4116896\n",
      " 0.42681743 0.4298663  0.45016944 0.41392285 0.42268592 0.41341308\n",
      " 0.39648895 0.39678995 0.3713649  0.36461661 0.35898494 0.36821408\n",
      " 0.3156308  0.32400548 0.36787909 0.36522347 0.35279981 0.34575052\n",
      " 0.36137354 0.35361543 0.3607327  0.36558759 0.35226092 0.3306324\n",
      " 0.3382837  0.36094146 0.36140753 0.33857014 0.32916622 0.31195565\n",
      " 0.2840449  0.3018769  0.30629485 0.25426736 0.24520254 0.23362553\n",
      " 0.22239888 0.21269879 0.20490655 0.19910923 0.19528899 0.19338256\n",
      " 0.19329828 0.19492328 0.19812912 0.20277715]\n",
      "13 day output [[0.20872405]]\n",
      "14 day input [0.41067007 0.40754838 0.41698143 0.43600287 0.45394654 0.49986892\n",
      " 0.48210488 0.50242744 0.51021954 0.50642302 0.47770636 0.41000981\n",
      " 0.43158978 0.42943421 0.41482586 0.40510152 0.42517162 0.44181417\n",
      " 0.44539223 0.46514191 0.47475944 0.45153366 0.45491752 0.43837206\n",
      " 0.46510792 0.46888017 0.44472225 0.43967317 0.40586859 0.40297508\n",
      " 0.42372486 0.43208013 0.40044568 0.40686869 0.38229325 0.37845789\n",
      " 0.38694424 0.3631213  0.36586432 0.35002282 0.36875783 0.40290711\n",
      " 0.43112857 0.44420763 0.44155201 0.4404451  0.4327501  0.42616687\n",
      " 0.49559176 0.47122508 0.44138209 0.43001194 0.4116896  0.42681743\n",
      " 0.4298663  0.45016944 0.41392285 0.42268592 0.41341308 0.39648895\n",
      " 0.39678995 0.3713649  0.36461661 0.35898494 0.36821408 0.3156308\n",
      " 0.32400548 0.36787909 0.36522347 0.35279981 0.34575052 0.36137354\n",
      " 0.35361543 0.3607327  0.36558759 0.35226092 0.3306324  0.3382837\n",
      " 0.36094146 0.36140753 0.33857014 0.32916622 0.31195565 0.2840449\n",
      " 0.3018769  0.30629485 0.25426736 0.24520254 0.23362553 0.22239888\n",
      " 0.21269879 0.20490655 0.19910923 0.19528899 0.19338256 0.19329828\n",
      " 0.19492328 0.19812912 0.20277715 0.20872405]\n",
      "14 day output [[0.21582723]]\n",
      "15 day input [0.40754838 0.41698143 0.43600287 0.45394654 0.49986892 0.48210488\n",
      " 0.50242744 0.51021954 0.50642302 0.47770636 0.41000981 0.43158978\n",
      " 0.42943421 0.41482586 0.40510152 0.42517162 0.44181417 0.44539223\n",
      " 0.46514191 0.47475944 0.45153366 0.45491752 0.43837206 0.46510792\n",
      " 0.46888017 0.44472225 0.43967317 0.40586859 0.40297508 0.42372486\n",
      " 0.43208013 0.40044568 0.40686869 0.38229325 0.37845789 0.38694424\n",
      " 0.3631213  0.36586432 0.35002282 0.36875783 0.40290711 0.43112857\n",
      " 0.44420763 0.44155201 0.4404451  0.4327501  0.42616687 0.49559176\n",
      " 0.47122508 0.44138209 0.43001194 0.4116896  0.42681743 0.4298663\n",
      " 0.45016944 0.41392285 0.42268592 0.41341308 0.39648895 0.39678995\n",
      " 0.3713649  0.36461661 0.35898494 0.36821408 0.3156308  0.32400548\n",
      " 0.36787909 0.36522347 0.35279981 0.34575052 0.36137354 0.35361543\n",
      " 0.3607327  0.36558759 0.35226092 0.3306324  0.3382837  0.36094146\n",
      " 0.36140753 0.33857014 0.32916622 0.31195565 0.2840449  0.3018769\n",
      " 0.30629485 0.25426736 0.24520254 0.23362553 0.22239888 0.21269879\n",
      " 0.20490655 0.19910923 0.19528899 0.19338256 0.19329828 0.19492328\n",
      " 0.19812912 0.20277715 0.20872405 0.21582723]\n",
      "15 day output [[0.22394842]]\n",
      "16 day input [0.41698143 0.43600287 0.45394654 0.49986892 0.48210488 0.50242744\n",
      " 0.51021954 0.50642302 0.47770636 0.41000981 0.43158978 0.42943421\n",
      " 0.41482586 0.40510152 0.42517162 0.44181417 0.44539223 0.46514191\n",
      " 0.47475944 0.45153366 0.45491752 0.43837206 0.46510792 0.46888017\n",
      " 0.44472225 0.43967317 0.40586859 0.40297508 0.42372486 0.43208013\n",
      " 0.40044568 0.40686869 0.38229325 0.37845789 0.38694424 0.3631213\n",
      " 0.36586432 0.35002282 0.36875783 0.40290711 0.43112857 0.44420763\n",
      " 0.44155201 0.4404451  0.4327501  0.42616687 0.49559176 0.47122508\n",
      " 0.44138209 0.43001194 0.4116896  0.42681743 0.4298663  0.45016944\n",
      " 0.41392285 0.42268592 0.41341308 0.39648895 0.39678995 0.3713649\n",
      " 0.36461661 0.35898494 0.36821408 0.3156308  0.32400548 0.36787909\n",
      " 0.36522347 0.35279981 0.34575052 0.36137354 0.35361543 0.3607327\n",
      " 0.36558759 0.35226092 0.3306324  0.3382837  0.36094146 0.36140753\n",
      " 0.33857014 0.32916622 0.31195565 0.2840449  0.3018769  0.30629485\n",
      " 0.25426736 0.24520254 0.23362553 0.22239888 0.21269879 0.20490655\n",
      " 0.19910923 0.19528899 0.19338256 0.19329828 0.19492328 0.19812912\n",
      " 0.20277715 0.20872405 0.21582723 0.22394842]\n"
     ]
    },
    {
     "name": "stdout",
     "output_type": "stream",
     "text": [
      "16 day output [[0.23295891]]\n",
      "17 day input [0.43600287 0.45394654 0.49986892 0.48210488 0.50242744 0.51021954\n",
      " 0.50642302 0.47770636 0.41000981 0.43158978 0.42943421 0.41482586\n",
      " 0.40510152 0.42517162 0.44181417 0.44539223 0.46514191 0.47475944\n",
      " 0.45153366 0.45491752 0.43837206 0.46510792 0.46888017 0.44472225\n",
      " 0.43967317 0.40586859 0.40297508 0.42372486 0.43208013 0.40044568\n",
      " 0.40686869 0.38229325 0.37845789 0.38694424 0.3631213  0.36586432\n",
      " 0.35002282 0.36875783 0.40290711 0.43112857 0.44420763 0.44155201\n",
      " 0.4404451  0.4327501  0.42616687 0.49559176 0.47122508 0.44138209\n",
      " 0.43001194 0.4116896  0.42681743 0.4298663  0.45016944 0.41392285\n",
      " 0.42268592 0.41341308 0.39648895 0.39678995 0.3713649  0.36461661\n",
      " 0.35898494 0.36821408 0.3156308  0.32400548 0.36787909 0.36522347\n",
      " 0.35279981 0.34575052 0.36137354 0.35361543 0.3607327  0.36558759\n",
      " 0.35226092 0.3306324  0.3382837  0.36094146 0.36140753 0.33857014\n",
      " 0.32916622 0.31195565 0.2840449  0.3018769  0.30629485 0.25426736\n",
      " 0.24520254 0.23362553 0.22239888 0.21269879 0.20490655 0.19910923\n",
      " 0.19528899 0.19338256 0.19329828 0.19492328 0.19812912 0.20277715\n",
      " 0.20872405 0.21582723 0.22394842 0.23295891]\n",
      "17 day output [[0.24273875]]\n",
      "18 day input [0.45394654 0.49986892 0.48210488 0.50242744 0.51021954 0.50642302\n",
      " 0.47770636 0.41000981 0.43158978 0.42943421 0.41482586 0.40510152\n",
      " 0.42517162 0.44181417 0.44539223 0.46514191 0.47475944 0.45153366\n",
      " 0.45491752 0.43837206 0.46510792 0.46888017 0.44472225 0.43967317\n",
      " 0.40586859 0.40297508 0.42372486 0.43208013 0.40044568 0.40686869\n",
      " 0.38229325 0.37845789 0.38694424 0.3631213  0.36586432 0.35002282\n",
      " 0.36875783 0.40290711 0.43112857 0.44420763 0.44155201 0.4404451\n",
      " 0.4327501  0.42616687 0.49559176 0.47122508 0.44138209 0.43001194\n",
      " 0.4116896  0.42681743 0.4298663  0.45016944 0.41392285 0.42268592\n",
      " 0.41341308 0.39648895 0.39678995 0.3713649  0.36461661 0.35898494\n",
      " 0.36821408 0.3156308  0.32400548 0.36787909 0.36522347 0.35279981\n",
      " 0.34575052 0.36137354 0.35361543 0.3607327  0.36558759 0.35226092\n",
      " 0.3306324  0.3382837  0.36094146 0.36140753 0.33857014 0.32916622\n",
      " 0.31195565 0.2840449  0.3018769  0.30629485 0.25426736 0.24520254\n",
      " 0.23362553 0.22239888 0.21269879 0.20490655 0.19910923 0.19528899\n",
      " 0.19338256 0.19329828 0.19492328 0.19812912 0.20277715 0.20872405\n",
      " 0.21582723 0.22394842 0.23295891 0.24273875]\n",
      "18 day output [[0.25317875]]\n",
      "19 day input [0.49986892 0.48210488 0.50242744 0.51021954 0.50642302 0.47770636\n",
      " 0.41000981 0.43158978 0.42943421 0.41482586 0.40510152 0.42517162\n",
      " 0.44181417 0.44539223 0.46514191 0.47475944 0.45153366 0.45491752\n",
      " 0.43837206 0.46510792 0.46888017 0.44472225 0.43967317 0.40586859\n",
      " 0.40297508 0.42372486 0.43208013 0.40044568 0.40686869 0.38229325\n",
      " 0.37845789 0.38694424 0.3631213  0.36586432 0.35002282 0.36875783\n",
      " 0.40290711 0.43112857 0.44420763 0.44155201 0.4404451  0.4327501\n",
      " 0.42616687 0.49559176 0.47122508 0.44138209 0.43001194 0.4116896\n",
      " 0.42681743 0.4298663  0.45016944 0.41392285 0.42268592 0.41341308\n",
      " 0.39648895 0.39678995 0.3713649  0.36461661 0.35898494 0.36821408\n",
      " 0.3156308  0.32400548 0.36787909 0.36522347 0.35279981 0.34575052\n",
      " 0.36137354 0.35361543 0.3607327  0.36558759 0.35226092 0.3306324\n",
      " 0.3382837  0.36094146 0.36140753 0.33857014 0.32916622 0.31195565\n",
      " 0.2840449  0.3018769  0.30629485 0.25426736 0.24520254 0.23362553\n",
      " 0.22239888 0.21269879 0.20490655 0.19910923 0.19528899 0.19338256\n",
      " 0.19329828 0.19492328 0.19812912 0.20277715 0.20872405 0.21582723\n",
      " 0.22394842 0.23295891 0.24273875 0.25317875]\n",
      "19 day output [[0.26417917]]\n",
      "20 day input [0.48210488 0.50242744 0.51021954 0.50642302 0.47770636 0.41000981\n",
      " 0.43158978 0.42943421 0.41482586 0.40510152 0.42517162 0.44181417\n",
      " 0.44539223 0.46514191 0.47475944 0.45153366 0.45491752 0.43837206\n",
      " 0.46510792 0.46888017 0.44472225 0.43967317 0.40586859 0.40297508\n",
      " 0.42372486 0.43208013 0.40044568 0.40686869 0.38229325 0.37845789\n",
      " 0.38694424 0.3631213  0.36586432 0.35002282 0.36875783 0.40290711\n",
      " 0.43112857 0.44420763 0.44155201 0.4404451  0.4327501  0.42616687\n",
      " 0.49559176 0.47122508 0.44138209 0.43001194 0.4116896  0.42681743\n",
      " 0.4298663  0.45016944 0.41392285 0.42268592 0.41341308 0.39648895\n",
      " 0.39678995 0.3713649  0.36461661 0.35898494 0.36821408 0.3156308\n",
      " 0.32400548 0.36787909 0.36522347 0.35279981 0.34575052 0.36137354\n",
      " 0.35361543 0.3607327  0.36558759 0.35226092 0.3306324  0.3382837\n",
      " 0.36094146 0.36140753 0.33857014 0.32916622 0.31195565 0.2840449\n",
      " 0.3018769  0.30629485 0.25426736 0.24520254 0.23362553 0.22239888\n",
      " 0.21269879 0.20490655 0.19910923 0.19528899 0.19338256 0.19329828\n",
      " 0.19492328 0.19812912 0.20277715 0.20872405 0.21582723 0.22394842\n",
      " 0.23295891 0.24273875 0.25317875 0.26417917]\n",
      "20 day output [[0.27564776]]\n",
      "21 day input [0.50242744 0.51021954 0.50642302 0.47770636 0.41000981 0.43158978\n",
      " 0.42943421 0.41482586 0.40510152 0.42517162 0.44181417 0.44539223\n",
      " 0.46514191 0.47475944 0.45153366 0.45491752 0.43837206 0.46510792\n",
      " 0.46888017 0.44472225 0.43967317 0.40586859 0.40297508 0.42372486\n",
      " 0.43208013 0.40044568 0.40686869 0.38229325 0.37845789 0.38694424\n",
      " 0.3631213  0.36586432 0.35002282 0.36875783 0.40290711 0.43112857\n",
      " 0.44420763 0.44155201 0.4404451  0.4327501  0.42616687 0.49559176\n",
      " 0.47122508 0.44138209 0.43001194 0.4116896  0.42681743 0.4298663\n",
      " 0.45016944 0.41392285 0.42268592 0.41341308 0.39648895 0.39678995\n",
      " 0.3713649  0.36461661 0.35898494 0.36821408 0.3156308  0.32400548\n",
      " 0.36787909 0.36522347 0.35279981 0.34575052 0.36137354 0.35361543\n",
      " 0.3607327  0.36558759 0.35226092 0.3306324  0.3382837  0.36094146\n",
      " 0.36140753 0.33857014 0.32916622 0.31195565 0.2840449  0.3018769\n",
      " 0.30629485 0.25426736 0.24520254 0.23362553 0.22239888 0.21269879\n",
      " 0.20490655 0.19910923 0.19528899 0.19338256 0.19329828 0.19492328\n",
      " 0.19812912 0.20277715 0.20872405 0.21582723 0.22394842 0.23295891\n",
      " 0.24273875 0.25317875 0.26417917 0.27564776]\n",
      "21 day output [[0.28749838]]\n",
      "22 day input [0.51021954 0.50642302 0.47770636 0.41000981 0.43158978 0.42943421\n",
      " 0.41482586 0.40510152 0.42517162 0.44181417 0.44539223 0.46514191\n",
      " 0.47475944 0.45153366 0.45491752 0.43837206 0.46510792 0.46888017\n",
      " 0.44472225 0.43967317 0.40586859 0.40297508 0.42372486 0.43208013\n",
      " 0.40044568 0.40686869 0.38229325 0.37845789 0.38694424 0.3631213\n",
      " 0.36586432 0.35002282 0.36875783 0.40290711 0.43112857 0.44420763\n",
      " 0.44155201 0.4404451  0.4327501  0.42616687 0.49559176 0.47122508\n",
      " 0.44138209 0.43001194 0.4116896  0.42681743 0.4298663  0.45016944\n",
      " 0.41392285 0.42268592 0.41341308 0.39648895 0.39678995 0.3713649\n",
      " 0.36461661 0.35898494 0.36821408 0.3156308  0.32400548 0.36787909\n",
      " 0.36522347 0.35279981 0.34575052 0.36137354 0.35361543 0.3607327\n",
      " 0.36558759 0.35226092 0.3306324  0.3382837  0.36094146 0.36140753\n",
      " 0.33857014 0.32916622 0.31195565 0.2840449  0.3018769  0.30629485\n",
      " 0.25426736 0.24520254 0.23362553 0.22239888 0.21269879 0.20490655\n",
      " 0.19910923 0.19528899 0.19338256 0.19329828 0.19492328 0.19812912\n",
      " 0.20277715 0.20872405 0.21582723 0.22394842 0.23295891 0.24273875\n",
      " 0.25317875 0.26417917 0.27564776 0.28749838]\n",
      "22 day output [[0.29964387]]\n",
      "23 day input [0.50642302 0.47770636 0.41000981 0.43158978 0.42943421 0.41482586\n",
      " 0.40510152 0.42517162 0.44181417 0.44539223 0.46514191 0.47475944\n",
      " 0.45153366 0.45491752 0.43837206 0.46510792 0.46888017 0.44472225\n",
      " 0.43967317 0.40586859 0.40297508 0.42372486 0.43208013 0.40044568\n",
      " 0.40686869 0.38229325 0.37845789 0.38694424 0.3631213  0.36586432\n",
      " 0.35002282 0.36875783 0.40290711 0.43112857 0.44420763 0.44155201\n",
      " 0.4404451  0.4327501  0.42616687 0.49559176 0.47122508 0.44138209\n",
      " 0.43001194 0.4116896  0.42681743 0.4298663  0.45016944 0.41392285\n",
      " 0.42268592 0.41341308 0.39648895 0.39678995 0.3713649  0.36461661\n",
      " 0.35898494 0.36821408 0.3156308  0.32400548 0.36787909 0.36522347\n",
      " 0.35279981 0.34575052 0.36137354 0.35361543 0.3607327  0.36558759\n",
      " 0.35226092 0.3306324  0.3382837  0.36094146 0.36140753 0.33857014\n",
      " 0.32916622 0.31195565 0.2840449  0.3018769  0.30629485 0.25426736\n",
      " 0.24520254 0.23362553 0.22239888 0.21269879 0.20490655 0.19910923\n",
      " 0.19528899 0.19338256 0.19329828 0.19492328 0.19812912 0.20277715\n",
      " 0.20872405 0.21582723 0.22394842 0.23295891 0.24273875 0.25317875\n",
      " 0.26417917 0.27564776 0.28749838 0.29964387]\n",
      "23 day output [[0.31199387]]\n",
      "24 day input [0.47770636 0.41000981 0.43158978 0.42943421 0.41482586 0.40510152\n",
      " 0.42517162 0.44181417 0.44539223 0.46514191 0.47475944 0.45153366\n",
      " 0.45491752 0.43837206 0.46510792 0.46888017 0.44472225 0.43967317\n",
      " 0.40586859 0.40297508 0.42372486 0.43208013 0.40044568 0.40686869\n",
      " 0.38229325 0.37845789 0.38694424 0.3631213  0.36586432 0.35002282\n",
      " 0.36875783 0.40290711 0.43112857 0.44420763 0.44155201 0.4404451\n",
      " 0.4327501  0.42616687 0.49559176 0.47122508 0.44138209 0.43001194\n",
      " 0.4116896  0.42681743 0.4298663  0.45016944 0.41392285 0.42268592\n",
      " 0.41341308 0.39648895 0.39678995 0.3713649  0.36461661 0.35898494\n",
      " 0.36821408 0.3156308  0.32400548 0.36787909 0.36522347 0.35279981\n",
      " 0.34575052 0.36137354 0.35361543 0.3607327  0.36558759 0.35226092\n",
      " 0.3306324  0.3382837  0.36094146 0.36140753 0.33857014 0.32916622\n",
      " 0.31195565 0.2840449  0.3018769  0.30629485 0.25426736 0.24520254\n",
      " 0.23362553 0.22239888 0.21269879 0.20490655 0.19910923 0.19528899\n",
      " 0.19338256 0.19329828 0.19492328 0.19812912 0.20277715 0.20872405\n",
      " 0.21582723 0.22394842 0.23295891 0.24273875 0.25317875 0.26417917\n",
      " 0.27564776 0.28749838 0.29964387 0.31199387]\n"
     ]
    },
    {
     "name": "stdout",
     "output_type": "stream",
     "text": [
      "24 day output [[0.3244486]]\n",
      "25 day input [0.41000981 0.43158978 0.42943421 0.41482586 0.40510152 0.42517162\n",
      " 0.44181417 0.44539223 0.46514191 0.47475944 0.45153366 0.45491752\n",
      " 0.43837206 0.46510792 0.46888017 0.44472225 0.43967317 0.40586859\n",
      " 0.40297508 0.42372486 0.43208013 0.40044568 0.40686869 0.38229325\n",
      " 0.37845789 0.38694424 0.3631213  0.36586432 0.35002282 0.36875783\n",
      " 0.40290711 0.43112857 0.44420763 0.44155201 0.4404451  0.4327501\n",
      " 0.42616687 0.49559176 0.47122508 0.44138209 0.43001194 0.4116896\n",
      " 0.42681743 0.4298663  0.45016944 0.41392285 0.42268592 0.41341308\n",
      " 0.39648895 0.39678995 0.3713649  0.36461661 0.35898494 0.36821408\n",
      " 0.3156308  0.32400548 0.36787909 0.36522347 0.35279981 0.34575052\n",
      " 0.36137354 0.35361543 0.3607327  0.36558759 0.35226092 0.3306324\n",
      " 0.3382837  0.36094146 0.36140753 0.33857014 0.32916622 0.31195565\n",
      " 0.2840449  0.3018769  0.30629485 0.25426736 0.24520254 0.23362553\n",
      " 0.22239888 0.21269879 0.20490655 0.19910923 0.19528899 0.19338256\n",
      " 0.19329828 0.19492328 0.19812912 0.20277715 0.20872405 0.21582723\n",
      " 0.22394842 0.23295891 0.24273875 0.25317875 0.26417917 0.27564776\n",
      " 0.28749838 0.29964387 0.31199387 0.32444859]\n",
      "25 day output [[0.33689207]]\n",
      "26 day input [0.43158978 0.42943421 0.41482586 0.40510152 0.42517162 0.44181417\n",
      " 0.44539223 0.46514191 0.47475944 0.45153366 0.45491752 0.43837206\n",
      " 0.46510792 0.46888017 0.44472225 0.43967317 0.40586859 0.40297508\n",
      " 0.42372486 0.43208013 0.40044568 0.40686869 0.38229325 0.37845789\n",
      " 0.38694424 0.3631213  0.36586432 0.35002282 0.36875783 0.40290711\n",
      " 0.43112857 0.44420763 0.44155201 0.4404451  0.4327501  0.42616687\n",
      " 0.49559176 0.47122508 0.44138209 0.43001194 0.4116896  0.42681743\n",
      " 0.4298663  0.45016944 0.41392285 0.42268592 0.41341308 0.39648895\n",
      " 0.39678995 0.3713649  0.36461661 0.35898494 0.36821408 0.3156308\n",
      " 0.32400548 0.36787909 0.36522347 0.35279981 0.34575052 0.36137354\n",
      " 0.35361543 0.3607327  0.36558759 0.35226092 0.3306324  0.3382837\n",
      " 0.36094146 0.36140753 0.33857014 0.32916622 0.31195565 0.2840449\n",
      " 0.3018769  0.30629485 0.25426736 0.24520254 0.23362553 0.22239888\n",
      " 0.21269879 0.20490655 0.19910923 0.19528899 0.19338256 0.19329828\n",
      " 0.19492328 0.19812912 0.20277715 0.20872405 0.21582723 0.22394842\n",
      " 0.23295891 0.24273875 0.25317875 0.26417917 0.27564776 0.28749838\n",
      " 0.29964387 0.31199387 0.32444859 0.33689207]\n",
      "26 day output [[0.34918648]]\n",
      "27 day input [0.42943421 0.41482586 0.40510152 0.42517162 0.44181417 0.44539223\n",
      " 0.46514191 0.47475944 0.45153366 0.45491752 0.43837206 0.46510792\n",
      " 0.46888017 0.44472225 0.43967317 0.40586859 0.40297508 0.42372486\n",
      " 0.43208013 0.40044568 0.40686869 0.38229325 0.37845789 0.38694424\n",
      " 0.3631213  0.36586432 0.35002282 0.36875783 0.40290711 0.43112857\n",
      " 0.44420763 0.44155201 0.4404451  0.4327501  0.42616687 0.49559176\n",
      " 0.47122508 0.44138209 0.43001194 0.4116896  0.42681743 0.4298663\n",
      " 0.45016944 0.41392285 0.42268592 0.41341308 0.39648895 0.39678995\n",
      " 0.3713649  0.36461661 0.35898494 0.36821408 0.3156308  0.32400548\n",
      " 0.36787909 0.36522347 0.35279981 0.34575052 0.36137354 0.35361543\n",
      " 0.3607327  0.36558759 0.35226092 0.3306324  0.3382837  0.36094146\n",
      " 0.36140753 0.33857014 0.32916622 0.31195565 0.2840449  0.3018769\n",
      " 0.30629485 0.25426736 0.24520254 0.23362553 0.22239888 0.21269879\n",
      " 0.20490655 0.19910923 0.19528899 0.19338256 0.19329828 0.19492328\n",
      " 0.19812912 0.20277715 0.20872405 0.21582723 0.22394842 0.23295891\n",
      " 0.24273875 0.25317875 0.26417917 0.27564776 0.28749838 0.29964387\n",
      " 0.31199387 0.32444859 0.33689207 0.34918648]\n",
      "27 day output [[0.36116055]]\n",
      "28 day input [0.41482586 0.40510152 0.42517162 0.44181417 0.44539223 0.46514191\n",
      " 0.47475944 0.45153366 0.45491752 0.43837206 0.46510792 0.46888017\n",
      " 0.44472225 0.43967317 0.40586859 0.40297508 0.42372486 0.43208013\n",
      " 0.40044568 0.40686869 0.38229325 0.37845789 0.38694424 0.3631213\n",
      " 0.36586432 0.35002282 0.36875783 0.40290711 0.43112857 0.44420763\n",
      " 0.44155201 0.4404451  0.4327501  0.42616687 0.49559176 0.47122508\n",
      " 0.44138209 0.43001194 0.4116896  0.42681743 0.4298663  0.45016944\n",
      " 0.41392285 0.42268592 0.41341308 0.39648895 0.39678995 0.3713649\n",
      " 0.36461661 0.35898494 0.36821408 0.3156308  0.32400548 0.36787909\n",
      " 0.36522347 0.35279981 0.34575052 0.36137354 0.35361543 0.3607327\n",
      " 0.36558759 0.35226092 0.3306324  0.3382837  0.36094146 0.36140753\n",
      " 0.33857014 0.32916622 0.31195565 0.2840449  0.3018769  0.30629485\n",
      " 0.25426736 0.24520254 0.23362553 0.22239888 0.21269879 0.20490655\n",
      " 0.19910923 0.19528899 0.19338256 0.19329828 0.19492328 0.19812912\n",
      " 0.20277715 0.20872405 0.21582723 0.22394842 0.23295891 0.24273875\n",
      " 0.25317875 0.26417917 0.27564776 0.28749838 0.29964387 0.31199387\n",
      " 0.32444859 0.33689207 0.34918648 0.36116055]\n",
      "28 day output [[0.37260813]]\n",
      "29 day input [0.40510152 0.42517162 0.44181417 0.44539223 0.46514191 0.47475944\n",
      " 0.45153366 0.45491752 0.43837206 0.46510792 0.46888017 0.44472225\n",
      " 0.43967317 0.40586859 0.40297508 0.42372486 0.43208013 0.40044568\n",
      " 0.40686869 0.38229325 0.37845789 0.38694424 0.3631213  0.36586432\n",
      " 0.35002282 0.36875783 0.40290711 0.43112857 0.44420763 0.44155201\n",
      " 0.4404451  0.4327501  0.42616687 0.49559176 0.47122508 0.44138209\n",
      " 0.43001194 0.4116896  0.42681743 0.4298663  0.45016944 0.41392285\n",
      " 0.42268592 0.41341308 0.39648895 0.39678995 0.3713649  0.36461661\n",
      " 0.35898494 0.36821408 0.3156308  0.32400548 0.36787909 0.36522347\n",
      " 0.35279981 0.34575052 0.36137354 0.35361543 0.3607327  0.36558759\n",
      " 0.35226092 0.3306324  0.3382837  0.36094146 0.36140753 0.33857014\n",
      " 0.32916622 0.31195565 0.2840449  0.3018769  0.30629485 0.25426736\n",
      " 0.24520254 0.23362553 0.22239888 0.21269879 0.20490655 0.19910923\n",
      " 0.19528899 0.19338256 0.19329828 0.19492328 0.19812912 0.20277715\n",
      " 0.20872405 0.21582723 0.22394842 0.23295891 0.24273875 0.25317875\n",
      " 0.26417917 0.27564776 0.28749838 0.29964387 0.31199387 0.32444859\n",
      " 0.33689207 0.34918648 0.36116055 0.37260813]\n",
      "29 day output [[0.3832792]]\n",
      "[[0.2542673647403717], [0.24520254135131836], [0.23362553119659424], [0.22239887714385986], [0.2126987874507904], [0.20490655303001404], [0.19910922646522522], [0.1952889859676361], [0.19338256120681763], [0.19329828023910522], [0.1949232816696167], [0.19812911748886108], [0.20277714729309082], [0.20872405171394348], [0.21582722663879395], [0.2239484190940857], [0.23295891284942627], [0.2427387535572052], [0.25317874550819397], [0.26417917013168335], [0.27564775943756104], [0.2874983847141266], [0.299643874168396], [0.31199386715888977], [0.3244485855102539], [0.3368920683860779], [0.3491864800453186], [0.361160546541214], [0.37260812520980835], [0.3832792043685913]]\n"
     ]
    }
   ],
   "source": [
    "# demonstrate prediction for next 10 days\n",
    "from numpy import array\n",
    "\n",
    "lst_output=[]\n",
    "n_steps=100\n",
    "i=0\n",
    "while(i<30):\n",
    "    \n",
    "    if(len(temp_input)>100):\n",
    "        #print(temp_input)\n",
    "        x_input=np.array(temp_input[1:])\n",
    "        print(\"{} day input {}\".format(i,x_input))\n",
    "        x_input=x_input.reshape(1,-1)\n",
    "        x_input = x_input.reshape((1, n_steps, 1))\n",
    "        #print(x_input)\n",
    "        yhat = model.predict(x_input, verbose=0)\n",
    "        print(\"{} day output {}\".format(i,yhat))\n",
    "        temp_input.extend(yhat[0].tolist())\n",
    "        temp_input=temp_input[1:]\n",
    "        #print(temp_input)\n",
    "        lst_output.extend(yhat.tolist())\n",
    "        i=i+1\n",
    "    else:\n",
    "        x_input = x_input.reshape((1, n_steps,1))\n",
    "        yhat = model.predict(x_input, verbose=0)\n",
    "        print(yhat[0])\n",
    "        temp_input.extend(yhat[0].tolist())\n",
    "        print(len(temp_input))\n",
    "        lst_output.extend(yhat.tolist())\n",
    "        i=i+1\n",
    "    \n",
    "\n",
    "print(lst_output)"
   ]
  },
  {
   "cell_type": "code",
   "execution_count": 32,
   "id": "4df5c75d",
   "metadata": {},
   "outputs": [
    {
     "data": {
      "text/plain": [
       "1259"
      ]
     },
     "execution_count": 32,
     "metadata": {},
     "output_type": "execute_result"
    }
   ],
   "source": [
    "day_new=np.arange(1,101)\n",
    "day_pred=np.arange(101,131)\n",
    "len(df1)"
   ]
  },
  {
   "cell_type": "code",
   "execution_count": 33,
   "id": "081783e7",
   "metadata": {},
   "outputs": [
    {
     "data": {
      "text/plain": [
       "[<matplotlib.lines.Line2D at 0x2da59c50370>]"
      ]
     },
     "execution_count": 33,
     "metadata": {},
     "output_type": "execute_result"
    },
    {
     "data": {
      "image/png": "[encoded data removed]",
      "text/plain": [
       "<Figure size 432x288 with 1 Axes>"
      ]
     },
     "metadata": {
      "needs_background": "light"
     },
     "output_type": "display_data"
    }
   ],
   "source": [
    "plt.plot(day_new,scalar.inverse_transform(df1[1159:]))\n",
    "plt.plot(day_pred,scalar.inverse_transform(lst_output))"
   ]
  },
  {
   "cell_type": "code",
   "execution_count": 34,
   "id": "5df3c2be",
   "metadata": {},
   "outputs": [
    {
     "data": {
      "text/plain": [
       "[<matplotlib.lines.Line2D at 0x2da59c83250>]"
      ]
     },
     "execution_count": 34,
     "metadata": {},
     "output_type": "execute_result"
    },
    {
     "data": {
      "image/png": "[encoded data removed]",
      "text/plain": [
       "<Figure size 432x288 with 1 Axes>"
      ]
     },
     "metadata": {
      "needs_background": "light"
     },
     "output_type": "display_data"
    }
   ],
   "source": [
    "#combining df1 to the lst output\n",
    "df3=df1.tolist()\n",
    "df3.extend(lst_output)\n",
    "plt.plot(df3[1200:])"
   ]
  },
  {
   "cell_type": "code",
   "execution_count": 35,
   "id": "ea357022",
   "metadata": {},
   "outputs": [
    {
     "data": {
      "text/plain": [
       "[<matplotlib.lines.Line2D at 0x2da59befb50>]"
      ]
     },
     "execution_count": 35,
     "metadata": {},
     "output_type": "execute_result"
    },
    {
     "data": {
      "image/png": "[encoded data removed]",
      "text/plain": [
       "<Figure size 432x288 with 1 Axes>"
      ]
     },
     "metadata": {
      "needs_background": "light"
     },
     "output_type": "display_data"
    }
   ],
   "source": [
    "df3=scalar.inverse_transform(df3).tolist()\n",
    "plt.plot(df3)\n"
   ]
  },
  {
   "cell_type": "code",
   "execution_count": null,
   "id": "be1ff0b6",
   "metadata": {},
   "outputs": [],
   "source": []
  }
 ],
 "metadata": {
  "kernelspec": {
   "display_name": "Python 3",
   "language": "python",
   "name": "python3"
  },
  "language_info": {
   "codemirror_mode": {
    "name": "ipython",
    "version": 3
   },
   "file_extension": ".py",
   "mimetype": "text/x-python",
   "name": "python",
   "nbconvert_exporter": "python",
   "pygments_lexer": "ipython3",
   "version": "3.8.8"
  }
 },
 "nbformat": 4,
 "nbformat_minor": 5
}
