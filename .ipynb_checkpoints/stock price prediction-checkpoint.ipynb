{
 "cells": [
  {
   "cell_type": "code",
   "execution_count": 1,
   "id": "cfd80731",
   "metadata": {},
   "outputs": [],
   "source": [
    "import pandas as pd\n",
    "\n",
    "import pandas_datareader as pdr\n",
    "#helps in remotely accessing data from sites\n",
    "\n",
    "import matplotlib.pyplot as plt"
   ]
  },
  {
   "cell_type": "markdown",
   "id": "acabc882",
   "metadata": {},
   "source": [
    "# Data Collection\n",
    "Importing stock data from Tiingo, which is supported by pandas_datareader\n",
    "stock price for aaple- AAPL"
   ]
  },
  {
   "cell_type": "code",
   "execution_count": 2,
   "id": "25b4ad1d",
   "metadata": {},
   "outputs": [],
   "source": [
    "df= pdr.get_data_tiingo('AAPL', api_key=\"77f2b1c33ecff205fd3489be2a3b5d3ad9595913\"\n",
    ")"
   ]
  },
  {
   "cell_type": "code",
   "execution_count": 3,
   "id": "5f6080b4",
   "metadata": {},
   "outputs": [],
   "source": [
    "df.to_csv('AAPL.csv')"
   ]
  },
  {
   "cell_type": "code",
   "execution_count": 4,
   "id": "5d6104dc",
   "metadata": {},
   "outputs": [
    {
     "data": {
      "text/html": [
       "<div>\n",
       "<style scoped>\n",
       "    .dataframe tbody tr th:only-of-type {\n",
       "        vertical-align: middle;\n",
       "    }\n",
       "\n",
       "    .dataframe tbody tr th {\n",
       "        vertical-align: top;\n",
       "    }\n",
       "\n",
       "    .dataframe thead th {\n",
       "        text-align: right;\n",
       "    }\n",
       "</style>\n",
       "<table border=\"1\" class=\"dataframe\">\n",
       "  <thead>\n",
       "    <tr style=\"text-align: right;\">\n",
       "      <th></th>\n",
       "      <th>symbol</th>\n",
       "      <th>date</th>\n",
       "      <th>close</th>\n",
       "      <th>high</th>\n",
       "      <th>low</th>\n",
       "      <th>open</th>\n",
       "      <th>volume</th>\n",
       "      <th>adjClose</th>\n",
       "      <th>adjHigh</th>\n",
       "      <th>adjLow</th>\n",
       "      <th>adjOpen</th>\n",
       "      <th>adjVolume</th>\n",
       "      <th>divCash</th>\n",
       "      <th>splitFactor</th>\n",
       "    </tr>\n",
       "  </thead>\n",
       "  <tbody>\n",
       "    <tr>\n",
       "      <th>0</th>\n",
       "      <td>AAPL</td>\n",
       "      <td>2017-02-28 00:00:00+00:00</td>\n",
       "      <td>136.99</td>\n",
       "      <td>137.4350</td>\n",
       "      <td>136.7000</td>\n",
       "      <td>137.080</td>\n",
       "      <td>23482860</td>\n",
       "      <td>32.330164</td>\n",
       "      <td>32.435186</td>\n",
       "      <td>32.261723</td>\n",
       "      <td>32.351404</td>\n",
       "      <td>93931440</td>\n",
       "      <td>0.0</td>\n",
       "      <td>1.0</td>\n",
       "    </tr>\n",
       "    <tr>\n",
       "      <th>1</th>\n",
       "      <td>AAPL</td>\n",
       "      <td>2017-03-01 00:00:00+00:00</td>\n",
       "      <td>139.79</td>\n",
       "      <td>140.1500</td>\n",
       "      <td>137.5950</td>\n",
       "      <td>137.890</td>\n",
       "      <td>36414585</td>\n",
       "      <td>32.990975</td>\n",
       "      <td>33.075936</td>\n",
       "      <td>32.472946</td>\n",
       "      <td>32.542568</td>\n",
       "      <td>145658340</td>\n",
       "      <td>0.0</td>\n",
       "      <td>1.0</td>\n",
       "    </tr>\n",
       "    <tr>\n",
       "      <th>2</th>\n",
       "      <td>AAPL</td>\n",
       "      <td>2017-03-02 00:00:00+00:00</td>\n",
       "      <td>138.96</td>\n",
       "      <td>140.2786</td>\n",
       "      <td>138.7600</td>\n",
       "      <td>140.000</td>\n",
       "      <td>26210984</td>\n",
       "      <td>32.795092</td>\n",
       "      <td>33.106286</td>\n",
       "      <td>32.747891</td>\n",
       "      <td>33.040536</td>\n",
       "      <td>104843936</td>\n",
       "      <td>0.0</td>\n",
       "      <td>1.0</td>\n",
       "    </tr>\n",
       "    <tr>\n",
       "      <th>3</th>\n",
       "      <td>AAPL</td>\n",
       "      <td>2017-03-03 00:00:00+00:00</td>\n",
       "      <td>139.78</td>\n",
       "      <td>139.8300</td>\n",
       "      <td>138.5900</td>\n",
       "      <td>138.780</td>\n",
       "      <td>21571121</td>\n",
       "      <td>32.988615</td>\n",
       "      <td>33.000415</td>\n",
       "      <td>32.707770</td>\n",
       "      <td>32.752611</td>\n",
       "      <td>86284484</td>\n",
       "      <td>0.0</td>\n",
       "      <td>1.0</td>\n",
       "    </tr>\n",
       "    <tr>\n",
       "      <th>4</th>\n",
       "      <td>AAPL</td>\n",
       "      <td>2017-03-06 00:00:00+00:00</td>\n",
       "      <td>139.34</td>\n",
       "      <td>139.7700</td>\n",
       "      <td>138.5959</td>\n",
       "      <td>139.365</td>\n",
       "      <td>21750044</td>\n",
       "      <td>32.884773</td>\n",
       "      <td>32.986255</td>\n",
       "      <td>32.709163</td>\n",
       "      <td>32.890673</td>\n",
       "      <td>87000176</td>\n",
       "      <td>0.0</td>\n",
       "      <td>1.0</td>\n",
       "    </tr>\n",
       "  </tbody>\n",
       "</table>\n",
       "</div>"
      ],
      "text/plain": [
       "  symbol                       date   close      high       low     open  \\\n",
       "0   AAPL  2017-02-28 00:00:00+00:00  136.99  137.4350  136.7000  137.080   \n",
       "1   AAPL  2017-03-01 00:00:00+00:00  139.79  140.1500  137.5950  137.890   \n",
       "2   AAPL  2017-03-02 00:00:00+00:00  138.96  140.2786  138.7600  140.000   \n",
       "3   AAPL  2017-03-03 00:00:00+00:00  139.78  139.8300  138.5900  138.780   \n",
       "4   AAPL  2017-03-06 00:00:00+00:00  139.34  139.7700  138.5959  139.365   \n",
       "\n",
       "     volume   adjClose    adjHigh     adjLow    adjOpen  adjVolume  divCash  \\\n",
       "0  23482860  32.330164  32.435186  32.261723  32.351404   93931440      0.0   \n",
       "1  36414585  32.990975  33.075936  32.472946  32.542568  145658340      0.0   \n",
       "2  26210984  32.795092  33.106286  32.747891  33.040536  104843936      0.0   \n",
       "3  21571121  32.988615  33.000415  32.707770  32.752611   86284484      0.0   \n",
       "4  21750044  32.884773  32.986255  32.709163  32.890673   87000176      0.0   \n",
       "\n",
       "   splitFactor  \n",
       "0          1.0  \n",
       "1          1.0  \n",
       "2          1.0  \n",
       "3          1.0  \n",
       "4          1.0  "
      ]
     },
     "execution_count": 4,
     "metadata": {},
     "output_type": "execute_result"
    }
   ],
   "source": [
    "df= pd.read_csv('AAPL.csv')\n",
    "df.head()\n"
   ]
  },
  {
   "cell_type": "code",
   "execution_count": 5,
   "id": "94cde0ee",
   "metadata": {},
   "outputs": [],
   "source": [
    "df1= df.reset_index()['close']\n"
   ]
  },
  {
   "cell_type": "code",
   "execution_count": 6,
   "id": "4fb70acb",
   "metadata": {},
   "outputs": [
    {
     "data": {
      "text/plain": [
       "0    136.99\n",
       "1    139.79\n",
       "2    138.96\n",
       "3    139.78\n",
       "4    139.34\n",
       "Name: close, dtype: float64"
      ]
     },
     "execution_count": 6,
     "metadata": {},
     "output_type": "execute_result"
    }
   ],
   "source": [
    "df1.head()"
   ]
  },
  {
   "cell_type": "code",
   "execution_count": 7,
   "id": "4327b7a9",
   "metadata": {},
   "outputs": [
    {
     "data": {
      "text/plain": [
       "[<matplotlib.lines.Line2D at 0x1181cb06790>]"
      ]
     },
     "execution_count": 7,
     "metadata": {},
     "output_type": "execute_result"
    },
    {
     "data": {
      "image/png": "[encoded data removed]",
      "text/plain": [
       "<Figure size 432x288 with 1 Axes>"
      ]
     },
     "metadata": {
      "needs_background": "light"
     },
     "output_type": "display_data"
    }
   ],
   "source": [
    "plt.plot(df1)"
   ]
  },
  {
   "cell_type": "markdown",
   "id": "8d7324ac",
   "metadata": {},
   "source": [
    "LSTM is sensitive to scale of data, we are using MinMax scalar"
   ]
  },
  {
   "cell_type": "code",
   "execution_count": 8,
   "id": "890e90c9",
   "metadata": {},
   "outputs": [],
   "source": [
    "import numpy as np"
   ]
  },
  {
   "cell_type": "code",
   "execution_count": 9,
   "id": "dcc8aa63",
   "metadata": {},
   "outputs": [
    {
     "name": "stdout",
     "output_type": "stream",
     "text": [
      "[[0.07551659]\n",
      " [0.08252974]\n",
      " [0.08045085]\n",
      " ...\n",
      " [0.13332498]\n",
      " [0.14001252]\n",
      " [0.14529743]]\n"
     ]
    },
    {
     "data": {
      "text/plain": [
       "(1259, 1)"
      ]
     },
     "execution_count": 9,
     "metadata": {},
     "output_type": "execute_result"
    }
   ],
   "source": [
    "from sklearn.preprocessing import MinMaxScaler\n",
    "scalar= MinMaxScaler(feature_range=(0,1))\n",
    "df1= scalar.fit_transform(np.array(df1).reshape(-1,1))\n",
    "\n",
    "print(df1)\n",
    "df1.shape\n"
   ]
  },
  {
   "cell_type": "markdown",
   "id": "9e75097b",
   "metadata": {},
   "source": [
    "# Training and Testing\n",
    "first split the dataset"
   ]
  },
  {
   "cell_type": "code",
   "execution_count": 10,
   "id": "e52ac197",
   "metadata": {},
   "outputs": [],
   "source": [
    "training_size= int(len(df1)*0.65)\n",
    "test_size= len(df1)- training_size\n",
    "train_data, test_data = df1[0:training_size,:], df1[training_size:len(df1), :1]"
   ]
  },
  {
   "cell_type": "code",
   "execution_count": 11,
   "id": "6bf6dbb1",
   "metadata": {},
   "outputs": [
    {
     "data": {
      "text/plain": [
       "(818, 441)"
      ]
     },
     "execution_count": 11,
     "metadata": {},
     "output_type": "execute_result"
    }
   ],
   "source": [
    "training_size, test_size"
   ]
  },
  {
   "cell_type": "code",
   "execution_count": 12,
   "id": "786a89e3",
   "metadata": {},
   "outputs": [
    {
     "data": {
      "text/plain": [
       "(818, 441)"
      ]
     },
     "execution_count": 12,
     "metadata": {},
     "output_type": "execute_result"
    }
   ],
   "source": [
    "len(train_data), len(test_data)"
   ]
  },
  {
   "cell_type": "markdown",
   "id": "275020c2",
   "metadata": {},
   "source": [
    "Assigning time-steps so as to know how many past days dta to be considered for presiction\n"
   ]
  },
  {
   "cell_type": "code",
   "execution_count": 13,
   "id": "0ccb68e0",
   "metadata": {},
   "outputs": [],
   "source": [
    "#Convert an array of values into dataset matrix\n",
    "\n",
    "def create_dataset(dataset, time_step=1):\n",
    "    dataX, dataY= [],[]\n",
    "    for i in range(len(dataset)- time_step-1):\n",
    "        a= dataset[i:(i+time_step), 0]\n",
    "        dataX.append(a)\n",
    "        dataY.append(dataset[i+ time_step, 0])\n",
    "    return np.array(dataX), np.array(dataY)"
   ]
  },
  {
   "cell_type": "code",
   "execution_count": 14,
   "id": "9c975605",
   "metadata": {},
   "outputs": [],
   "source": [
    "#reshape into X=t, t+1, t+2, t+3 and Y=t+4\n",
    "\n",
    "time_step =100\n",
    "x_train, y_train= create_dataset(train_data, time_step)\n",
    "x_test, y_test= create_dataset(test_data, time_step)"
   ]
  },
  {
   "cell_type": "code",
   "execution_count": 20,
   "id": "9fb1e0e2",
   "metadata": {},
   "outputs": [
    {
     "data": {
      "text/plain": [
       "((717, 100), (717,))"
      ]
     },
     "execution_count": 20,
     "metadata": {},
     "output_type": "execute_result"
    }
   ],
   "source": [
    "x_train.shape, y_train.shape"
   ]
  },
  {
   "cell_type": "code",
   "execution_count": 21,
   "id": "0445c78f",
   "metadata": {},
   "outputs": [
    {
     "data": {
      "text/plain": [
       "((340, 100), (340,))"
      ]
     },
     "execution_count": 21,
     "metadata": {},
     "output_type": "execute_result"
    }
   ],
   "source": [
    "x_test.shape, y_test.shape"
   ]
  },
  {
   "cell_type": "markdown",
   "id": "814ec2c8",
   "metadata": {},
   "source": [
    "reshaping input to be [sample, timesteps, features] which wil be used as LSTM"
   ]
  },
  {
   "cell_type": "code",
   "execution_count": 22,
   "id": "f7920f9f",
   "metadata": {},
   "outputs": [],
   "source": [
    "x_train= x_train.reshape(x_train.shape[0], x_train.shape[1],1)\n",
    "x_test= x_test.reshape(x_test.shape[0], x_test.shape[1],1)"
   ]
  },
  {
   "cell_type": "code",
   "execution_count": 24,
   "id": "60d39975",
   "metadata": {},
   "outputs": [
    {
     "ename": "ModuleNotFoundError",
     "evalue": "No module named 'tensorflow.keras.model'",
     "output_type": "error",
     "traceback": [
      "\u001b[1;31m---------------------------------------------------------------------------\u001b[0m",
      "\u001b[1;31mModuleNotFoundError\u001b[0m                       Traceback (most recent call last)",
      "\u001b[1;32m<ipython-input-24-796c46683cec>\u001b[0m in \u001b[0;36m<module>\u001b[1;34m\u001b[0m\n\u001b[1;32m----> 1\u001b[1;33m \u001b[1;32mfrom\u001b[0m \u001b[0mtensorflow\u001b[0m\u001b[1;33m.\u001b[0m\u001b[0mkeras\u001b[0m\u001b[1;33m.\u001b[0m\u001b[0mmodel\u001b[0m \u001b[1;32mimport\u001b[0m \u001b[0mSequential\u001b[0m\u001b[1;33m\u001b[0m\u001b[1;33m\u001b[0m\u001b[0m\n\u001b[0m",
      "\u001b[1;31mModuleNotFoundError\u001b[0m: No module named 'tensorflow.keras.model'"
     ]
    }
   ],
   "source": [
    "from tensorflow.keras.model import Sequential"
   ]
  },
  {
   "cell_type": "code",
   "execution_count": null,
   "id": "83bcc521",
   "metadata": {},
   "outputs": [],
   "source": []
  }
 ],
 "metadata": {
  "kernelspec": {
   "display_name": "Python 3",
   "language": "python",
   "name": "python3"
  },
  "language_info": {
   "codemirror_mode": {
    "name": "ipython",
    "version": 3
   },
   "file_extension": ".py",
   "mimetype": "text/x-python",
   "name": "python",
   "nbconvert_exporter": "python",
   "pygments_lexer": "ipython3",
   "version": "3.8.8"
  }
 },
 "nbformat": 4,
 "nbformat_minor": 5
}
